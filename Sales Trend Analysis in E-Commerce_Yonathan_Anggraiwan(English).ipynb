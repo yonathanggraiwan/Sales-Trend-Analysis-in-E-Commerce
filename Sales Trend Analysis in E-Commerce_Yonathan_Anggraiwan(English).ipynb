{
 "cells": [
  {
   "cell_type": "markdown",
   "id": "4e53f49c",
   "metadata": {},
   "source": [
    "# Project: Sales Trend Analysis in E-Commerce"
   ]
  },
  {
   "cell_type": "markdown",
   "id": "c0161a7a",
   "metadata": {},
   "source": [
    "___\n",
    "\n",
    "## 1. Introduction\n",
    "\n",
    "Name    : Yonathan Anggraiwan\n",
    "\n",
    "I am a data analyst working at an e-commerce company. On this occasion, the company owner asked me to analyze the annual sales data from their stores. I am responsible for delivering accurate analytical insights using statistical calculations, as well as creating a visualization dashboard to present to the store’s senior management.\n",
    "\n",
    "Objective:\n",
    "\n",
    "The objective of this analysis process is to thoroughly understand the dataset, perform the analysis, and develop an interactive dashboard for presentation."
   ]
  },
  {
   "cell_type": "markdown",
   "id": "ab90b14e",
   "metadata": {},
   "source": [
    "___\n",
    "## 2. Import Libraries"
   ]
  },
  {
   "cell_type": "code",
   "execution_count": 1,
   "id": "37db502a",
   "metadata": {},
   "outputs": [],
   "source": [
    "import pandas as pd                         # Import package pandas\n",
    "import scipy as sp                          # Import package scipy\n",
    "import statistics as stats                  # Import package statistics\n",
    "import numpy as np                          # Import package numpy\n",
    "import matplotlib.pyplot as plt             # Import package matplotlib.pyplot\n",
    "import seaborn as sns                       # Import package seaborn\n",
    "from scipy import stats                     # Import stats dalam package scipy untuk akses pengolahan statistika\n",
    "import plotly.express as px                 # Import plotly express untuk package visualisasi plotly\n",
    "import warnings\n",
    "warnings.filterwarnings(\"ignore\")"
   ]
  },
  {
   "cell_type": "markdown",
   "id": "29a5f41d",
   "metadata": {},
   "source": [
    "___\n",
    "## 3. Business Understanding / Problem Statement "
   ]
  },
  {
   "cell_type": "markdown",
   "id": "c917fe49",
   "metadata": {},
   "source": [
    "**Problem Topic:**  \n",
    "The main challenge of this analysis process lies in selecting the appropriate methods for data analysis and visualization. Additionally, it's important to identify whether there are correlations or relationships among the dataset’s columns or features.\n",
    "\n",
    "**SMART Framework:**\n",
    "\n",
    "- **Specific:** Identify product sales trends to improve future sales performance at the department store where I work.  \n",
    "- **Measurable:** Increase store sales by 10% by leveraging insights from trend analysis. The key metric is *Customer Loyalty with Retention*, which reflects how the company attracts, convinces, and retains customers to make repeat purchases. The ultimate goal is to build long-term, profitable relationships to sustain growth.  \n",
    "- **Achievable:** By understanding product sales trends, the 10% sales increase is attainable.  \n",
    "- **Relevant:** Studying product sales trends directly supports the objective of boosting store performance.  \n",
    "- **Time-bound:** The sales trend analysis will be completed within 6 days, while the targeted 10% increase in annual sales is projected to be reached within one year.\n",
    "\n",
    "By analyzing product sales trends over a six-day period, I aim to optimize strategies based on the *Customer Loyalty with Retention* metric, aligning closely with consumer preferences to help drive a 10% sales increase in the following year."
   ]
  },
  {
   "cell_type": "markdown",
   "id": "73142c10",
   "metadata": {},
   "source": [
    "___\n",
    "## 3. Data Loading"
   ]
  },
  {
   "cell_type": "markdown",
   "id": "54abc7b5",
   "metadata": {},
   "source": [
    "Dataset Source:\n",
    "The dataset I used was obtained from the website Kaggle.com and can be accessed via [this link.](https://www.kaggle.com/datasets/zeesolver/consumer-behavior-and-shopping-habits-dataset/data)\n",
    "\n",
    "After downloading the dataset, I loaded it using the pandas syntax in Python."
   ]
  },
  {
   "cell_type": "code",
   "execution_count": 2,
   "id": "782b78c8",
   "metadata": {},
   "outputs": [
    {
     "data": {
      "text/html": [
       "<div>\n",
       "<style scoped>\n",
       "    .dataframe tbody tr th:only-of-type {\n",
       "        vertical-align: middle;\n",
       "    }\n",
       "\n",
       "    .dataframe tbody tr th {\n",
       "        vertical-align: top;\n",
       "    }\n",
       "\n",
       "    .dataframe thead th {\n",
       "        text-align: right;\n",
       "    }\n",
       "</style>\n",
       "<table border=\"1\" class=\"dataframe\">\n",
       "  <thead>\n",
       "    <tr style=\"text-align: right;\">\n",
       "      <th></th>\n",
       "      <th>Customer ID</th>\n",
       "      <th>Age</th>\n",
       "      <th>Gender</th>\n",
       "      <th>Item Purchased</th>\n",
       "      <th>Category</th>\n",
       "      <th>Purchase Amount (USD)</th>\n",
       "      <th>Location</th>\n",
       "      <th>Size</th>\n",
       "      <th>Color</th>\n",
       "      <th>Season</th>\n",
       "      <th>Review Rating</th>\n",
       "      <th>Subscription Status</th>\n",
       "      <th>Payment Method</th>\n",
       "      <th>Shipping Type</th>\n",
       "      <th>Discount Applied</th>\n",
       "      <th>Promo Code Used</th>\n",
       "      <th>Previous Purchases</th>\n",
       "      <th>Preferred Payment Method</th>\n",
       "      <th>Frequency of Purchases</th>\n",
       "    </tr>\n",
       "  </thead>\n",
       "  <tbody>\n",
       "    <tr>\n",
       "      <th>0</th>\n",
       "      <td>1</td>\n",
       "      <td>55</td>\n",
       "      <td>Male</td>\n",
       "      <td>Blouse</td>\n",
       "      <td>Clothing</td>\n",
       "      <td>53</td>\n",
       "      <td>Kentucky</td>\n",
       "      <td>L</td>\n",
       "      <td>Gray</td>\n",
       "      <td>Winter</td>\n",
       "      <td>3.1</td>\n",
       "      <td>Yes</td>\n",
       "      <td>Credit Card</td>\n",
       "      <td>Express</td>\n",
       "      <td>Yes</td>\n",
       "      <td>Yes</td>\n",
       "      <td>14</td>\n",
       "      <td>Venmo</td>\n",
       "      <td>Fortnightly</td>\n",
       "    </tr>\n",
       "    <tr>\n",
       "      <th>1</th>\n",
       "      <td>2</td>\n",
       "      <td>19</td>\n",
       "      <td>Male</td>\n",
       "      <td>Sweater</td>\n",
       "      <td>Clothing</td>\n",
       "      <td>64</td>\n",
       "      <td>Maine</td>\n",
       "      <td>L</td>\n",
       "      <td>Maroon</td>\n",
       "      <td>Winter</td>\n",
       "      <td>3.1</td>\n",
       "      <td>Yes</td>\n",
       "      <td>Bank Transfer</td>\n",
       "      <td>Express</td>\n",
       "      <td>Yes</td>\n",
       "      <td>Yes</td>\n",
       "      <td>2</td>\n",
       "      <td>Cash</td>\n",
       "      <td>Fortnightly</td>\n",
       "    </tr>\n",
       "    <tr>\n",
       "      <th>2</th>\n",
       "      <td>3</td>\n",
       "      <td>50</td>\n",
       "      <td>Male</td>\n",
       "      <td>Jeans</td>\n",
       "      <td>Clothing</td>\n",
       "      <td>73</td>\n",
       "      <td>Massachusetts</td>\n",
       "      <td>S</td>\n",
       "      <td>Maroon</td>\n",
       "      <td>Spring</td>\n",
       "      <td>3.1</td>\n",
       "      <td>Yes</td>\n",
       "      <td>Cash</td>\n",
       "      <td>Free Shipping</td>\n",
       "      <td>Yes</td>\n",
       "      <td>Yes</td>\n",
       "      <td>23</td>\n",
       "      <td>Credit Card</td>\n",
       "      <td>Weekly</td>\n",
       "    </tr>\n",
       "  </tbody>\n",
       "</table>\n",
       "</div>"
      ],
      "text/plain": [
       "   Customer ID  Age Gender Item Purchased  Category  Purchase Amount (USD)  \\\n",
       "0            1   55   Male         Blouse  Clothing                     53   \n",
       "1            2   19   Male        Sweater  Clothing                     64   \n",
       "2            3   50   Male          Jeans  Clothing                     73   \n",
       "\n",
       "        Location Size   Color  Season  Review Rating Subscription Status  \\\n",
       "0       Kentucky    L    Gray  Winter            3.1                 Yes   \n",
       "1          Maine    L  Maroon  Winter            3.1                 Yes   \n",
       "2  Massachusetts    S  Maroon  Spring            3.1                 Yes   \n",
       "\n",
       "  Payment Method  Shipping Type Discount Applied Promo Code Used  \\\n",
       "0    Credit Card        Express              Yes             Yes   \n",
       "1  Bank Transfer        Express              Yes             Yes   \n",
       "2           Cash  Free Shipping              Yes             Yes   \n",
       "\n",
       "   Previous Purchases Preferred Payment Method Frequency of Purchases  \n",
       "0                  14                    Venmo            Fortnightly  \n",
       "1                   2                     Cash            Fortnightly  \n",
       "2                  23              Credit Card                 Weekly  "
      ]
     },
     "execution_count": 2,
     "metadata": {},
     "output_type": "execute_result"
    }
   ],
   "source": [
    "df = pd.read_csv(\"Sales Trend Analysis in E-Commerce.csv\")\n",
    "df.head(3)"
   ]
  },
  {
   "cell_type": "markdown",
   "id": "f5d73f23",
   "metadata": {},
   "source": [
    "**Insight:**  \n",
    "This dataset contains consumer shopping transaction records, featuring several columns that reflect various aspects of consumer behavior. It includes 14 categorical variables and 5 numerical ones, with a total of 3,900 rows.\n",
    "\n",
    "Below is a brief overview of the columns:\n",
    "\n",
    "1. **Customer ID** – Unique identifier for each customer  \n",
    "2. **Age** – Customer's age  \n",
    "3. **Gender** – Customer's gender  \n",
    "4. **Item Purchased** – Item bought (e.g., blouse, sweater, jeans, sandals, etc.)  \n",
    "5. **Category** – Product category (e.g., clothing, footwear, outerwear, accessories)  \n",
    "6. **Purchase Amount (USD)** – Total amount spent by the customer in USD  \n",
    "7. **Location** – Transaction location  \n",
    "8. **Size** – Size of the purchased item (S, M, L, XL)  \n",
    "9. **Color** – Color of the purchased item  \n",
    "10. **Season** – Season in which the purchase was made  \n",
    "11. **Review Rating** – Rating provided by the customer  \n",
    "12. **Subscription Status** – Customer's membership status  \n",
    "13. **Payment Method** – Payment method used  \n",
    "14. **Discount Applied** – Whether a discount was applied  \n",
    "15. **Promo Code Used** – Whether a promo code was used  \n",
    "16. **Previous Purchases** – Total previous spending (USD)  \n",
    "17. **Preferred Payment Method** – Customer’s preferred payment option  \n",
    "18. **Frequency of Purchases** – Frequency of customer purchases\n",
    "\n",
    "Several of these columns—such as payment method, shipping type, discount applied, previous purchases, preferred payment method, and frequency of purchases—serve as indicators of consumer behavior.\n",
    "\n",
    "However, after initial analysis, it became apparent that the user is more interested in understanding variable relationships and visual data representation for identifying sales trends. Therefore, some behavior-related columns may not be the main focus in this context.\n",
    "\n",
    "At first glance, the data values appear to be consistent and valid, but I plan to investigate them further to ensure accuracy and quality."
   ]
  },
  {
   "cell_type": "markdown",
   "id": "dc5192dc",
   "metadata": {},
   "source": [
    "___\n",
    "## 4. Data Preprocessing"
   ]
  },
  {
   "cell_type": "markdown",
   "id": "b09b8ab1",
   "metadata": {},
   "source": [
    "I want to analyze the data further using pandas syntax."
   ]
  },
  {
   "cell_type": "code",
   "execution_count": 3,
   "id": "8b5b4d3d",
   "metadata": {},
   "outputs": [
    {
     "data": {
      "text/plain": [
       "(3900, 19)"
      ]
     },
     "execution_count": 3,
     "metadata": {},
     "output_type": "execute_result"
    }
   ],
   "source": [
    "df.shape"
   ]
  },
  {
   "cell_type": "markdown",
   "id": "add6369b",
   "metadata": {},
   "source": [
    "The dataset contains 3,900 entries across 17 variables."
   ]
  },
  {
   "cell_type": "code",
   "execution_count": 4,
   "id": "ddadba56",
   "metadata": {},
   "outputs": [
    {
     "name": "stdout",
     "output_type": "stream",
     "text": [
      "<class 'pandas.core.frame.DataFrame'>\n",
      "RangeIndex: 3900 entries, 0 to 3899\n",
      "Data columns (total 19 columns):\n",
      " #   Column                    Non-Null Count  Dtype  \n",
      "---  ------                    --------------  -----  \n",
      " 0   Customer ID               3900 non-null   int64  \n",
      " 1   Age                       3900 non-null   int64  \n",
      " 2   Gender                    3900 non-null   object \n",
      " 3   Item Purchased            3900 non-null   object \n",
      " 4   Category                  3900 non-null   object \n",
      " 5   Purchase Amount (USD)     3900 non-null   int64  \n",
      " 6   Location                  3900 non-null   object \n",
      " 7   Size                      3900 non-null   object \n",
      " 8   Color                     3900 non-null   object \n",
      " 9   Season                    3900 non-null   object \n",
      " 10  Review Rating             3900 non-null   float64\n",
      " 11  Subscription Status       3900 non-null   object \n",
      " 12  Payment Method            3900 non-null   object \n",
      " 13  Shipping Type             3900 non-null   object \n",
      " 14  Discount Applied          3900 non-null   object \n",
      " 15  Promo Code Used           3900 non-null   object \n",
      " 16  Previous Purchases        3900 non-null   int64  \n",
      " 17  Preferred Payment Method  3900 non-null   object \n",
      " 18  Frequency of Purchases    3900 non-null   object \n",
      "dtypes: float64(1), int64(4), object(14)\n",
      "memory usage: 579.0+ KB\n"
     ]
    }
   ],
   "source": [
    "df.info()"
   ]
  },
  {
   "cell_type": "markdown",
   "id": "f2195970",
   "metadata": {},
   "source": [
    "**Insight:**\n",
    "\n",
    "There are no missing values in the dataset, and the data types of each column appear to be appropriately assigned. \n",
    "\n",
    "However, a further check will be conducted using pandas syntax to ensure data integrity and consistency.\n",
    "___"
   ]
  },
  {
   "cell_type": "code",
   "execution_count": 5,
   "id": "308a1d70",
   "metadata": {},
   "outputs": [
    {
     "data": {
      "text/plain": [
       "np.int64(0)"
      ]
     },
     "execution_count": 5,
     "metadata": {},
     "output_type": "execute_result"
    }
   ],
   "source": [
    "df.isna().sum().sum()"
   ]
  },
  {
   "cell_type": "markdown",
   "id": "d396a0b7",
   "metadata": {},
   "source": [
    "**Insight:**\n",
    "\n",
    "It is confirmed that there are no missing values in the dataset, and all data types are correctly assigned. \n",
    "\n",
    "However, to ensure data cleanliness, it's important to check for duplicate records."
   ]
  },
  {
   "cell_type": "code",
   "execution_count": 6,
   "id": "3898ac39",
   "metadata": {},
   "outputs": [
    {
     "data": {
      "text/plain": [
       "np.int64(0)"
      ]
     },
     "execution_count": 6,
     "metadata": {},
     "output_type": "execute_result"
    }
   ],
   "source": [
    "# check data duplikat\n",
    "df.duplicated().sum()"
   ]
  },
  {
   "cell_type": "markdown",
   "id": "ee4141c4",
   "metadata": {},
   "source": [
    "**Insight:**\n",
    "\n",
    "There are no duplicate records in the dataset, which makes the data suitable for further processing.\n",
    "However, there is semantic overlap between the columns “Discount Applied” and “Promo Code Used.” \n",
    "\n",
    "The “Discount Applied” column captures whether a customer received a price reduction during the transaction, which inherently involves the use of a promotional code. \n",
    "\n",
    "Given this redundancy, I have chosen to drop the “Promo Code Used” column to avoid duplicate information and improve data clarity.\n",
    "___"
   ]
  },
  {
   "cell_type": "code",
   "execution_count": 7,
   "id": "23779a92",
   "metadata": {},
   "outputs": [],
   "source": [
    "df = df.drop(columns=[\"Promo Code Used\"])"
   ]
  },
  {
   "cell_type": "markdown",
   "id": "e26dbc1e",
   "metadata": {},
   "source": [
    "**Insight:**\n",
    "\n",
    "The \"Promo Code Used\" column has been removed from the dataset due to its redundancy with \"Discount Applied.\"\n",
    "\n",
    "Next, to streamline the coding process and improve readability, several columns with lengthy names have been renamed with shorter, more concise labels.\n",
    "\n",
    "In addition, the \"Customer ID\" column has been set as the dataset index to facilitate easier referencing and data management throughout the analysis.\n",
    "___"
   ]
  },
  {
   "cell_type": "code",
   "execution_count": 8,
   "id": "6f124cd8",
   "metadata": {},
   "outputs": [
    {
     "data": {
      "text/html": [
       "<div>\n",
       "<style scoped>\n",
       "    .dataframe tbody tr th:only-of-type {\n",
       "        vertical-align: middle;\n",
       "    }\n",
       "\n",
       "    .dataframe tbody tr th {\n",
       "        vertical-align: top;\n",
       "    }\n",
       "\n",
       "    .dataframe thead th {\n",
       "        text-align: right;\n",
       "    }\n",
       "</style>\n",
       "<table border=\"1\" class=\"dataframe\">\n",
       "  <thead>\n",
       "    <tr style=\"text-align: right;\">\n",
       "      <th></th>\n",
       "      <th>Age</th>\n",
       "      <th>Gender</th>\n",
       "      <th>Item Purchased</th>\n",
       "      <th>Category</th>\n",
       "      <th>PA</th>\n",
       "      <th>Location</th>\n",
       "      <th>Size</th>\n",
       "      <th>Color</th>\n",
       "      <th>Season</th>\n",
       "      <th>RR</th>\n",
       "      <th>SS</th>\n",
       "      <th>Payment Method</th>\n",
       "      <th>Shipping Type</th>\n",
       "      <th>DA</th>\n",
       "      <th>PP</th>\n",
       "      <th>PPM</th>\n",
       "      <th>FOP</th>\n",
       "    </tr>\n",
       "    <tr>\n",
       "      <th>Customer ID</th>\n",
       "      <th></th>\n",
       "      <th></th>\n",
       "      <th></th>\n",
       "      <th></th>\n",
       "      <th></th>\n",
       "      <th></th>\n",
       "      <th></th>\n",
       "      <th></th>\n",
       "      <th></th>\n",
       "      <th></th>\n",
       "      <th></th>\n",
       "      <th></th>\n",
       "      <th></th>\n",
       "      <th></th>\n",
       "      <th></th>\n",
       "      <th></th>\n",
       "      <th></th>\n",
       "    </tr>\n",
       "  </thead>\n",
       "  <tbody>\n",
       "    <tr>\n",
       "      <th>1</th>\n",
       "      <td>55</td>\n",
       "      <td>Male</td>\n",
       "      <td>Blouse</td>\n",
       "      <td>Clothing</td>\n",
       "      <td>53</td>\n",
       "      <td>Kentucky</td>\n",
       "      <td>L</td>\n",
       "      <td>Gray</td>\n",
       "      <td>Winter</td>\n",
       "      <td>3.1</td>\n",
       "      <td>Yes</td>\n",
       "      <td>Credit Card</td>\n",
       "      <td>Express</td>\n",
       "      <td>Yes</td>\n",
       "      <td>14</td>\n",
       "      <td>Venmo</td>\n",
       "      <td>Fortnightly</td>\n",
       "    </tr>\n",
       "    <tr>\n",
       "      <th>2</th>\n",
       "      <td>19</td>\n",
       "      <td>Male</td>\n",
       "      <td>Sweater</td>\n",
       "      <td>Clothing</td>\n",
       "      <td>64</td>\n",
       "      <td>Maine</td>\n",
       "      <td>L</td>\n",
       "      <td>Maroon</td>\n",
       "      <td>Winter</td>\n",
       "      <td>3.1</td>\n",
       "      <td>Yes</td>\n",
       "      <td>Bank Transfer</td>\n",
       "      <td>Express</td>\n",
       "      <td>Yes</td>\n",
       "      <td>2</td>\n",
       "      <td>Cash</td>\n",
       "      <td>Fortnightly</td>\n",
       "    </tr>\n",
       "    <tr>\n",
       "      <th>3</th>\n",
       "      <td>50</td>\n",
       "      <td>Male</td>\n",
       "      <td>Jeans</td>\n",
       "      <td>Clothing</td>\n",
       "      <td>73</td>\n",
       "      <td>Massachusetts</td>\n",
       "      <td>S</td>\n",
       "      <td>Maroon</td>\n",
       "      <td>Spring</td>\n",
       "      <td>3.1</td>\n",
       "      <td>Yes</td>\n",
       "      <td>Cash</td>\n",
       "      <td>Free Shipping</td>\n",
       "      <td>Yes</td>\n",
       "      <td>23</td>\n",
       "      <td>Credit Card</td>\n",
       "      <td>Weekly</td>\n",
       "    </tr>\n",
       "    <tr>\n",
       "      <th>4</th>\n",
       "      <td>21</td>\n",
       "      <td>Male</td>\n",
       "      <td>Sandals</td>\n",
       "      <td>Footwear</td>\n",
       "      <td>90</td>\n",
       "      <td>Rhode Island</td>\n",
       "      <td>M</td>\n",
       "      <td>Maroon</td>\n",
       "      <td>Spring</td>\n",
       "      <td>3.5</td>\n",
       "      <td>Yes</td>\n",
       "      <td>PayPal</td>\n",
       "      <td>Next Day Air</td>\n",
       "      <td>Yes</td>\n",
       "      <td>49</td>\n",
       "      <td>PayPal</td>\n",
       "      <td>Weekly</td>\n",
       "    </tr>\n",
       "    <tr>\n",
       "      <th>5</th>\n",
       "      <td>45</td>\n",
       "      <td>Male</td>\n",
       "      <td>Blouse</td>\n",
       "      <td>Clothing</td>\n",
       "      <td>49</td>\n",
       "      <td>Oregon</td>\n",
       "      <td>M</td>\n",
       "      <td>Turquoise</td>\n",
       "      <td>Spring</td>\n",
       "      <td>2.7</td>\n",
       "      <td>Yes</td>\n",
       "      <td>Cash</td>\n",
       "      <td>Free Shipping</td>\n",
       "      <td>Yes</td>\n",
       "      <td>31</td>\n",
       "      <td>PayPal</td>\n",
       "      <td>Annually</td>\n",
       "    </tr>\n",
       "  </tbody>\n",
       "</table>\n",
       "</div>"
      ],
      "text/plain": [
       "             Age Gender Item Purchased  Category  PA       Location Size  \\\n",
       "Customer ID                                                                \n",
       "1             55   Male         Blouse  Clothing  53       Kentucky    L   \n",
       "2             19   Male        Sweater  Clothing  64          Maine    L   \n",
       "3             50   Male          Jeans  Clothing  73  Massachusetts    S   \n",
       "4             21   Male        Sandals  Footwear  90   Rhode Island    M   \n",
       "5             45   Male         Blouse  Clothing  49         Oregon    M   \n",
       "\n",
       "                 Color  Season   RR   SS Payment Method  Shipping Type   DA  \\\n",
       "Customer ID                                                                   \n",
       "1                 Gray  Winter  3.1  Yes    Credit Card        Express  Yes   \n",
       "2               Maroon  Winter  3.1  Yes  Bank Transfer        Express  Yes   \n",
       "3               Maroon  Spring  3.1  Yes           Cash  Free Shipping  Yes   \n",
       "4               Maroon  Spring  3.5  Yes         PayPal   Next Day Air  Yes   \n",
       "5            Turquoise  Spring  2.7  Yes           Cash  Free Shipping  Yes   \n",
       "\n",
       "             PP          PPM          FOP  \n",
       "Customer ID                                \n",
       "1            14        Venmo  Fortnightly  \n",
       "2             2         Cash  Fortnightly  \n",
       "3            23  Credit Card       Weekly  \n",
       "4            49       PayPal       Weekly  \n",
       "5            31       PayPal     Annually  "
      ]
     },
     "execution_count": 8,
     "metadata": {},
     "output_type": "execute_result"
    }
   ],
   "source": [
    "df.rename(columns={\"Purchase Amount (USD)\": \"PA\",\n",
    "                   \"Preferred Payment Method\":\"PPM\",\n",
    "                   \"Frequency of Purchases\":\"FOP\",\n",
    "                   \"Subscription Status\":\"SS\",\n",
    "                   \"Review Rating\":\"RR\",\n",
    "                   \"Discount Applied\":\"DA\",\n",
    "                   \"Previous Purchases\":\"PP\"}, inplace=True)\n",
    "\n",
    "df = df.set_index('Customer ID') # Mengubah kolom customer ID menjadi index data\n",
    "df.head(5)"
   ]
  },
  {
   "cell_type": "markdown",
   "id": "44ba8858",
   "metadata": {},
   "source": [
    "**Insight:**\n",
    "\n",
    "The next step involves examining the descriptive statistics of the dataset using the .describe() method. This will return key summary metrics such as the mean, standard deviation, minimum, and maximum values for each numerical column.\n",
    "\n",
    "These statistics are essential for identifying the overall distribution of numerical features, such as whether the data appears normally distributed, and for detecting the presence of potential outliers.\n",
    "___"
   ]
  },
  {
   "cell_type": "code",
   "execution_count": 9,
   "id": "6b8c66a3",
   "metadata": {},
   "outputs": [
    {
     "data": {
      "text/html": [
       "<div>\n",
       "<style scoped>\n",
       "    .dataframe tbody tr th:only-of-type {\n",
       "        vertical-align: middle;\n",
       "    }\n",
       "\n",
       "    .dataframe tbody tr th {\n",
       "        vertical-align: top;\n",
       "    }\n",
       "\n",
       "    .dataframe thead th {\n",
       "        text-align: right;\n",
       "    }\n",
       "</style>\n",
       "<table border=\"1\" class=\"dataframe\">\n",
       "  <thead>\n",
       "    <tr style=\"text-align: right;\">\n",
       "      <th></th>\n",
       "      <th>Age</th>\n",
       "      <th>PA</th>\n",
       "      <th>RR</th>\n",
       "      <th>PP</th>\n",
       "    </tr>\n",
       "  </thead>\n",
       "  <tbody>\n",
       "    <tr>\n",
       "      <th>count</th>\n",
       "      <td>3900.000000</td>\n",
       "      <td>3900.000000</td>\n",
       "      <td>3900.000000</td>\n",
       "      <td>3900.000000</td>\n",
       "    </tr>\n",
       "    <tr>\n",
       "      <th>mean</th>\n",
       "      <td>44.068462</td>\n",
       "      <td>59.764359</td>\n",
       "      <td>3.749949</td>\n",
       "      <td>25.351538</td>\n",
       "    </tr>\n",
       "    <tr>\n",
       "      <th>std</th>\n",
       "      <td>15.207589</td>\n",
       "      <td>23.685392</td>\n",
       "      <td>0.716223</td>\n",
       "      <td>14.447125</td>\n",
       "    </tr>\n",
       "    <tr>\n",
       "      <th>min</th>\n",
       "      <td>18.000000</td>\n",
       "      <td>20.000000</td>\n",
       "      <td>2.500000</td>\n",
       "      <td>1.000000</td>\n",
       "    </tr>\n",
       "    <tr>\n",
       "      <th>25%</th>\n",
       "      <td>31.000000</td>\n",
       "      <td>39.000000</td>\n",
       "      <td>3.100000</td>\n",
       "      <td>13.000000</td>\n",
       "    </tr>\n",
       "    <tr>\n",
       "      <th>50%</th>\n",
       "      <td>44.000000</td>\n",
       "      <td>60.000000</td>\n",
       "      <td>3.700000</td>\n",
       "      <td>25.000000</td>\n",
       "    </tr>\n",
       "    <tr>\n",
       "      <th>75%</th>\n",
       "      <td>57.000000</td>\n",
       "      <td>81.000000</td>\n",
       "      <td>4.400000</td>\n",
       "      <td>38.000000</td>\n",
       "    </tr>\n",
       "    <tr>\n",
       "      <th>max</th>\n",
       "      <td>70.000000</td>\n",
       "      <td>100.000000</td>\n",
       "      <td>5.000000</td>\n",
       "      <td>50.000000</td>\n",
       "    </tr>\n",
       "  </tbody>\n",
       "</table>\n",
       "</div>"
      ],
      "text/plain": [
       "               Age           PA           RR           PP\n",
       "count  3900.000000  3900.000000  3900.000000  3900.000000\n",
       "mean     44.068462    59.764359     3.749949    25.351538\n",
       "std      15.207589    23.685392     0.716223    14.447125\n",
       "min      18.000000    20.000000     2.500000     1.000000\n",
       "25%      31.000000    39.000000     3.100000    13.000000\n",
       "50%      44.000000    60.000000     3.700000    25.000000\n",
       "75%      57.000000    81.000000     4.400000    38.000000\n",
       "max      70.000000   100.000000     5.000000    50.000000"
      ]
     },
     "execution_count": 9,
     "metadata": {},
     "output_type": "execute_result"
    }
   ],
   "source": [
    "df.describe()"
   ]
  },
  {
   "cell_type": "markdown",
   "id": "43aa19d1",
   "metadata": {},
   "source": [
    "**Insight:**\n",
    "\n",
    "Based on the descriptive statistics, the following observations were made:\n",
    "- Age\n",
    "\n",
    "    The standard deviation is 15.20, indicating that customer ages vary widely, ranging from 18 to 70 years old.\n",
    "\n",
    "    The average age is 44 years.\n",
    "- Purchase Amount (PA)\n",
    "\n",
    "    With a standard deviation of 23.68, purchase amounts show considerable variation—from a minimum of $20 to a maximum of $100.\n",
    "\n",
    "    The average purchase value is $59.76.\n",
    "- Review Rating (RR)\n",
    "\n",
    "    The standard deviation is relatively low at 0.71, suggesting minimal variation.\n",
    "\n",
    "    The average rating is 3.75, which implies that most customers felt their shopping experience was \"average.\"\n",
    "\n",
    "    This suggests that the company should improve service quality, store ambiance, and product selection to increase customer satisfaction.\n",
    "- Previous Purchases (PP)\n",
    "\n",
    "    A standard deviation of 14.44 reflects high variability in customers' past spending, ranging from $1 to $50.\n",
    "\n",
    "    The average historical spending is $25.35.\n",
    "\n",
    "___\n",
    "\n",
    "Next is the categorical columns."
   ]
  },
  {
   "cell_type": "code",
   "execution_count": 10,
   "id": "6e9a6677",
   "metadata": {},
   "outputs": [
    {
     "data": {
      "text/html": [
       "<div>\n",
       "<style scoped>\n",
       "    .dataframe tbody tr th:only-of-type {\n",
       "        vertical-align: middle;\n",
       "    }\n",
       "\n",
       "    .dataframe tbody tr th {\n",
       "        vertical-align: top;\n",
       "    }\n",
       "\n",
       "    .dataframe thead th {\n",
       "        text-align: right;\n",
       "    }\n",
       "</style>\n",
       "<table border=\"1\" class=\"dataframe\">\n",
       "  <thead>\n",
       "    <tr style=\"text-align: right;\">\n",
       "      <th></th>\n",
       "      <th>Gender</th>\n",
       "      <th>Item Purchased</th>\n",
       "      <th>Category</th>\n",
       "      <th>Location</th>\n",
       "      <th>Size</th>\n",
       "      <th>Color</th>\n",
       "      <th>Season</th>\n",
       "      <th>SS</th>\n",
       "      <th>Payment Method</th>\n",
       "      <th>Shipping Type</th>\n",
       "      <th>DA</th>\n",
       "      <th>PPM</th>\n",
       "      <th>FOP</th>\n",
       "    </tr>\n",
       "  </thead>\n",
       "  <tbody>\n",
       "    <tr>\n",
       "      <th>count</th>\n",
       "      <td>3900</td>\n",
       "      <td>3900</td>\n",
       "      <td>3900</td>\n",
       "      <td>3900</td>\n",
       "      <td>3900</td>\n",
       "      <td>3900</td>\n",
       "      <td>3900</td>\n",
       "      <td>3900</td>\n",
       "      <td>3900</td>\n",
       "      <td>3900</td>\n",
       "      <td>3900</td>\n",
       "      <td>3900</td>\n",
       "      <td>3900</td>\n",
       "    </tr>\n",
       "    <tr>\n",
       "      <th>unique</th>\n",
       "      <td>2</td>\n",
       "      <td>25</td>\n",
       "      <td>4</td>\n",
       "      <td>50</td>\n",
       "      <td>4</td>\n",
       "      <td>25</td>\n",
       "      <td>4</td>\n",
       "      <td>2</td>\n",
       "      <td>6</td>\n",
       "      <td>6</td>\n",
       "      <td>2</td>\n",
       "      <td>6</td>\n",
       "      <td>7</td>\n",
       "    </tr>\n",
       "    <tr>\n",
       "      <th>top</th>\n",
       "      <td>Male</td>\n",
       "      <td>Blouse</td>\n",
       "      <td>Clothing</td>\n",
       "      <td>Montana</td>\n",
       "      <td>M</td>\n",
       "      <td>Olive</td>\n",
       "      <td>Spring</td>\n",
       "      <td>No</td>\n",
       "      <td>Credit Card</td>\n",
       "      <td>Free Shipping</td>\n",
       "      <td>No</td>\n",
       "      <td>PayPal</td>\n",
       "      <td>Every 3 Months</td>\n",
       "    </tr>\n",
       "    <tr>\n",
       "      <th>freq</th>\n",
       "      <td>2652</td>\n",
       "      <td>171</td>\n",
       "      <td>1737</td>\n",
       "      <td>96</td>\n",
       "      <td>1755</td>\n",
       "      <td>177</td>\n",
       "      <td>999</td>\n",
       "      <td>2847</td>\n",
       "      <td>696</td>\n",
       "      <td>675</td>\n",
       "      <td>2223</td>\n",
       "      <td>677</td>\n",
       "      <td>584</td>\n",
       "    </tr>\n",
       "  </tbody>\n",
       "</table>\n",
       "</div>"
      ],
      "text/plain": [
       "       Gender Item Purchased  Category Location  Size  Color  Season    SS  \\\n",
       "count    3900           3900      3900     3900  3900   3900    3900  3900   \n",
       "unique      2             25         4       50     4     25       4     2   \n",
       "top      Male         Blouse  Clothing  Montana     M  Olive  Spring    No   \n",
       "freq     2652            171      1737       96  1755    177     999  2847   \n",
       "\n",
       "       Payment Method  Shipping Type    DA     PPM             FOP  \n",
       "count            3900           3900  3900    3900            3900  \n",
       "unique              6              6     2       6               7  \n",
       "top       Credit Card  Free Shipping    No  PayPal  Every 3 Months  \n",
       "freq              696            675  2223     677             584  "
      ]
     },
     "execution_count": 10,
     "metadata": {},
     "output_type": "execute_result"
    }
   ],
   "source": [
    "df.describe(include='object')"
   ]
  },
  {
   "cell_type": "markdown",
   "id": "40954c66",
   "metadata": {},
   "source": [
    "**Insight:**\n",
    "\n",
    "- Gender\n",
    "    This column contains the customer’s gender: “Male” or “Female,” with “Male” being the most common.\n",
    "\n",
    "- Item Purchased\n",
    "    Represents the type of item purchased, with 25 unique item types. The most frequently sold item is “Blouse.”\n",
    "- Category\n",
    "    Refers to product categories such as clothing, footwear, outerwear, and accessories. “Clothing” is the most sold category.\n",
    "- Location\n",
    "    Indicates the store location where the transaction took place.\n",
    "- Size\n",
    "    Specifies the size of the purchased item (e.g., S, M, L, XL).\n",
    "- Color\n",
    "    Contains the color of the purchased item.\n",
    "- Season\n",
    "    Records the season during which the transaction occurred.\n",
    "- Subscription Status\n",
    "    Reflects the customer’s membership status.\n",
    "- Payment Method\n",
    "    Captures the payment method used for the transaction.\n",
    "- Shipping Type\n",
    "    Describes the delivery method or fulfillment type, such as store pickup, express, or next-day air.\n",
    "- Discount Applied\n",
    "    Indicates whether a discount was used during the purchase.\n",
    "- Preferred Payment Method\n",
    "    Represents the customer’s preferred way of paying.\n",
    "- Frequency of Purchases\n",
    "    Shows how often the customer shops, ranging from weekly to yearly patterns.\n",
    "\n",
    "While these summaries help in understanding the categorical structure of the dataset, they are not yet sufficient to capture deeper patterns. \n",
    "\n",
    "Therefore, the next step involves calculating variance, skewness, and kurtosis for the numerical data to assess distribution shape, detect outliers, and support hypothesis formulation.\n",
    "\n",
    "This analysis will be addressed in EDA Session 11."
   ]
  },
  {
   "cell_type": "markdown",
   "id": "54e53755",
   "metadata": {},
   "source": [
    "___\n",
    "## 5. Exploratory Data Analysis (EDA)\n",
    "\n",
    "Exploratory Data Analysis (EDA) Objectives:\n",
    "\n",
    "1. Which gender shops more frequently?\n",
    "\n",
    "2. Which product category has the highest number of sales?\n",
    "\n",
    "3. What is the total transaction value per product category?\n",
    "\n",
    "4. Which product size is sold most often?\n",
    "\n",
    "5. Are there more subscribed customers than unsubscribed ones?\n",
    "\n",
    "6. What is the total transaction value from subscribed vs. unsubscribed customers?\n",
    "\n",
    "7. Do more customers use discounts when shopping?\n",
    "\n",
    "8. Is the total transaction value higher for purchases with discounts or without?\n",
    "\n",
    "9. Which season generates the highest transaction volume?\n",
    "\n",
    "10. What is the distribution of sales data across each consumer location?\n",
    "\n",
    "11. What are the descriptive statistics of the dataset?\n",
    "\n",
    "12. What are the relationships among all variables?\n",
    "___"
   ]
  },
  {
   "cell_type": "markdown",
   "id": "bddae0de",
   "metadata": {},
   "source": [
    "### 5.1 EDA 1. Which gender shops more frequently?"
   ]
  },
  {
   "cell_type": "markdown",
   "id": "eca97e21",
   "metadata": {},
   "source": [
    "Entering EDA number 1 is identifying which gender shops most frequently.\n",
    "\n",
    "Although this has been explained previously through code, I still need to present the result with a clear data visualization."
   ]
  },
  {
   "cell_type": "code",
   "execution_count": 11,
   "id": "8cfd9c09",
   "metadata": {},
   "outputs": [
    {
     "data": {
      "image/png": "[encoded data removed]",
      "text/plain": [
       "<Figure size 600x600 with 1 Axes>"
      ]
     },
     "metadata": {},
     "output_type": "display_data"
    }
   ],
   "source": [
    "gender_counts = df[\"Gender\"].value_counts()\n",
    "\n",
    "\n",
    "labels = [f\"{gender} ({count})\" for gender, count in zip(gender_counts.index, gender_counts.values)]\n",
    "\n",
    "\n",
    "plt.figure(figsize=(6, 6))\n",
    "plt.pie(gender_counts, labels=labels, autopct=\"%.1f%%\", colors=[\"#66b3ff\", \"#ffcc99\"], startangle=90)\n",
    "\n",
    "\n",
    "plt.title(\"Gender Count Comparison\")\n",
    "plt.show()"
   ]
  },
  {
   "cell_type": "markdown",
   "id": "ca3ea5c3",
   "metadata": {},
   "source": [
    "**Insight:**\n",
    "\n",
    "The most frequent shoppers are Male customers, accounting for 68% of total transactions. This is a significant disparity compared to the Female segment. One possible explanation for this imbalance is that the available product selection may lean more toward male oriented items, or that the store is perceived primarily as a men’s goods retailer.\n",
    "\n",
    "**Recommendation:**\n",
    "\n",
    "To address this, the store should maintain its strong product flow for Male customers while simultaneously expanding its offerings for Female customers. This can be done by introducing trendy and in demand brands currently popular in the market. By doing so, the store can attract a more diverse customer base, ultimately increasing foot traffic and boosting overall sales\n",
    "___"
   ]
  },
  {
   "cell_type": "markdown",
   "id": "1dd87b8c",
   "metadata": {},
   "source": [
    "### 5.2 EDA. Which product category has the highest number of sales?"
   ]
  },
  {
   "cell_type": "markdown",
   "id": "e4fc508a",
   "metadata": {},
   "source": [
    "EDA number 2 aims to identify which product category generates the highest sales in the store. To support this analysis, a data visualization is created by aggregating the total number of transactions for each product category."
   ]
  },
  {
   "cell_type": "code",
   "execution_count": 12,
   "id": "cd685957",
   "metadata": {},
   "outputs": [
    {
     "data": {
      "image/png": "[encoded data removed]",
      "text/plain": [
       "<Figure size 800x500 with 1 Axes>"
      ]
     },
     "metadata": {},
     "output_type": "display_data"
    }
   ],
   "source": [
    "category_counts = df[\"Category\"].value_counts()\n",
    "\n",
    "plt.figure(figsize=(8, 5))\n",
    "colors = sns.cubehelix_palette(n_colors=4, start=0.6, rot=-0.5)  # Sesuaikan jumlah warna dengan jumlah kategori\n",
    "\n",
    "plt.barh(category_counts.index, category_counts.values, color=colors)\n",
    "\n",
    "plt.xlabel(\"Count\")\n",
    "plt.ylabel(\"Category\")\n",
    "plt.title(\"Goods Category Comparison\")\n",
    "plt.tight_layout()\n",
    "plt.show()"
   ]
  },
  {
   "cell_type": "markdown",
   "id": "be1c0b6e",
   "metadata": {},
   "source": [
    "**Insight:**\n",
    "\n",
    "The most frequently sold items are clothing, followed by accessories, while footwear and outerwear lag behind in sales.\n",
    "\n",
    "**Recommendation:**\n",
    "\n",
    "To address this, discounts could be offered on footwear and outerwear to encourage purchases, even if it results in smaller profit margins. For the more popular categories, inventory levels can be adjusted based on demand trends and evolving fashion styles to ensure continued sales growth.\n",
    "___"
   ]
  },
  {
   "cell_type": "markdown",
   "id": "f2f60b27",
   "metadata": {},
   "source": [
    "### 5.3 EDA 3. What is the total transaction value per product category?"
   ]
  },
  {
   "cell_type": "markdown",
   "id": "c524951b",
   "metadata": {},
   "source": [
    "EDA number 3 is to identify the total transaction amount for each product category. In this step, a data visualization is used to illustrate the sum of 'Purchase Amount' grouped by the product category column."
   ]
  },
  {
   "cell_type": "code",
   "execution_count": 13,
   "id": "204c9e11",
   "metadata": {},
   "outputs": [
    {
     "data": {
      "image/png": "[encoded data removed]",
      "text/plain": [
       "<Figure size 1000x600 with 1 Axes>"
      ]
     },
     "metadata": {},
     "output_type": "display_data"
    }
   ],
   "source": [
    "cat_pa = df.groupby(\"Category\")[\"PA\"].sum().reset_index().sort_values(by=\"PA\", ascending=False)\n",
    "\n",
    "plt.figure(figsize=(10, 6))\n",
    "sns.barplot(data=cat_pa, x='Category', y='PA', palette=sns.cubehelix_palette(n_colors=4, start=0.6, rot=-0.5))\n",
    "\n",
    "plt.xlabel(\"Category\")\n",
    "plt.ylabel(\"Total Purchase Amount\")\n",
    "plt.title(\"Total Purchase Amount From Goods Category\", fontsize=14, loc=\"center\")\n",
    "plt.tight_layout()\n",
    "plt.show()"
   ]
  },
  {
   "cell_type": "markdown",
   "id": "d2fb5ed8",
   "metadata": {},
   "source": [
    "**Insight:**\n",
    "\n",
    "The product category with the highest total transaction value is Clothing. This aligns with the fact that clothing items are the top selling products overall, whereas Outerwear ranks as the least sold category.\n",
    "\n",
    "**Recommendation:**\n",
    "\n",
    "To improve sales across all categories, discounts could be introduced on Footwear and Outerwear products. This would help boost their sales despite narrower profit margins. Meanwhile, inventory for the more in-demand categories can be restocked as needed, based on market demand and evolving fashion trends.\n",
    "___"
   ]
  },
  {
   "cell_type": "markdown",
   "id": "14c11e41",
   "metadata": {},
   "source": [
    "### 5.4 EDA 4. Which product size is sold most often?"
   ]
  },
  {
   "cell_type": "markdown",
   "id": "7ea62669",
   "metadata": {},
   "source": [
    "EDA number 4 is to identify which product size sells the most. This can be visualized by counting the total entries in the 'Size' column."
   ]
  },
  {
   "cell_type": "code",
   "execution_count": 14,
   "id": "ee5485c1",
   "metadata": {},
   "outputs": [
    {
     "data": {
      "image/png": "[encoded data removed]",
      "text/plain": [
       "<Figure size 800x500 with 1 Axes>"
      ]
     },
     "metadata": {},
     "output_type": "display_data"
    }
   ],
   "source": [
    "size_counts = df['Size'].value_counts()\n",
    "size_df = size_counts.reset_index()\n",
    "size_df.columns = ['Size', 'Count']\n",
    "\n",
    "plt.figure(figsize=(8, 5))\n",
    "sns.barplot(data=size_df, x='Size', y='Count', palette=sns.cubehelix_palette(n_colors=4, start=0.6, rot=-0.5))\n",
    "\n",
    "plt.xlabel(\"Category\")\n",
    "plt.ylabel(\"Count of Size\")\n",
    "plt.title(\"Count of Goods Size\", fontsize=14, loc=\"center\")\n",
    "\n",
    "for i, v in enumerate(size_df['Count']):\n",
    "    plt.text(i, v + 1, str(v), ha=\"center\", fontsize=10)\n",
    "\n",
    "plt.tight_layout()\n",
    "plt.show()"
   ]
  },
  {
   "cell_type": "markdown",
   "id": "006cf896",
   "metadata": {},
   "source": [
    "**Insight:**\n",
    "\n",
    "The best selling product size is M, while the least sold size is XL.\n",
    "\n",
    "**Recommendation:**\n",
    "\n",
    "Based on the chart, it is recommended to increase the stock of size M products. Conversely, stock replenishment for sizes S and XL should be minimized, as they exhibit lower sales performance.\n",
    "___"
   ]
  },
  {
   "cell_type": "markdown",
   "id": "d49ccdf9",
   "metadata": {},
   "source": [
    "### 5.5 EDA 5. Are there more subscribed customers than unsubscribed ones?"
   ]
  },
  {
   "cell_type": "markdown",
   "id": "ac5b4a17",
   "metadata": {},
   "source": [
    "The store offers a subscription feature for customers, so it's important to determine whether more subscribed customers shop at the store compared to those who are not subscribed."
   ]
  },
  {
   "cell_type": "code",
   "execution_count": 15,
   "id": "d929c9eb",
   "metadata": {},
   "outputs": [
    {
     "data": {
      "image/png": "[encoded data removed]",
      "text/plain": [
       "<Figure size 600x600 with 1 Axes>"
      ]
     },
     "metadata": {},
     "output_type": "display_data"
    }
   ],
   "source": [
    "ss_counts = df[\"SS\"].value_counts()\n",
    "\n",
    "labels = [f\"{ss} ({count})\" for ss, count in zip(ss_counts.index, ss_counts.values)]\n",
    "\n",
    "colors = [\"#66b3ff\", \"#ffcc99\"]\n",
    "\n",
    "plt.figure(figsize=(6, 6))\n",
    "plt.pie(ss_counts, labels=labels, colors=colors, autopct=\"%.1f%%\", startangle=90)\n",
    "\n",
    "plt.title(\"Consumer Subscription Status Comparison\")\n",
    "plt.show()"
   ]
  },
  {
   "cell_type": "markdown",
   "id": "2b9f7783",
   "metadata": {},
   "source": [
    "**Insight:**\n",
    "\n",
    "While most transactions are carried out by customers without a subscription, those who are subscribed still contribute a meaningful share—making up 27% of the total.\n",
    "\n",
    "**Recommendation:**\n",
    "\n",
    "The membership subscription feature should be maintained, but it also needs to be made more appealing and worthwhile in the eyes of consumers. This can help attract more customers to register as members, ultimately increasing customer loyalty and boosting overall engagement.\n",
    "___"
   ]
  },
  {
   "cell_type": "markdown",
   "id": "e6a02260",
   "metadata": {},
   "source": [
    "### 5.6 EDA 6. What is the total transaction value from subscribed vs. unsubscribed customers?"
   ]
  },
  {
   "cell_type": "markdown",
   "id": "2e119403",
   "metadata": {},
   "source": [
    "EDA number 6 aims to analyze whether subscribed customers generate a higher total transaction value compared to non-subscribed ones. \n",
    "\n",
    "This is visualized by aggregating the total purchase amount by subscription status, providing insights into the spending behavior of each group."
   ]
  },
  {
   "cell_type": "code",
   "execution_count": 46,
   "id": "69cd5866",
   "metadata": {},
   "outputs": [
    {
     "data": {
      "image/png": "[encoded data removed]",
      "text/plain": [
       "<Figure size 1000x600 with 1 Axes>"
      ]
     },
     "metadata": {},
     "output_type": "display_data"
    }
   ],
   "source": [
    "ss_pa = df.groupby(\"SS\")[\"PA\"].sum().reset_index().sort_values(by=\"PA\", ascending=False)\n",
    "\n",
    "plt.figure(figsize=(10, 6))\n",
    "sns.barplot(x=\"SS\", y=\"PA\", data=ss_pa, palette=sns.cubehelix_palette(n_colors=2, start=0.6, rot=-0.5))\n",
    "\n",
    "plt.xlabel(\"Subscription Status\")\n",
    "plt.ylabel(\"Sum of Purchase Amount\")\n",
    "plt.title(\"Sum of Purchase Amount From Subscription Status\", fontsize=14, loc=\"center\")\n",
    "\n",
    "plt.show()"
   ]
  },
  {
   "cell_type": "markdown",
   "id": "3c9eb473",
   "metadata": {},
   "source": [
    "**Insight:**\n",
    "\n",
    "Since the majority of transactions are made by non-subscribed customers, the total transaction value is also significantly higher for this group.\n",
    "\n",
    "**Recommendation:**\n",
    "\n",
    "As mentioned earlier, the membership subscription feature should be maintained and further enhanced to appear more appealing and worthwhile to customers. By improving the perceived value of membership, more customers may be encouraged to subscribe, potentially increasing loyalty and long-term engagement.\n",
    "___"
   ]
  },
  {
   "cell_type": "markdown",
   "id": "4762cff4",
   "metadata": {},
   "source": [
    "### 5.7 EDA 7. Do more customers use discounts when shopping?"
   ]
  },
  {
   "cell_type": "markdown",
   "id": "29b771eb",
   "metadata": {},
   "source": [
    "EDA number 7 is to determine whether more customers tend to use discounts. \n",
    "\n",
    "Since shoppers are generally inclined to avoid feeling like they're missing out on savings, it's likely that the dataset contains a majority of customers who made purchases using discounts."
   ]
  },
  {
   "cell_type": "code",
   "execution_count": 17,
   "id": "6de67688",
   "metadata": {},
   "outputs": [
    {
     "data": {
      "image/png": "[encoded data removed]",
      "text/plain": [
       "<Figure size 600x600 with 1 Axes>"
      ]
     },
     "metadata": {},
     "output_type": "display_data"
    }
   ],
   "source": [
    "da_counts = df[\"DA\"].value_counts()\n",
    "\n",
    "labels = [f\"{da} ({count})\" for da, count in zip(da_counts.index, da_counts.values)]\n",
    "\n",
    "colors = [\"#66b3ff\", \"#ffcc99\"]\n",
    "\n",
    "plt.figure(figsize=(6, 6))\n",
    "plt.pie(da_counts, labels=labels, colors=colors, autopct=\"%.1f%%\", startangle=90)\n",
    "\n",
    "plt.title(\"Discount Applied Comparison\")\n",
    "plt.show()"
   ]
  },
  {
   "cell_type": "markdown",
   "id": "ce8db36d",
   "metadata": {},
   "source": [
    "**Insight:**\n",
    "\n",
    "It turns out that more transactions were made without using discounts.\n",
    "\n",
    "**Recommendation:**\n",
    "\n",
    "The company should remain cautious when offering discounts. Based on the sales volume, footwear and outerwear are among the least purchased categories. Therefore, it would be more strategic to offer discounts specifically for these two categories, rather than applying them broadly.\n",
    "___"
   ]
  },
  {
   "cell_type": "markdown",
   "id": "e315d9e9",
   "metadata": {},
   "source": [
    "### 5.8 EDA 8. Is the total transaction value higher for purchases with discounts or without?"
   ]
  },
  {
   "cell_type": "markdown",
   "id": "3cf2fcc3",
   "metadata": {},
   "source": [
    "When we think about discounts, we often assume that customers will shop more if discounts are offered. Naturally, one would expect that customers spend more when promotions are available. \n",
    "\n",
    "However, this assumption should still be tested with a proper data visualization. To investigate, the total transaction amount can be aggregated based on the 'Discount Applied' column."
   ]
  },
  {
   "cell_type": "code",
   "execution_count": 47,
   "id": "d37365e7",
   "metadata": {},
   "outputs": [
    {
     "data": {
      "image/png": "[encoded data removed]",
      "text/plain": [
       "<Figure size 800x500 with 1 Axes>"
      ]
     },
     "metadata": {},
     "output_type": "display_data"
    }
   ],
   "source": [
    "da_pa = df.groupby(\"DA\")[\"PA\"].sum().reset_index()\n",
    "\n",
    "plt.figure(figsize=(8, 5))\n",
    "sns.barplot(data=da_pa, x=\"DA\", y=\"PA\", palette=sns.cubehelix_palette(n_colors=2, start=0.6, rot=-0.5))\n",
    "\n",
    "plt.title(\"Sum of Purchase Amount By Discount Applied\", fontsize=14)\n",
    "plt.xlabel(\"Discount Applied\")\n",
    "plt.ylabel(\"Sum of Purchase Amount\")\n",
    "plt.xticks(rotation=0)\n",
    "\n",
    "plt.show()\n"
   ]
  },
  {
   "cell_type": "markdown",
   "id": "1a02a62c",
   "metadata": {},
   "source": [
    "**Insight:**\n",
    "\n",
    "Customers who did not use discounts contributed to a higher total transaction value. However, the difference in value compared to transactions with discounts is not particularly large.\n",
    "\n",
    "**Recommendation:**\n",
    "\n",
    "Moving forward, the company should continue to offer discounts on selected items, as not all customers are indifferent to price reductions. It's important to recognize that some consumers genuinely feel supported by discounts during their shopping experience, which can positively influence purchasing decisions\n",
    "___"
   ]
  },
  {
   "cell_type": "markdown",
   "id": "021297dc",
   "metadata": {},
   "source": [
    "### 5.9 EDA 9. Which season generates the highest transaction volume?"
   ]
  },
  {
   "cell_type": "markdown",
   "id": "5b1c2c2e",
   "metadata": {},
   "source": [
    "Which season generates the highest total transaction value? This is an important question for the user to understand sales trends based on seasonal patterns. \n",
    "\n",
    "The visualization is created by aggregating the total transaction amount according to the season in which the purchase occurred."
   ]
  },
  {
   "cell_type": "code",
   "execution_count": 52,
   "id": "7cd896b7",
   "metadata": {},
   "outputs": [
    {
     "data": {
      "image/png": "[encoded data removed]",
      "text/plain": [
       "<Figure size 800x500 with 1 Axes>"
      ]
     },
     "metadata": {},
     "output_type": "display_data"
    }
   ],
   "source": [
    "season_pa = df.groupby(\"Season\")[\"PA\"].sum().reset_index().sort_values(by=\"PA\", ascending=True)\n",
    "\n",
    "plt.figure(figsize=(8, 5))\n",
    "sns.barplot(data=season_pa, x=\"Season\", y=\"PA\", palette=sns.cubehelix_palette(n_colors=4, start=0.6, rot=-0.5))\n",
    "plt.title(\"Total Purchase Amount By The Seasons\", fontsize=14, loc=\"center\")\n",
    "plt.xlabel(\"Seasons\", fontsize=12)\n",
    "plt.ylabel(\"Purchase Amount\", fontsize=12)\n",
    "\n",
    "plt.show()"
   ]
  },
  {
   "cell_type": "markdown",
   "id": "275ca5a8",
   "metadata": {},
   "source": [
    "**Insight:**\n",
    "\n",
    "The season with the lowest total transaction value is Summer, followed by a gradual increase in Winter and Spring, with Fall recording the highest transaction value.\n",
    "\n",
    "**Recommendation:**\n",
    "\n",
    "Given the notable seasonal differences, ranging from 1.000 to 4.000 dollars, the company should consider adjusting its marketing strategies seasonally. \n",
    "\n",
    "Offering targeted discounts or emphasizing membership benefits in lower-performing seasons could encourage more consistent shopping behavior throughout the year.\n",
    "___"
   ]
  },
  {
   "cell_type": "markdown",
   "id": "284d2914",
   "metadata": {},
   "source": [
    "### 5.10 EDA 10. What is the distribution of sales data across each consumer location?"
   ]
  },
  {
   "cell_type": "markdown",
   "id": "cef4ab14",
   "metadata": {},
   "source": [
    "EDA number 10 explores the distribution of sales data across different consumer locations. \n",
    "\n",
    "This analysis helps identify which regions contribute most to overall transactions and may uncover geographic trends in consumer behavior. \n",
    "\n",
    "I'm using choropleth for visualize the distribution sales data across each consumer location."
   ]
  },
  {
   "cell_type": "code",
   "execution_count": 20,
   "id": "2096b13e",
   "metadata": {},
   "outputs": [
    {
     "data": {
      "application/vnd.plotly.v1+json": {
       "config": {
        "plotlyServerURL": "https://plot.ly"
       },
       "data": [
        {
         "coloraxis": "coloraxis",
         "featureidkey": "properties.name",
         "geo": "geo",
         "geojson": "https://raw.githubusercontent.com/PublicaMundi/MappingAPI/master/data/geojson/us-states.json",
         "hovertemplate": "Location=%{location}<br>PA=%{z}<extra></extra>",
         "locations": [
          "Alabama",
          "Alaska",
          "Arizona",
          "Arkansas",
          "California",
          "Colorado",
          "Connecticut",
          "Delaware",
          "Florida",
          "Georgia",
          "Hawaii",
          "Idaho",
          "Illinois",
          "Indiana",
          "Iowa",
          "Kansas",
          "Kentucky",
          "Louisiana",
          "Maine",
          "Maryland",
          "Massachusetts",
          "Michigan",
          "Minnesota",
          "Mississippi",
          "Missouri",
          "Montana",
          "Nebraska",
          "Nevada",
          "New Hampshire",
          "New Jersey",
          "New Mexico",
          "New York",
          "North Carolina",
          "North Dakota",
          "Ohio",
          "Oklahoma",
          "Oregon",
          "Pennsylvania",
          "Rhode Island",
          "South Carolina",
          "South Dakota",
          "Tennessee",
          "Texas",
          "Utah",
          "Vermont",
          "Virginia",
          "Washington",
          "West Virginia",
          "Wisconsin",
          "Wyoming"
         ],
         "name": "",
         "type": "choropleth",
         "z": {
          "bdata": "jRQDE+YQ3BLlFX4QghCWEtYOJRKoDtMV8RUvEmkQbQ0yEfASJBG7EiARtRFxExMTUxKYFjQUihV7ENoOlhOJFIYSZBQpEhgRkxA+Ex8PVxGMEKQSaBJbEfwS6hIPEjYUZBDVEA==",
          "dtype": "i2"
         }
        }
       ],
       "layout": {
        "coloraxis": {
         "colorbar": {
          "title": {
           "text": "PA"
          }
         },
         "colorscale": [
          [
           0,
           "rgb(247,251,255)"
          ],
          [
           0.125,
           "rgb(222,235,247)"
          ],
          [
           0.25,
           "rgb(198,219,239)"
          ],
          [
           0.375,
           "rgb(158,202,225)"
          ],
          [
           0.5,
           "rgb(107,174,214)"
          ],
          [
           0.625,
           "rgb(66,146,198)"
          ],
          [
           0.75,
           "rgb(33,113,181)"
          ],
          [
           0.875,
           "rgb(8,81,156)"
          ],
          [
           1,
           "rgb(8,48,107)"
          ]
         ]
        },
        "geo": {
         "center": {},
         "domain": {
          "x": [
           0,
           1
          ],
          "y": [
           0,
           1
          ]
         },
         "fitbounds": "locations",
         "visible": false
        },
        "legend": {
         "tracegroupgap": 0
        },
        "margin": {
         "t": 60
        },
        "template": {
         "data": {
          "bar": [
           {
            "error_x": {
             "color": "#2a3f5f"
            },
            "error_y": {
             "color": "#2a3f5f"
            },
            "marker": {
             "line": {
              "color": "#E5ECF6",
              "width": 0.5
             },
             "pattern": {
              "fillmode": "overlay",
              "size": 10,
              "solidity": 0.2
             }
            },
            "type": "bar"
           }
          ],
          "barpolar": [
           {
            "marker": {
             "line": {
              "color": "#E5ECF6",
              "width": 0.5
             },
             "pattern": {
              "fillmode": "overlay",
              "size": 10,
              "solidity": 0.2
             }
            },
            "type": "barpolar"
           }
          ],
          "carpet": [
           {
            "aaxis": {
             "endlinecolor": "#2a3f5f",
             "gridcolor": "white",
             "linecolor": "white",
             "minorgridcolor": "white",
             "startlinecolor": "#2a3f5f"
            },
            "baxis": {
             "endlinecolor": "#2a3f5f",
             "gridcolor": "white",
             "linecolor": "white",
             "minorgridcolor": "white",
             "startlinecolor": "#2a3f5f"
            },
            "type": "carpet"
           }
          ],
          "choropleth": [
           {
            "colorbar": {
             "outlinewidth": 0,
             "ticks": ""
            },
            "type": "choropleth"
           }
          ],
          "contour": [
           {
            "colorbar": {
             "outlinewidth": 0,
             "ticks": ""
            },
            "colorscale": [
             [
              0,
              "#0d0887"
             ],
             [
              0.1111111111111111,
              "#46039f"
             ],
             [
              0.2222222222222222,
              "#7201a8"
             ],
             [
              0.3333333333333333,
              "#9c179e"
             ],
             [
              0.4444444444444444,
              "#bd3786"
             ],
             [
              0.5555555555555556,
              "#d8576b"
             ],
             [
              0.6666666666666666,
              "#ed7953"
             ],
             [
              0.7777777777777778,
              "#fb9f3a"
             ],
             [
              0.8888888888888888,
              "#fdca26"
             ],
             [
              1,
              "#f0f921"
             ]
            ],
            "type": "contour"
           }
          ],
          "contourcarpet": [
           {
            "colorbar": {
             "outlinewidth": 0,
             "ticks": ""
            },
            "type": "contourcarpet"
           }
          ],
          "heatmap": [
           {
            "colorbar": {
             "outlinewidth": 0,
             "ticks": ""
            },
            "colorscale": [
             [
              0,
              "#0d0887"
             ],
             [
              0.1111111111111111,
              "#46039f"
             ],
             [
              0.2222222222222222,
              "#7201a8"
             ],
             [
              0.3333333333333333,
              "#9c179e"
             ],
             [
              0.4444444444444444,
              "#bd3786"
             ],
             [
              0.5555555555555556,
              "#d8576b"
             ],
             [
              0.6666666666666666,
              "#ed7953"
             ],
             [
              0.7777777777777778,
              "#fb9f3a"
             ],
             [
              0.8888888888888888,
              "#fdca26"
             ],
             [
              1,
              "#f0f921"
             ]
            ],
            "type": "heatmap"
           }
          ],
          "histogram": [
           {
            "marker": {
             "pattern": {
              "fillmode": "overlay",
              "size": 10,
              "solidity": 0.2
             }
            },
            "type": "histogram"
           }
          ],
          "histogram2d": [
           {
            "colorbar": {
             "outlinewidth": 0,
             "ticks": ""
            },
            "colorscale": [
             [
              0,
              "#0d0887"
             ],
             [
              0.1111111111111111,
              "#46039f"
             ],
             [
              0.2222222222222222,
              "#7201a8"
             ],
             [
              0.3333333333333333,
              "#9c179e"
             ],
             [
              0.4444444444444444,
              "#bd3786"
             ],
             [
              0.5555555555555556,
              "#d8576b"
             ],
             [
              0.6666666666666666,
              "#ed7953"
             ],
             [
              0.7777777777777778,
              "#fb9f3a"
             ],
             [
              0.8888888888888888,
              "#fdca26"
             ],
             [
              1,
              "#f0f921"
             ]
            ],
            "type": "histogram2d"
           }
          ],
          "histogram2dcontour": [
           {
            "colorbar": {
             "outlinewidth": 0,
             "ticks": ""
            },
            "colorscale": [
             [
              0,
              "#0d0887"
             ],
             [
              0.1111111111111111,
              "#46039f"
             ],
             [
              0.2222222222222222,
              "#7201a8"
             ],
             [
              0.3333333333333333,
              "#9c179e"
             ],
             [
              0.4444444444444444,
              "#bd3786"
             ],
             [
              0.5555555555555556,
              "#d8576b"
             ],
             [
              0.6666666666666666,
              "#ed7953"
             ],
             [
              0.7777777777777778,
              "#fb9f3a"
             ],
             [
              0.8888888888888888,
              "#fdca26"
             ],
             [
              1,
              "#f0f921"
             ]
            ],
            "type": "histogram2dcontour"
           }
          ],
          "mesh3d": [
           {
            "colorbar": {
             "outlinewidth": 0,
             "ticks": ""
            },
            "type": "mesh3d"
           }
          ],
          "parcoords": [
           {
            "line": {
             "colorbar": {
              "outlinewidth": 0,
              "ticks": ""
             }
            },
            "type": "parcoords"
           }
          ],
          "pie": [
           {
            "automargin": true,
            "type": "pie"
           }
          ],
          "scatter": [
           {
            "fillpattern": {
             "fillmode": "overlay",
             "size": 10,
             "solidity": 0.2
            },
            "type": "scatter"
           }
          ],
          "scatter3d": [
           {
            "line": {
             "colorbar": {
              "outlinewidth": 0,
              "ticks": ""
             }
            },
            "marker": {
             "colorbar": {
              "outlinewidth": 0,
              "ticks": ""
             }
            },
            "type": "scatter3d"
           }
          ],
          "scattercarpet": [
           {
            "marker": {
             "colorbar": {
              "outlinewidth": 0,
              "ticks": ""
             }
            },
            "type": "scattercarpet"
           }
          ],
          "scattergeo": [
           {
            "marker": {
             "colorbar": {
              "outlinewidth": 0,
              "ticks": ""
             }
            },
            "type": "scattergeo"
           }
          ],
          "scattergl": [
           {
            "marker": {
             "colorbar": {
              "outlinewidth": 0,
              "ticks": ""
             }
            },
            "type": "scattergl"
           }
          ],
          "scattermap": [
           {
            "marker": {
             "colorbar": {
              "outlinewidth": 0,
              "ticks": ""
             }
            },
            "type": "scattermap"
           }
          ],
          "scattermapbox": [
           {
            "marker": {
             "colorbar": {
              "outlinewidth": 0,
              "ticks": ""
             }
            },
            "type": "scattermapbox"
           }
          ],
          "scatterpolar": [
           {
            "marker": {
             "colorbar": {
              "outlinewidth": 0,
              "ticks": ""
             }
            },
            "type": "scatterpolar"
           }
          ],
          "scatterpolargl": [
           {
            "marker": {
             "colorbar": {
              "outlinewidth": 0,
              "ticks": ""
             }
            },
            "type": "scatterpolargl"
           }
          ],
          "scatterternary": [
           {
            "marker": {
             "colorbar": {
              "outlinewidth": 0,
              "ticks": ""
             }
            },
            "type": "scatterternary"
           }
          ],
          "surface": [
           {
            "colorbar": {
             "outlinewidth": 0,
             "ticks": ""
            },
            "colorscale": [
             [
              0,
              "#0d0887"
             ],
             [
              0.1111111111111111,
              "#46039f"
             ],
             [
              0.2222222222222222,
              "#7201a8"
             ],
             [
              0.3333333333333333,
              "#9c179e"
             ],
             [
              0.4444444444444444,
              "#bd3786"
             ],
             [
              0.5555555555555556,
              "#d8576b"
             ],
             [
              0.6666666666666666,
              "#ed7953"
             ],
             [
              0.7777777777777778,
              "#fb9f3a"
             ],
             [
              0.8888888888888888,
              "#fdca26"
             ],
             [
              1,
              "#f0f921"
             ]
            ],
            "type": "surface"
           }
          ],
          "table": [
           {
            "cells": {
             "fill": {
              "color": "#EBF0F8"
             },
             "line": {
              "color": "white"
             }
            },
            "header": {
             "fill": {
              "color": "#C8D4E3"
             },
             "line": {
              "color": "white"
             }
            },
            "type": "table"
           }
          ]
         },
         "layout": {
          "annotationdefaults": {
           "arrowcolor": "#2a3f5f",
           "arrowhead": 0,
           "arrowwidth": 1
          },
          "autotypenumbers": "strict",
          "coloraxis": {
           "colorbar": {
            "outlinewidth": 0,
            "ticks": ""
           }
          },
          "colorscale": {
           "diverging": [
            [
             0,
             "#8e0152"
            ],
            [
             0.1,
             "#c51b7d"
            ],
            [
             0.2,
             "#de77ae"
            ],
            [
             0.3,
             "#f1b6da"
            ],
            [
             0.4,
             "#fde0ef"
            ],
            [
             0.5,
             "#f7f7f7"
            ],
            [
             0.6,
             "#e6f5d0"
            ],
            [
             0.7,
             "#b8e186"
            ],
            [
             0.8,
             "#7fbc41"
            ],
            [
             0.9,
             "#4d9221"
            ],
            [
             1,
             "#276419"
            ]
           ],
           "sequential": [
            [
             0,
             "#0d0887"
            ],
            [
             0.1111111111111111,
             "#46039f"
            ],
            [
             0.2222222222222222,
             "#7201a8"
            ],
            [
             0.3333333333333333,
             "#9c179e"
            ],
            [
             0.4444444444444444,
             "#bd3786"
            ],
            [
             0.5555555555555556,
             "#d8576b"
            ],
            [
             0.6666666666666666,
             "#ed7953"
            ],
            [
             0.7777777777777778,
             "#fb9f3a"
            ],
            [
             0.8888888888888888,
             "#fdca26"
            ],
            [
             1,
             "#f0f921"
            ]
           ],
           "sequentialminus": [
            [
             0,
             "#0d0887"
            ],
            [
             0.1111111111111111,
             "#46039f"
            ],
            [
             0.2222222222222222,
             "#7201a8"
            ],
            [
             0.3333333333333333,
             "#9c179e"
            ],
            [
             0.4444444444444444,
             "#bd3786"
            ],
            [
             0.5555555555555556,
             "#d8576b"
            ],
            [
             0.6666666666666666,
             "#ed7953"
            ],
            [
             0.7777777777777778,
             "#fb9f3a"
            ],
            [
             0.8888888888888888,
             "#fdca26"
            ],
            [
             1,
             "#f0f921"
            ]
           ]
          },
          "colorway": [
           "#636efa",
           "#EF553B",
           "#00cc96",
           "#ab63fa",
           "#FFA15A",
           "#19d3f3",
           "#FF6692",
           "#B6E880",
           "#FF97FF",
           "#FECB52"
          ],
          "font": {
           "color": "#2a3f5f"
          },
          "geo": {
           "bgcolor": "white",
           "lakecolor": "white",
           "landcolor": "#E5ECF6",
           "showlakes": true,
           "showland": true,
           "subunitcolor": "white"
          },
          "hoverlabel": {
           "align": "left"
          },
          "hovermode": "closest",
          "mapbox": {
           "style": "light"
          },
          "paper_bgcolor": "white",
          "plot_bgcolor": "#E5ECF6",
          "polar": {
           "angularaxis": {
            "gridcolor": "white",
            "linecolor": "white",
            "ticks": ""
           },
           "bgcolor": "#E5ECF6",
           "radialaxis": {
            "gridcolor": "white",
            "linecolor": "white",
            "ticks": ""
           }
          },
          "scene": {
           "xaxis": {
            "backgroundcolor": "#E5ECF6",
            "gridcolor": "white",
            "gridwidth": 2,
            "linecolor": "white",
            "showbackground": true,
            "ticks": "",
            "zerolinecolor": "white"
           },
           "yaxis": {
            "backgroundcolor": "#E5ECF6",
            "gridcolor": "white",
            "gridwidth": 2,
            "linecolor": "white",
            "showbackground": true,
            "ticks": "",
            "zerolinecolor": "white"
           },
           "zaxis": {
            "backgroundcolor": "#E5ECF6",
            "gridcolor": "white",
            "gridwidth": 2,
            "linecolor": "white",
            "showbackground": true,
            "ticks": "",
            "zerolinecolor": "white"
           }
          },
          "shapedefaults": {
           "line": {
            "color": "#2a3f5f"
           }
          },
          "ternary": {
           "aaxis": {
            "gridcolor": "white",
            "linecolor": "white",
            "ticks": ""
           },
           "baxis": {
            "gridcolor": "white",
            "linecolor": "white",
            "ticks": ""
           },
           "bgcolor": "#E5ECF6",
           "caxis": {
            "gridcolor": "white",
            "linecolor": "white",
            "ticks": ""
           }
          },
          "title": {
           "x": 0.05
          },
          "xaxis": {
           "automargin": true,
           "gridcolor": "white",
           "linecolor": "white",
           "ticks": "",
           "title": {
            "standoff": 15
           },
           "zerolinecolor": "white",
           "zerolinewidth": 2
          },
          "yaxis": {
           "automargin": true,
           "gridcolor": "white",
           "linecolor": "white",
           "ticks": "",
           "title": {
            "standoff": 15
           },
           "zerolinecolor": "white",
           "zerolinewidth": 2
          }
         }
        },
        "title": {
         "text": "Choropleth Map with Plotly - Sum of Purchase Amount",
         "x": 0.5
        }
       }
      }
     },
     "metadata": {},
     "output_type": "display_data"
    }
   ],
   "source": [
    "# GeoJSON for location\n",
    "geojson_url = \"https://raw.githubusercontent.com/PublicaMundi/MappingAPI/master/data/geojson/us-states.json\"\n",
    "\n",
    "location_pa = df.groupby(\"Location\")[\"PA\"].sum().reset_index()\n",
    "\n",
    "fig = px.choropleth(location_pa, \n",
    "                    geojson=geojson_url,\n",
    "                    locations=\"Location\", \n",
    "                    featureidkey=\"properties.name\",\n",
    "                    color=\"PA\",\n",
    "                    color_continuous_scale=\"Blues\")\n",
    "\n",
    "fig.update_geos(fitbounds=\"locations\", visible=False)\n",
    "fig.update_layout(title=\"Choropleth Map with Plotly - Sum of Purchase Amount\",\n",
    "                  title_x = 0.5)\n",
    "\n",
    "fig.show()"
   ]
  },
  {
   "cell_type": "markdown",
   "id": "768ac40d",
   "metadata": {},
   "source": [
    "**Insight:**\n",
    "\n",
    "The darkest colored regions in the visualization represent store locations with the broadest distribution of sales. \n",
    "\n",
    "These include Montana, Idaho, Nevada, California, and Illinois."
   ]
  },
  {
   "cell_type": "markdown",
   "id": "a7df3177",
   "metadata": {},
   "source": [
    "___\n",
    "### 5.11 EDA 11. What are the relationships among all variables?"
   ]
  },
  {
   "cell_type": "markdown",
   "id": "3bf3fd8e",
   "metadata": {},
   "source": [
    "#### 5.11.1 Analysis Using Mean, Median, Standard Deviation, Skewness, and Kurtosis\n",
    "\n",
    "Once the dataset has been cleaned, a deeper analysis is required to better understand its characteristics. This involves calculating key statistical metrics such as the mean, median, standard deviation, skewness, and kurtosis for the numerical variables. \n",
    "\n",
    "The goal is to assess whether the data can be considered well-distributed and free from significant outliers"
   ]
  },
  {
   "cell_type": "markdown",
   "id": "e825311a",
   "metadata": {},
   "source": [
    "Variance, Standard Deviation, Skewness, Kurtosis, and P-value\n",
    "These statistical metrics help assess the distribution and quality of numerical data. Here's a breakdown of their roles:\n",
    "1. Variance measures how far the data spreads from the mean.\n",
    "    - Low variance (<1 or close to 0) = Data is tightly clustered around the mean.\n",
    "    - Moderate variance (1–10) = Data shows some variation but remains within a reasonable range.\n",
    "    - High variance (>10) = Data is widely spread with potential outliers.\n",
    "\n",
    "2. Standard Deviation is the square root of variance, presented in the same units as the original data.\n",
    "    - Low (<1) = Data is closely centered around the mean.\n",
    "    - Moderate (1–3) = Noticeable variability, but not excessive.\n",
    "    - High (>3) = Considerable spread, indicating potential outliers.\n",
    "\n",
    "3. Skewness identifies asymmetry in the distribution.\n",
    "    - Around 0 = Approximately symmetric distribution (similar to normal).\n",
    "    - Positive (>0.5) = Right-skewed, data concentrated on the left.\n",
    "    - Negative (<–0.5) = Left-skewed, data concentrated on the right.\n",
    "\n",
    "4. Kurtosis reflects the \"tailedness\" or sharpness of the distribution.\n",
    "    - Around 3 = Mesokurtic, similar to a normal distribution.\n",
    "    - less than or / <3 (platykurtic) = Flatter distribution, fewer outliers.\n",
    "    - more than or > 3 (leptokurtic) = Sharper peak and longer tails, suggesting more outliers.\n",
    "\n",
    "5. P-value in normality tests evaluates whether the data significantly deviates from a normal distribution.\n",
    "    - p > 0.05 = Fail to reject the null hypothesis (data likely follows normal distribution).\n",
    "    - p ≤ 0.05 = Reject the null hypothesis (data likely does not follow a normal distribution)."
   ]
  },
  {
   "cell_type": "code",
   "execution_count": 21,
   "id": "ad4e5e3e",
   "metadata": {},
   "outputs": [
    {
     "name": "stdout",
     "output_type": "stream",
     "text": [
      "The variance of the Age column is 231.27\n",
      "The skewness of the Age column is -0.006\n",
      "The kurtosis of the Age column is -1.2\n",
      "The p-value from the normality test for the Age column is 0.0\n"
     ]
    }
   ],
   "source": [
    "print(f'The variance of the Age column is {df[\"Age\"].var().__round__(2)}')         \n",
    "print(f'The skewness of the Age column is {df[\"Age\"].skew().__round__(3)}')        \n",
    "print(f'The kurtosis of the Age column is {df[\"Age\"].kurtosis().__round__(2)}')    \n",
    "res = stats.normaltest(df['Age'])\n",
    "print(f'The p-value from the normality test for the Age column is {res.pvalue}')   "
   ]
  },
  {
   "cell_type": "markdown",
   "id": "35621151",
   "metadata": {},
   "source": [
    "**Insight:**\n",
    "\n",
    "1. Variance = 231.27\n",
    "\n",
    "    This indicates the degree of dispersion or variability in the age data. A higher variance means greater differences among age values. In this case, 231.27 suggests a relatively wide age range.\n",
    "2. Skewness = -0.006\n",
    "\n",
    "    This value is very close to zero, suggesting that the age distribution is highly symmetrical or nearly normal. A more negative skew would imply a left-skewed distribution (more high values), but here, the distribution is practically balanced.\n",
    "3. Kurtosis = -1.2\n",
    "\n",
    "    A negative kurtosis value indicates a flatter distribution than the normal curve. This suggests fewer outliers and a more even spread of values around the mean.\n",
    "4. Normality Test p-value = 0.0\n",
    "\n",
    "    Since the p-value is very small (≤ 0.05), we reject the null hypothesis (H0) and conclude that the age column does not follow a normal distribution. This means that although skewness is near zero, other distribution characteristics deviate significantly from normality\n",
    "\n",
    "___"
   ]
  },
  {
   "cell_type": "code",
   "execution_count": 22,
   "id": "4d91ff3e",
   "metadata": {},
   "outputs": [
    {
     "name": "stdout",
     "output_type": "stream",
     "text": [
      "The variance of the purchase amount column is 561.0\n",
      "The skewness of the purchase amount column is 0.013\n",
      "The kurtosis of the purchase amount column is -1.24\n",
      "The p-value from the normality test for the purchase amount column is 0.0\n"
     ]
    }
   ],
   "source": [
    "print(f'The variance of the purchase amount column is {df[\"PA\"].var().__round__(2)}')\n",
    "print(f'The skewness of the purchase amount column is {df[\"PA\"].skew().__round__(3)}')\n",
    "print(f'The kurtosis of the purchase amount column is {df[\"PA\"].kurtosis().__round__(2)}')\n",
    "res = stats.normaltest(df['PA'])\n",
    "print(f'The p-value from the normality test for the purchase amount column is {res.pvalue}')"
   ]
  },
  {
   "cell_type": "markdown",
   "id": "c2cb9062",
   "metadata": {},
   "source": [
    "1. Variance = 561.0\n",
    "\n",
    "    This high variance indicates a significant spread in transaction values. The amount customers spend varies widely, suggesting distinct shopping behaviors among individuals.\n",
    "2. Skewness = 0.013\n",
    "\n",
    "    With a value very close to zero, the data distribution is nearly symmetrical and resembles a normal distribution. There is no strong skew toward higher or lower purchase amounts.\n",
    "3. Kurtosis = –1.24\n",
    "\n",
    "    A negative kurtosis suggests a flatter distribution than the normal curve. This implies that customer spending is fairly evenly distributed, with few extreme outliers.\n",
    "4. P-Value = 0.0\n",
    "\n",
    "    Since the p-value is less than or equal to 0.05, we reject the null hypothesis (H0) and conclude that the purchase amount data is not normally distributed, despite having near-zero skewness and moderate kurtosis.\n"
   ]
  },
  {
   "cell_type": "code",
   "execution_count": 23,
   "id": "76145e95",
   "metadata": {},
   "outputs": [
    {
     "name": "stdout",
     "output_type": "stream",
     "text": [
      "The variance of the previous purchases column is 208.72\n",
      "The skewness of the previous purchases column is 0.003\n",
      "The kurtosis of the previous purchases column is -1.19\n",
      "The p-value from the normality test for the previous purchases column is 0.0\n"
     ]
    }
   ],
   "source": [
    "print(f'The variance of the previous purchases column is {df[\"PP\"].var().__round__(2)}')        \n",
    "print(f'The skewness of the previous purchases column is {df[\"PP\"].skew().__round__(3)}')     \n",
    "print(f'The kurtosis of the previous purchases column is {df[\"PP\"].kurtosis().__round__(3)}') \n",
    "res = stats.normaltest(df['PP'])\n",
    "print(f'The p-value from the normality test for the previous purchases column is {res.pvalue}')"
   ]
  },
  {
   "cell_type": "markdown",
   "id": "dd56e860",
   "metadata": {},
   "source": [
    "**Insight:**\n",
    "\n",
    "1. Variance = 208.72\n",
    "\n",
    "    The high variance in the Previous Purchases column indicates substantial variation in past transaction amounts. Some customers shop frequently, while others make purchases only occasionally.\n",
    "2. Skewness = 0.003\n",
    "\n",
    "    A value this close to zero suggests that the data is nearly symmetrical, with no significant skew to the right or left.\n",
    "3. Kurtosis = –1.19\n",
    "\n",
    "    The negative kurtosis indicates a flatter distribution compared to the normal curve. This means fewer extreme values, with the data more evenly spread around the mean, although some mild outliers are still present.\n",
    "4. Normality Test p-value = 0.0\n",
    "\n",
    "    Since the p-value is very small (≤ 0.05), we reject the null hypothesis (H0) and conclude that the Previous Purchases column does not follow a normal distribution."
   ]
  },
  {
   "cell_type": "code",
   "execution_count": 24,
   "id": "ea0c79a7",
   "metadata": {},
   "outputs": [
    {
     "name": "stdout",
     "output_type": "stream",
     "text": [
      "The variance of the review rating column is 0.51\n",
      "The skewness of the review rating column is 0.0\n",
      "The kurtosis of the review rating column is -1.18\n",
      "The p-value from the normality test for the review rating column is 0.0\n"
     ]
    }
   ],
   "source": [
    "print(f'The variance of the review rating column is {df[\"RR\"].var().__round__(2)}')    \n",
    "print(f'The skewness of the review rating column is {df[\"RR\"].skew().__round__(2)}')    \n",
    "print(f'The kurtosis of the review rating column is {df[\"RR\"].kurtosis().__round__(2)}') \n",
    "res = stats.normaltest(df['RR'])\n",
    "print(f'The p-value from the normality test for the review rating column is {res.pvalue}')"
   ]
  },
  {
   "cell_type": "markdown",
   "id": "b72bbf45",
   "metadata": {},
   "source": [
    "1. Variance = 0.51\n",
    "\n",
    "    Indicates minimal variation among ratings, meaning most customers gave similar scores without drastic differences\n",
    "\n",
    "2. Skewness = 0.0\n",
    "\n",
    "    The distribution is perfectly symmetrical, suggesting ratings are evenly spread with no strong lean toward high or low values.\n",
    "\n",
    "3. Kurtosis = -1.18\n",
    "\n",
    "    The flatness of the distribution indicates a more uniform spread across ratings, with fewer extreme outliers.\n",
    "\n",
    "4. Normality Test p-value = 0.0\n",
    "\n",
    "    Despite balanced skewness and modest kurtosis, the very low p-value suggests the distribution deviates significantly from normality—likely due to subtle patterns in the data not captured by symmetry alone.\n",
    "___"
   ]
  },
  {
   "cell_type": "markdown",
   "id": "e76205c7",
   "metadata": {},
   "source": [
    "Because several columns have slightly high kurtosis values, I want to verify the percentage of outliers in the data."
   ]
  },
  {
   "cell_type": "code",
   "execution_count": 25,
   "id": "577e659a",
   "metadata": {},
   "outputs": [
    {
     "name": "stdout",
     "output_type": "stream",
     "text": [
      "Outlier percentage: 0.00%\n"
     ]
    }
   ],
   "source": [
    "Q1_purchase = df['PA'].quantile(0.25)\n",
    "Q3_purchase = df['PA'].quantile(0.75)\n",
    "\n",
    "IQR_purchase = Q3_purchase - Q1_purchase \n",
    "\n",
    "lower_bound_purchase = Q1_purchase - 1.5 * IQR_purchase\n",
    "upper_bound_purchase = Q3_purchase + 1.5 * IQR_purchase\n",
    "\n",
    "\n",
    "outliers_purchase = df[(df['PA'] < lower_bound_purchase) | (df['PA'] > upper_bound_purchase)]\n",
    "\n",
    "non_outliers_purchase = df[(df['PA'] >= lower_bound_purchase) & (df['PA'] <= upper_bound_purchase)]\n",
    "\n",
    "percent_outliers_purchase = (len(outliers_purchase) / len(df)) * 100\n",
    "print(f\"Outlier percentage: {percent_outliers_purchase:.2f}%\")"
   ]
  },
  {
   "cell_type": "code",
   "execution_count": 26,
   "id": "9c63085a",
   "metadata": {},
   "outputs": [
    {
     "data": {
      "image/png": "[encoded data removed]",
      "text/plain": [
       "<Figure size 1000x400 with 2 Axes>"
      ]
     },
     "metadata": {},
     "output_type": "display_data"
    }
   ],
   "source": [
    "fig, ax = plt.subplots(ncols=2, figsize=(10, 4))\n",
    "\n",
    "non_outliers_purchase['PA'].plot(kind='hist', bins=40, ax=ax[0])\n",
    "ax[0].set_title(\"Histogram of Purchase Amount (No Outliers)\")\n",
    "ax[0].set_xlabel(\"Purchase Amount\")\n",
    "ax[0].set_ylabel(\"Frequency\")\n",
    "\n",
    "non_outliers_purchase['PA'].plot(kind='box', ax=ax[1])\n",
    "ax[1].set_title(\"Boxplot of Purchase Amount (No Outliers)\")\n",
    "ax[1].set_ylabel(\"Purchase Amount\")\n",
    "\n",
    "plt.tight_layout()\n",
    "plt.show()"
   ]
  },
  {
   "cell_type": "code",
   "execution_count": 27,
   "id": "057afd5d",
   "metadata": {},
   "outputs": [
    {
     "name": "stdout",
     "output_type": "stream",
     "text": [
      "Outlier percentage: 0.00%\n"
     ]
    }
   ],
   "source": [
    "Q1_previous = df['PP'].quantile(0.25)\n",
    "Q3_previous = df['PP'].quantile(0.75)\n",
    "\n",
    "IQR_previous = Q3_previous - Q1_previous\n",
    "\n",
    "lower_bound_previous = Q1_previous - 1.5 * IQR_previous\n",
    "upper_bound_previous = Q3_previous + 1.5 * IQR_previous\n",
    "\n",
    "outliers_previous = df[(df['PP'] < lower_bound_previous) | (df['PP'] > upper_bound_previous)]\n",
    "non_outliers_previous = df[(df['PP'] >= lower_bound_previous) & (df['PP'] <= upper_bound_previous)]\n",
    "\n",
    "percent_outliers_previous = (len(outliers_previous) / len(df)) * 100\n",
    "print(f\"Outlier percentage: {percent_outliers_previous:.2f}%\")"
   ]
  },
  {
   "cell_type": "code",
   "execution_count": 28,
   "id": "fb7ad5f9",
   "metadata": {},
   "outputs": [
    {
     "data": {
      "image/png": "[encoded data removed]",
      "text/plain": [
       "<Figure size 1000x400 with 2 Axes>"
      ]
     },
     "metadata": {},
     "output_type": "display_data"
    }
   ],
   "source": [
    "fig, ax = plt.subplots(ncols=2, figsize=(10, 4))\n",
    "\n",
    "non_outliers_previous['PP'].plot(kind='hist', bins=40, ax=ax[0])\n",
    "ax[0].set_title(\"Histogram of Previous Purchases (No Outliers)\")\n",
    "ax[0].set_xlabel(\"Previous Purchases\")\n",
    "ax[0].set_ylabel(\"Frequency\")\n",
    "\n",
    "non_outliers_previous['PP'].plot(kind='box', ax=ax[1])\n",
    "ax[1].set_title(\"Boxplot of Previous Purchases (No Outliers)\")\n",
    "ax[1].set_ylabel(\"Previous Purchases\")\n",
    "\n",
    "plt.tight_layout()\n",
    "plt.show()"
   ]
  },
  {
   "cell_type": "code",
   "execution_count": 29,
   "id": "536c6af2",
   "metadata": {},
   "outputs": [
    {
     "name": "stdout",
     "output_type": "stream",
     "text": [
      "Outlier percentage: 0.00%\n"
     ]
    }
   ],
   "source": [
    "Q1_rating = df['RR'].quantile(0.25)\n",
    "Q3_rating = df['RR'].quantile(0.75)\n",
    "\n",
    "IQR_rating = Q3_rating - Q1_rating\n",
    "\n",
    "lower_bound_rating = Q1_rating - 1.5 * IQR_rating\n",
    "upper_bound_rating = Q3_rating + 1.5 * IQR_rating\n",
    "\n",
    "outliers_rating = df[(df['RR'] < lower_bound_rating) | (df['RR'] > upper_bound_rating)]\n",
    "non_outliers_rating = df[(df['RR'] >= lower_bound_rating) & (df['RR'] <= upper_bound_rating)]\n",
    "\n",
    "percent_outliers_rating = (len(outliers_rating) / len(df)) * 100\n",
    "print(f\"Outlier percentage: {percent_outliers_rating:.2f}%\")"
   ]
  },
  {
   "cell_type": "code",
   "execution_count": 30,
   "id": "d9665ff6",
   "metadata": {},
   "outputs": [
    {
     "data": {
      "image/png": "[encoded data removed]",
      "text/plain": [
       "<Figure size 1000x400 with 2 Axes>"
      ]
     },
     "metadata": {},
     "output_type": "display_data"
    }
   ],
   "source": [
    "fig, ax = plt.subplots(ncols=2, figsize=(10, 4))\n",
    "\n",
    "non_outliers_rating['RR'].plot(kind='hist', bins=40, ax=ax[0])\n",
    "ax[0].set_title(\"Histogram of Review Ratings (No Outliers)\")\n",
    "ax[0].set_xlabel(\"Review Rating\")\n",
    "ax[0].set_ylabel(\"Frequency\")\n",
    "\n",
    "non_outliers_rating['RR'].plot(kind='box', ax=ax[1])\n",
    "ax[1].set_title(\"Boxplot of Review Ratings (No Outliers)\")\n",
    "ax[1].set_ylabel(\"Review Rating\")\n",
    "\n",
    "plt.tight_layout()\n",
    "plt.show()"
   ]
  },
  {
   "cell_type": "markdown",
   "id": "e2b8c365",
   "metadata": {},
   "source": [
    "Insight:\n",
    "Based on the calculations and visualizations above, the Purchase Amount, Previous Purchases, and Review Rating columns are considered clean, with no significant outliers. Each column shows meaningful variation in values, but remains within a reasonable range that supports reliable statistical analysis.\n",
    "___"
   ]
  },
  {
   "cell_type": "markdown",
   "id": "470e8508",
   "metadata": {},
   "source": [
    "### 5.12 EDA 12. What are the relationships among all variables?"
   ]
  },
  {
   "cell_type": "markdown",
   "id": "0e858adb",
   "metadata": {},
   "source": [
    "EDA 12 aims to identify whether there are relationships between each variable or column. The goal is to determine if any of them have an impact, which requires careful calculation or visualization. \n",
    "\n",
    "I also need to formulate hypotheses to help answer this question."
   ]
  },
  {
   "cell_type": "markdown",
   "id": "31e5f1f4",
   "metadata": {},
   "source": [
    "Formulating Hypotheses:\n",
    "\n",
    "- Null Hypothesis (H0):\n",
    "There is no significant relationship between the variables or columns.\n",
    "\n",
    "- Alternative Hypothesis (H1):\n",
    "There is a significant relationship between the variables or columns.\n",
    "\n",
    "Decision Rule Based on p-value:\n",
    "\n",
    "- If p-value < 0.05 = Reject H0 and accept H1.\n",
    "\n",
    "- If p-value ≥ 0.05 = Fail to reject H0."
   ]
  },
  {
   "cell_type": "markdown",
   "id": "b15261da",
   "metadata": {},
   "source": [
    "Since the dataset does not follow a normal distribution, I used the Spearman method to calculate the p-value and the strength of correlation between variables or columns."
   ]
  },
  {
   "cell_type": "code",
   "execution_count": 31,
   "id": "6157d752",
   "metadata": {},
   "outputs": [
    {
     "name": "stdout",
     "output_type": "stream",
     "text": [
      "Spearman correlation: 0.03, p-value: 0.05782360378309655\n"
     ]
    }
   ],
   "source": [
    "# Calculate the Spearman correlation and p-value between the numeric columns: Purchase Amount and Review Rating\n",
    "corr_rho, pval_s = stats.spearmanr(df['PA'], df['RR'])\n",
    "\n",
    "print(f\"Spearman correlation: {corr_rho:.2f}, p-value: {pval_s}\")"
   ]
  },
  {
   "cell_type": "markdown",
   "id": "22380319",
   "metadata": {},
   "source": [
    "**Insight:**\n",
    "\n",
    "Since the p-value is greater than 0.05, we fail to reject the null hypothesis (H0). \n",
    "\n",
    "This indicates that there is no statistically significant relationship between the Purchase Amount column and the Review Rating column.\n",
    "___"
   ]
  },
  {
   "cell_type": "code",
   "execution_count": 32,
   "id": "676d3c8f",
   "metadata": {},
   "outputs": [
    {
     "name": "stdout",
     "output_type": "stream",
     "text": [
      "Spearman correlation: 0.01, p-value: 0.6036830945527644\n"
     ]
    }
   ],
   "source": [
    "# Calculate the Spearman correlation and p-value between Purchase Amount and Previous Purchases\n",
    "corr_rho, pval_s = stats.spearmanr(df['PA'], df['PP'])\n",
    "\n",
    "print(f\"Spearman correlation: {corr_rho:.2f}, p-value: {pval_s}\")"
   ]
  },
  {
   "cell_type": "markdown",
   "id": "32fe304e",
   "metadata": {},
   "source": [
    "Insight:\n",
    "\n",
    "Since the p-value is greater than 0.05, we fail to reject the null hypothesis (H0). \n",
    "\n",
    "This suggests that there is no statistically significant relationship between the Purchase Amount column and the Previous Purchases column.\n",
    "___"
   ]
  },
  {
   "cell_type": "code",
   "execution_count": 33,
   "id": "991343ba",
   "metadata": {},
   "outputs": [
    {
     "name": "stdout",
     "output_type": "stream",
     "text": [
      "Spearman correlation: -0.01, p-value: 0.5143568334160391\n"
     ]
    }
   ],
   "source": [
    "# Calculate the Spearman correlation and p-value between Purchase Amount and Customer Age\n",
    "corr_rho, pval_s = stats.spearmanr(df['PA'], df['Age'])\n",
    "\n",
    "print(f\"Spearman correlation: {corr_rho:.2f}, p-value: {pval_s}\")"
   ]
  },
  {
   "cell_type": "markdown",
   "id": "f3a1891f",
   "metadata": {},
   "source": [
    "**Insight:**\n",
    "\n",
    "Since the p-value is greater than 0.05, we fail to reject the null hypothesis (H0). \n",
    "\n",
    "This means there is no statistically significant relationship between the Purchase Amount column and the Customer Age column.\n",
    "___"
   ]
  },
  {
   "cell_type": "markdown",
   "id": "7e213501",
   "metadata": {},
   "source": [
    "There is no relationship between the numeric columns, but I would still like to display a correlation matrix of all those numeric columns."
   ]
  },
  {
   "cell_type": "code",
   "execution_count": 34,
   "id": "7453c881",
   "metadata": {},
   "outputs": [
    {
     "data": {
      "image/png": "[encoded data removed]",
      "text/plain": [
       "<Figure size 1000x600 with 2 Axes>"
      ]
     },
     "metadata": {},
     "output_type": "display_data"
    }
   ],
   "source": [
    "numeric_columns = df.select_dtypes(include=['int64', 'float64']).columns\n",
    "correlation_matrix = df[numeric_columns].corr(method=\"pearson\")  # Menghitung korelasi Pearson\n",
    "\n",
    "plt.figure(figsize=(10, 6))\n",
    "sns.heatmap(correlation_matrix, annot=True, cmap=\"coolwarm\", fmt=\".2f\", linewidths=0.5)\n",
    "\n",
    "plt.title(\"Correlation Matrix of Numeric Columns\")\n",
    "plt.show()\n"
   ]
  },
  {
   "cell_type": "markdown",
   "id": "7f8b4b1c",
   "metadata": {},
   "source": [
    "Based on the correlation calculations among numeric columns, there appears to be no strong relationship between any pair of variables. \n",
    "\n",
    "This suggests that each column behaves independently and is not influenced by the others\n",
    "___"
   ]
  },
  {
   "cell_type": "markdown",
   "id": "f3d86c8f",
   "metadata": {},
   "source": [
    "It's time to analyze the relationships between categorical variables! The following are the results of calculations that show categorical variables with a high level of association, which I measured using the Chi-Square algorithm."
   ]
  },
  {
   "cell_type": "code",
   "execution_count": 35,
   "id": "ff01e593",
   "metadata": {},
   "outputs": [
    {
     "name": "stdout",
     "output_type": "stream",
     "text": [
      "Chi-Square Statistic: 12.243\n",
      "P-value: 0.032\n"
     ]
    }
   ],
   "source": [
    "contingency_table_gender_ST = pd.crosstab(df['Gender'], df['Shipping Type'])\n",
    "\n",
    "chi2, p, dof, expected = stats.chi2_contingency(contingency_table_gender_ST)\n",
    "\n",
    "print(f\"Chi-Square Statistic: {chi2:.3f}\")\n",
    "print(f\"P-value: {p:.3f}\")"
   ]
  },
  {
   "cell_type": "markdown",
   "id": "81f85d67",
   "metadata": {},
   "source": [
    "With a Chi-Square value of 12.243 and a p-value of 0.032, we accept H1, indicating a strong relationship between the \"Gender\" variable and the \"Shipping Type\" column.\n",
    "\n",
    "I present the strength of this association using the Cramér's V calculation."
   ]
  },
  {
   "cell_type": "code",
   "execution_count": 36,
   "id": "fe8c5194",
   "metadata": {},
   "outputs": [
    {
     "name": "stdout",
     "output_type": "stream",
     "text": [
      "Cramér's V: 0.056\n"
     ]
    }
   ],
   "source": [
    "def cramers_v(confusion_matrix):\n",
    "    chi2 = stats.chi2_contingency(confusion_matrix)[0]\n",
    "    n = confusion_matrix.sum().sum()\n",
    "    r, k = confusion_matrix.shape\n",
    "    return np.sqrt(chi2 / (n * (min(r, k) - 1)))\n",
    "\n",
    "cramers_v_value = cramers_v(contingency_table_gender_ST)\n",
    "print(f\"Cramér's V: {cramers_v_value:.3f}\")"
   ]
  },
  {
   "cell_type": "markdown",
   "id": "eb7ca03f",
   "metadata": {},
   "source": [
    "With a Cramér's V value of 0.056, the strength of the association between these variables is very weak. How about \"Gender\" x \"Subscription Status\"?\n",
    "___"
   ]
  },
  {
   "cell_type": "code",
   "execution_count": 37,
   "id": "f87b591d",
   "metadata": {},
   "outputs": [
    {
     "name": "stdout",
     "output_type": "stream",
     "text": [
      "Chi-Square Statistic: 676.794\n",
      "P-value: 0.000\n"
     ]
    }
   ],
   "source": [
    "contingency_table_gender_SS = pd.crosstab(df['Gender'], df['SS'])\n",
    "\n",
    "chi2, p, dof, expected = stats.chi2_contingency(contingency_table_gender_SS)\n",
    "\n",
    "print(f\"Chi-Square Statistic: {chi2:.3f}\")\n",
    "print(f\"P-value: {p:.3f}\")"
   ]
  },
  {
   "cell_type": "markdown",
   "id": "fdb86e06",
   "metadata": {},
   "source": [
    "With a Chi-Square value of 676.794 and a p-value below 0.05, we accept H1, indicating a strong relationship between the \"Gender\" variable and the \"Subscription Status\" column.\n",
    "\n",
    "I present the strength of this association using Cramér\"s V and visualize the correlation with the heatmap below.\n"
   ]
  },
  {
   "cell_type": "code",
   "execution_count": 38,
   "id": "cdd921c7",
   "metadata": {},
   "outputs": [
    {
     "name": "stdout",
     "output_type": "stream",
     "text": [
      "Cramér's V: 0.417\n"
     ]
    }
   ],
   "source": [
    "def cramers_v(confusion_matrix):\n",
    "    chi2 = stats.chi2_contingency(confusion_matrix)[0]\n",
    "    n = confusion_matrix.sum().sum()\n",
    "    r, k = confusion_matrix.shape\n",
    "    return np.sqrt(chi2 / (n * (min(r, k) - 1)))\n",
    "\n",
    "cramers_v_value = cramers_v(contingency_table_gender_SS)\n",
    "print(f\"Cramér's V: {cramers_v_value:.3f}\")"
   ]
  },
  {
   "cell_type": "markdown",
   "id": "d484542e",
   "metadata": {},
   "source": [
    "With a Cramér's V value of 0.417, the strength of the association between the two variables 'Gender' and 'Subscription Status' falls into the moderate category."
   ]
  },
  {
   "cell_type": "code",
   "execution_count": 39,
   "id": "b09f14a2",
   "metadata": {},
   "outputs": [
    {
     "data": {
      "image/png": "[encoded data removed]",
      "text/plain": [
       "<Figure size 600x400 with 2 Axes>"
      ]
     },
     "metadata": {},
     "output_type": "display_data"
    }
   ],
   "source": [
    "plt.figure(figsize=(6, 4))\n",
    "sns.heatmap(contingency_table_gender_SS, annot=True, cmap=\"YlGnBu\", fmt='d')\n",
    "plt.title(\"Heatmap of Gender vs Subscription Status\")\n",
    "plt.xlabel(\"Subscription Status\")\n",
    "plt.ylabel(\"Gender\")\n",
    "plt.tight_layout()\n",
    "plt.show()"
   ]
  },
  {
   "cell_type": "markdown",
   "id": "b9705902",
   "metadata": {},
   "source": [
    "**Insight:**\n",
    "\n",
    "- No \"Female\" customers subscribed to the membership (Gender = Female & SS = Yes), frequency = 0\n",
    "\n",
    "- \"Male\" customers who subscribed to the membership (Gender = Male & SS = Yes), frequency = 1,053\n",
    "\n",
    "- \"Female\" customers who did not subscribe to the membership (Gender = Female & SS = No), frequency = 1,248\n",
    "\n",
    "- \"Male\" customers who did not subscribe to the membership (Gender = Male & SS = No), frequency = 1,599\n",
    "\n",
    "**Conclusion:**\n",
    "\n",
    "This insight suggests that the membership program has not attracted interest from the Female customer segment. Therefore, the company should consider enhancing the appeal of the membership offering—possibly by tailoring benefits or features that better align with the preferences of female customers.\n",
    "\n",
    "How about \"Gender\" x \"Discount_Applied\"?\n",
    "___"
   ]
  },
  {
   "cell_type": "code",
   "execution_count": 40,
   "id": "45acfeb3",
   "metadata": {},
   "outputs": [
    {
     "name": "stdout",
     "output_type": "stream",
     "text": [
      "Chi-Square Statistic: 1381.941\n",
      "P-value: 0.000\n"
     ]
    }
   ],
   "source": [
    "contingency_table_gender_da = pd.crosstab(df['Gender'], df['DA'])\n",
    "\n",
    "chi2, p, dof, expected = stats.chi2_contingency(contingency_table_gender_da)\n",
    "\n",
    "print(f\"Chi-Square Statistic: {chi2:.3f}\")\n",
    "print(f\"P-value: {p:.3f}\")"
   ]
  },
  {
   "cell_type": "markdown",
   "id": "f6f07dd3",
   "metadata": {},
   "source": [
    "With a Chi-Square value of 1381.941 and a p-value below 0.05, we accept H₁, indicating a relationship between the 'Gender' variable and the 'Discount Applied' column.\n",
    "\n",
    "I present the strength of this association using Cramér's V and visualize the correlation with the heatmap below."
   ]
  },
  {
   "cell_type": "code",
   "execution_count": 41,
   "id": "fdda6ecc",
   "metadata": {},
   "outputs": [
    {
     "name": "stdout",
     "output_type": "stream",
     "text": [
      "Cramér's V: 0.595\n"
     ]
    }
   ],
   "source": [
    "def cramers_v(confusion_matrix):\n",
    "    chi2 = stats.chi2_contingency(confusion_matrix)[0]\n",
    "    n = confusion_matrix.sum().sum()\n",
    "    r, k = confusion_matrix.shape\n",
    "    return np.sqrt(chi2 / (n * (min(r, k) - 1)))\n",
    "\n",
    "cramers_v_value = cramers_v(contingency_table_gender_da)\n",
    "print(f\"Cramér's V: {cramers_v_value:.3f}\")"
   ]
  },
  {
   "cell_type": "markdown",
   "id": "f217f65c",
   "metadata": {},
   "source": [
    "With a Cramér's V value of 0.595, the strength of the association between the two variables 'Gender' and 'Subscription Status' falls within the moderate-to-strong category."
   ]
  },
  {
   "cell_type": "code",
   "execution_count": 42,
   "id": "b85c9a39",
   "metadata": {},
   "outputs": [
    {
     "data": {
      "image/png": "[encoded data removed]",
      "text/plain": [
       "<Figure size 600x400 with 2 Axes>"
      ]
     },
     "metadata": {},
     "output_type": "display_data"
    }
   ],
   "source": [
    "plt.figure(figsize=(6, 4))\n",
    "sns.heatmap(contingency_table_gender_da, annot=True, cmap=\"YlGnBu\", fmt='d')\n",
    "plt.title(\"Heatmap of Gender vs Discount Applied\")\n",
    "plt.xlabel(\"Discount Applied\")\n",
    "plt.ylabel(\"Gender\")\n",
    "plt.tight_layout()\n",
    "plt.show()"
   ]
  },
  {
   "cell_type": "markdown",
   "id": "6cd9bd4c",
   "metadata": {},
   "source": [
    "**Insight:**\n",
    "\n",
    "- No Female customers used discounts (Gender = Female & DA = Yes), frequency = 0\n",
    "- Male customers who used discounts (Gender = Male & DA = Yes), frequency = 1,677\n",
    "- Female customers who did not use discounts (Gender = Female & DA = No), frequency = 1,248\n",
    "- Male customers who did not use discounts (Gender = Male & DA = No), frequency = 975\n",
    "\n",
    "**Conclusion:**\n",
    "\n",
    "This suggests that no Female customers have applied or used discounts, whereas a significant number of Male customers have. Therefore, the discount feature should be retained, as it appears to hold value—particularly for the male customer segment.\n",
    "\n",
    "How about 'Discount_Applied' x 'Subscription_Status'?\n",
    "___"
   ]
  },
  {
   "cell_type": "code",
   "execution_count": 43,
   "id": "d2f1c11f",
   "metadata": {},
   "outputs": [
    {
     "name": "stdout",
     "output_type": "stream",
     "text": [
      "Chi-Square Statistic: 1908.921\n",
      "P-value: 0.000\n"
     ]
    }
   ],
   "source": [
    "contingency_table = pd.crosstab(df['DA'], df['SS'])\n",
    "\n",
    "chi2, p, dof, expected = stats.chi2_contingency(contingency_table)\n",
    "\n",
    "print(f\"Chi-Square Statistic: {chi2:.3f}\")\n",
    "print(f\"P-value: {p:.3f}\")"
   ]
  },
  {
   "cell_type": "markdown",
   "id": "692b58d8",
   "metadata": {},
   "source": [
    "The p-value is below 0.05, which means we accept H1, indicating a relationship between the 'Discount Applied' variable and the 'Subscription Status' column. \n",
    "\n",
    "I present the strength of this association using Cramér's V and visualize the correlation with the heatmap below."
   ]
  },
  {
   "cell_type": "code",
   "execution_count": 44,
   "id": "cced05ac",
   "metadata": {},
   "outputs": [
    {
     "name": "stdout",
     "output_type": "stream",
     "text": [
      "Cramér's V: 0.700\n"
     ]
    }
   ],
   "source": [
    "def cramers_v(confusion_matrix):\n",
    "    chi2 = stats.chi2_contingency(confusion_matrix)[0]\n",
    "    n = confusion_matrix.sum().sum()\n",
    "    r, k = confusion_matrix.shape\n",
    "    return np.sqrt(chi2 / (n * (min(r, k) - 1)))\n",
    "\n",
    "cramers_v_value = cramers_v(contingency_table)\n",
    "print(f\"Cramér's V: {cramers_v_value:.3f}\")"
   ]
  },
  {
   "cell_type": "markdown",
   "id": "66571b5d",
   "metadata": {},
   "source": [
    "With a Cramér's V value of 0.7, the relationship between the variables 'Discount Applied' and 'Subscription Status' is fairly strong and positively correlated. \n",
    "\n",
    "This suggests that customers who subscribe to the membership program tend to use discounts, and conversely, those who use discounts are likely to be store members."
   ]
  },
  {
   "cell_type": "code",
   "execution_count": 45,
   "id": "95e0bd19",
   "metadata": {},
   "outputs": [
    {
     "data": {
      "image/png": "[encoded data removed]",
      "text/plain": [
       "<Figure size 600x400 with 2 Axes>"
      ]
     },
     "metadata": {},
     "output_type": "display_data"
    }
   ],
   "source": [
    "plt.figure(figsize=(6, 4))\n",
    "sns.heatmap(contingency_table, annot=True, cmap=\"YlGnBu\", fmt='d')\n",
    "plt.title(\"Heatmap of Discount Applied vs Subscription Status\")\n",
    "plt.xlabel(\"Subscription Status\")\n",
    "plt.ylabel(\"Discount Applied\")\n",
    "plt.tight_layout()\n",
    "plt.show()"
   ]
  },
  {
   "cell_type": "markdown",
   "id": "9a6f6118",
   "metadata": {},
   "source": [
    "Insight:\n",
    "\n",
    "- Customers who did not apply for a discount and are not subscribed to the membership (DA = No & SS = No), frequency = 2,223\n",
    "\n",
    "- Customers who did not apply for a discount but are subscribed to the membership (DA = No & SS = Yes), frequency = 0\n",
    "\n",
    "- Customers who applied for a discount and are subscribed to the membership (DA = Yes & SS = Yes), frequency = 1,053\n",
    "\n",
    "- Customers who applied for a discount but are not subscribed to the membership (DA = Yes & SS = No), frequency = 624\n",
    "\n",
    "**Conclusion:**\n",
    "All subscribed members (SS = Yes) used discounts (DA = Yes), as reflected by the absence of any customers in the category of “No Discount + Membership.” This strongly suggests that the discount feature is tightly coupled with membership usage. Additionally, while a significant portion of non members also utilized discounts (624 out of 2,847 non subscribed customers), the discount benefit appears to be particularly compelling for those within the membership program.\n",
    "\n",
    "This pattern implies that discounts may serve as a key motivator for subscription or as an exclusive incentive tied to the membership experience. To capitalize on this behavior, the company could consider reinforcing the visibility of discount related benefits within its membership offerings, or even test a \"members only discount\" campaign to boost both engagement and subscription rates.\n"
   ]
  },
  {
   "cell_type": "markdown",
   "id": "22e6a5bd",
   "metadata": {},
   "source": [
    "\n",
    "___"
   ]
  },
  {
   "cell_type": "markdown",
   "id": "61e696d4",
   "metadata": {},
   "source": [
    "## 6.1 Conclusion"
   ]
  },
  {
   "cell_type": "markdown",
   "id": "854f7064",
   "metadata": {},
   "source": [
    "Following the analysis of the dataset, several recommendations have been identified that the company can consider to enhance customer engagement and drive sales:\n",
    "\n",
    "- Product Types and Brands Offered\n",
    "\n",
    "    **Problem:** \n",
    "    \n",
    "    Product offerings may no longer align with current market trends or customer preferences, causing stagnation in customer acquisition.\n",
    "\n",
    "    **Recommendation:** \n",
    "    \n",
    "    Regularly analyze brand trends and consumer interest to optimize inventory and improve appeal.\n",
    "\n",
    "\n",
    "- Membership Subscription Features\n",
    "\n",
    "    **Problem:** \n",
    "    \n",
    "    The perceived value of the membership program may be too low, resulting in low subscription uptake.\n",
    "\n",
    "    **Recommendation:** \n",
    "    \n",
    "    Enhance features to make subscriptions more attractive and clearly rewarding.\n",
    "\n",
    "\n",
    "- Sustaining the Discount Program\n",
    "\n",
    "    **Problem:** \n",
    "    \n",
    "    Discounts are heavily utilized and may be the main trigger for purchase, especially among loyal customers. Removing or neglecting this could reduce transaction volume.\n",
    "\n",
    "    **Recommendation:** \n",
    "    \n",
    "    Maintain and optimize discount schemes, including options to encourage larger transaction amounts.\n",
    "\n",
    "- Seasonal Event Planning\n",
    "\n",
    "    **Problem:** \n",
    "    \n",
    "    Lack of timely promotional campaigns may lead to underutilized peak seasons and missed customer engagement opportunities.\n",
    "\n",
    "    **Recommendation:** \n",
    "    \n",
    "    Leverage seasonality and holidays with themed campaigns to boost attention and transactions.\n",
    "\n",
    "- Improving Service and Product Quality\n",
    "\n",
    "    **Problem:** \n",
    "    \n",
    "    An average rating of 3.75 meaning a “neutral” customer sentiment, risking churn if competitors offer better experiences.\n",
    "\n",
    "    **Recommendation:** \n",
    "    \n",
    "    Train staff to improve service attitudes and continuously monitor product quality to raise satisfaction.\n",
    "\n",
    "    Additionally, attention should be paid to enhancing product quality to increase customer satisfaction and raise overall ratings.\n",
    "___"
   ]
  }
 ],
 "metadata": {
  "kernelspec": {
   "display_name": "base",
   "language": "python",
   "name": "python3"
  },
  "language_info": {
   "codemirror_mode": {
    "name": "ipython",
    "version": 3
   },
   "file_extension": ".py",
   "mimetype": "text/x-python",
   "name": "python",
   "nbconvert_exporter": "python",
   "pygments_lexer": "ipython3",
   "version": "3.12.3"
  }
 },
 "nbformat": 4,
 "nbformat_minor": 5
}
