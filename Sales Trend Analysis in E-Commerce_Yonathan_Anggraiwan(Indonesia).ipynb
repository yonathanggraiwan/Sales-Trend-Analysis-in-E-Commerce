{
 "cells": [
  {
   "cell_type": "markdown",
   "id": "4e53f49c",
   "metadata": {},
   "source": [
    "# Milestone 01"
   ]
  },
  {
   "cell_type": "markdown",
   "id": "c0161a7a",
   "metadata": {},
   "source": [
    "___\n",
    "\n",
    "## 1. Introduction\n",
    "\n",
    "Nama    : Yonathan Anggraiwan\n",
    "\n",
    "Saya adalah seorang data analyst yang bekerja di suatu e-commerce. Pada kesempatan kali ini, pemilik perusahaan meminta kepada saya untuk menganalisa data penjualan tahunan dari toko-toko miliknya. Saya harus menghasilkan kesimpulan analisa yang benar dengan menggunakan perhitungan statistik, serta membuat dashboard visualisasi untuk dipresentasikan kepada para petinggi toko.\n",
    "\n",
    "Objektif:\n",
    "Objektif dari proses analisa ini adalah saya perlu mempelajari dataset dengan baik, menganalisanya, dan membuat dashboard interaktif untuk dipresentasikan."
   ]
  },
  {
   "cell_type": "markdown",
   "id": "ab90b14e",
   "metadata": {},
   "source": [
    "## 2. Import Libraries"
   ]
  },
  {
   "cell_type": "code",
   "execution_count": 1,
   "id": "37db502a",
   "metadata": {},
   "outputs": [],
   "source": [
    "import pandas as pd                         # Import package pandas\n",
    "import scipy as sp                          # Import package scipy\n",
    "import statistics as stats                  # Import package statistics\n",
    "import numpy as np                          # Import package numpy\n",
    "import matplotlib.pyplot as plt             # Import package matplotlib.pyplot\n",
    "import seaborn as sns                       # Import package seaborn\n",
    "from scipy import stats                     # Import stats dalam package scipy untuk akses pengolahan statistika\n",
    "import plotly.express as px                 # Import plotly express untuk package visualisasi plotly"
   ]
  },
  {
   "cell_type": "markdown",
   "id": "29a5f41d",
   "metadata": {},
   "source": [
    "___\n",
    "## 3. Business Understanding / Problem Statement "
   ]
  },
  {
   "cell_type": "markdown",
   "id": "c917fe49",
   "metadata": {},
   "source": [
    "Topik permasalahan:\n",
    "\n",
    "Topik permasalahan dari proses analisa ini adalah pemilihan metode analisis dan visualisasi data yang tepat. Selain itu, perlu diketahui apakah terdapat korelasi atau hubungan antar kolom atau fitur dari data yang diolah.\n",
    "\n",
    "SMART Framework:\n",
    "\n",
    "Spesifik: Mengetahui tren penjualan barang untuk meningkatkan besar penjualan selanjutnya dari departemen store tempat saya bekerja.\n",
    "\n",
    "Measurable: meningkatkan penjualan toko sebesar 10% dengan mengetahui tren datanya. Dimana metriksnya adalah Customer Loyalty With Retention (metrik yang digunakan untuk melihat bagaimana perusahaan menarik pelanggan, meyakinkan mereka untuk membeli produk atau layanan, dan membuat mereka terus melakukan pembelian. Tujuan utamanya adalah membangun hubungan jangka panjang yang menguntungkan agar penjualan terus meningkat.)\n",
    "\n",
    "Achievable: Dengan mengetahui tren penjualan barang, maka peningkatan penjualan toko sebesar 10% dapat dicapai.\n",
    "\n",
    "Relevant: Mengetahui dan mempelajari tren penjualan barang dapat meningkatkan penjualan toko sebesar 10%.\n",
    "\n",
    "Time-bound: Proses analisa pola tren penjualan barang ini dapat dicapai dalam waktu 6 hari, sedangkan untuk peningkatan penjualan sebesar 10% dapat dicapai dalam waktu 1 tahun dengan perhitungan tahunan.\n",
    "\n",
    "Dengan menganalisis tren penjualan selama enam hari, saya dapat mengoptimalkan strategi berbasis metriks Customer Loyalty with Retention yang disesuaikan dengan preferensi konsumen perusahaan, sehingga penjualan perusahaan dapat terdorong hingga 10% di tahun berikutnya.\n"
   ]
  },
  {
   "cell_type": "markdown",
   "id": "73142c10",
   "metadata": {},
   "source": [
    "___\n",
    "## 3. Data Loading"
   ]
  },
  {
   "cell_type": "markdown",
   "id": "54abc7b5",
   "metadata": {},
   "source": [
    "Sumber dataset:\n",
    "\n",
    "Data yang saya olah, berasal dari situs kaggle.com, dimana data ini dapat diakses dengan [link sebagai berikut ini.](https://www.kaggle.com/datasets/zeesolver/consumer-behavior-and-shopping-habits-dataset/data)\n",
    "\n",
    "Data yang sudah didownload, kemudian dicall dengan menggunakan syntax pandas."
   ]
  },
  {
   "cell_type": "code",
   "execution_count": 3,
   "id": "782b78c8",
   "metadata": {},
   "outputs": [
    {
     "data": {
      "text/html": [
       "<div>\n",
       "<style scoped>\n",
       "    .dataframe tbody tr th:only-of-type {\n",
       "        vertical-align: middle;\n",
       "    }\n",
       "\n",
       "    .dataframe tbody tr th {\n",
       "        vertical-align: top;\n",
       "    }\n",
       "\n",
       "    .dataframe thead th {\n",
       "        text-align: right;\n",
       "    }\n",
       "</style>\n",
       "<table border=\"1\" class=\"dataframe\">\n",
       "  <thead>\n",
       "    <tr style=\"text-align: right;\">\n",
       "      <th></th>\n",
       "      <th>Customer ID</th>\n",
       "      <th>Age</th>\n",
       "      <th>Gender</th>\n",
       "      <th>Item Purchased</th>\n",
       "      <th>Category</th>\n",
       "      <th>Purchase Amount (USD)</th>\n",
       "      <th>Location</th>\n",
       "      <th>Size</th>\n",
       "      <th>Color</th>\n",
       "      <th>Season</th>\n",
       "      <th>Review Rating</th>\n",
       "      <th>Subscription Status</th>\n",
       "      <th>Payment Method</th>\n",
       "      <th>Shipping Type</th>\n",
       "      <th>Discount Applied</th>\n",
       "      <th>Promo Code Used</th>\n",
       "      <th>Previous Purchases</th>\n",
       "      <th>Preferred Payment Method</th>\n",
       "      <th>Frequency of Purchases</th>\n",
       "    </tr>\n",
       "  </thead>\n",
       "  <tbody>\n",
       "    <tr>\n",
       "      <th>0</th>\n",
       "      <td>1</td>\n",
       "      <td>55</td>\n",
       "      <td>Male</td>\n",
       "      <td>Blouse</td>\n",
       "      <td>Clothing</td>\n",
       "      <td>53</td>\n",
       "      <td>Kentucky</td>\n",
       "      <td>L</td>\n",
       "      <td>Gray</td>\n",
       "      <td>Winter</td>\n",
       "      <td>3.1</td>\n",
       "      <td>Yes</td>\n",
       "      <td>Credit Card</td>\n",
       "      <td>Express</td>\n",
       "      <td>Yes</td>\n",
       "      <td>Yes</td>\n",
       "      <td>14</td>\n",
       "      <td>Venmo</td>\n",
       "      <td>Fortnightly</td>\n",
       "    </tr>\n",
       "    <tr>\n",
       "      <th>1</th>\n",
       "      <td>2</td>\n",
       "      <td>19</td>\n",
       "      <td>Male</td>\n",
       "      <td>Sweater</td>\n",
       "      <td>Clothing</td>\n",
       "      <td>64</td>\n",
       "      <td>Maine</td>\n",
       "      <td>L</td>\n",
       "      <td>Maroon</td>\n",
       "      <td>Winter</td>\n",
       "      <td>3.1</td>\n",
       "      <td>Yes</td>\n",
       "      <td>Bank Transfer</td>\n",
       "      <td>Express</td>\n",
       "      <td>Yes</td>\n",
       "      <td>Yes</td>\n",
       "      <td>2</td>\n",
       "      <td>Cash</td>\n",
       "      <td>Fortnightly</td>\n",
       "    </tr>\n",
       "    <tr>\n",
       "      <th>2</th>\n",
       "      <td>3</td>\n",
       "      <td>50</td>\n",
       "      <td>Male</td>\n",
       "      <td>Jeans</td>\n",
       "      <td>Clothing</td>\n",
       "      <td>73</td>\n",
       "      <td>Massachusetts</td>\n",
       "      <td>S</td>\n",
       "      <td>Maroon</td>\n",
       "      <td>Spring</td>\n",
       "      <td>3.1</td>\n",
       "      <td>Yes</td>\n",
       "      <td>Cash</td>\n",
       "      <td>Free Shipping</td>\n",
       "      <td>Yes</td>\n",
       "      <td>Yes</td>\n",
       "      <td>23</td>\n",
       "      <td>Credit Card</td>\n",
       "      <td>Weekly</td>\n",
       "    </tr>\n",
       "  </tbody>\n",
       "</table>\n",
       "</div>"
      ],
      "text/plain": [
       "   Customer ID  Age Gender Item Purchased  Category  Purchase Amount (USD)  \\\n",
       "0            1   55   Male         Blouse  Clothing                     53   \n",
       "1            2   19   Male        Sweater  Clothing                     64   \n",
       "2            3   50   Male          Jeans  Clothing                     73   \n",
       "\n",
       "        Location Size   Color  Season  Review Rating Subscription Status  \\\n",
       "0       Kentucky    L    Gray  Winter            3.1                 Yes   \n",
       "1          Maine    L  Maroon  Winter            3.1                 Yes   \n",
       "2  Massachusetts    S  Maroon  Spring            3.1                 Yes   \n",
       "\n",
       "  Payment Method  Shipping Type Discount Applied Promo Code Used  \\\n",
       "0    Credit Card        Express              Yes             Yes   \n",
       "1  Bank Transfer        Express              Yes             Yes   \n",
       "2           Cash  Free Shipping              Yes             Yes   \n",
       "\n",
       "   Previous Purchases Preferred Payment Method Frequency of Purchases  \n",
       "0                  14                    Venmo            Fortnightly  \n",
       "1                   2                     Cash            Fortnightly  \n",
       "2                  23              Credit Card                 Weekly  "
      ]
     },
     "execution_count": 3,
     "metadata": {},
     "output_type": "execute_result"
    }
   ],
   "source": [
    "df = pd.read_csv(\"P0M1_Yonathan_Anggraiwan_dataset.csv\")\n",
    "df.head(3)"
   ]
  },
  {
   "cell_type": "markdown",
   "id": "f5d73f23",
   "metadata": {},
   "source": [
    "Insight:\n",
    "\n",
    "Data ini adalah data transaksi belanja konsumen, yang mencakup beberapa kolom yang menggambarkan perilaku seorang  konsumen disaat berbelanja. Data ini terdiri dari 14 kolom data kategorik dan 5 kolom data numerik, dimana data ini memiliki 3900 baris didalamnya. \n",
    "\n",
    "Berikut ini adalah penjelasan singkat tentang kolom-kolom datanya:\n",
    "\n",
    "1. Customer ID - ID konsumen,\n",
    "\n",
    "2. Age - Umur konsumen,\n",
    "\n",
    "3. Gender - Jenis kelamin konsumen,\n",
    "\n",
    "4. Item Purchased - Jenis barang yang dibeli (Blouse, sweater, jeans, sandals, dll.),\n",
    "\n",
    "5. Category - Kategori barang yang dibeli (Clothing, footwear, outerwear, dan accessories.),\n",
    "\n",
    "6. Purchase Amount (USD) - Besar pembayaran yang dilakukan konsumen dengan mata uang USD,\n",
    "\n",
    "7. Location - Lokasi konsumen melakukan transaksi,\n",
    "\n",
    "8. Size - Ukuran barang yang dibeli konsumen (S, M, L, XL.),\n",
    "\n",
    "9. Color - Warna barang yang dibeli konsumen,\n",
    "\n",
    "10. Season - Musim waktu konsumen melakukan transaksi,\n",
    "\n",
    "11. Review Rating - Besar rating yang diberikan oleh konsumen,\n",
    "\n",
    "12. Subscription Status - Status membership konsumen,\n",
    "\n",
    "13. Payment Method - Metode pembayaran yang dilakukan konsumen,\n",
    "\n",
    "14. Discount Applied - Transaksi yang dilakukan konsumen menggunakan fitur diskon / tidak,\n",
    "\n",
    "15. Promo Code Used - Transaksi yang dilakukan konsumen menggunakan kode promo / tidak,\n",
    "\n",
    "16. Previous Purchases - Besar pembayaran sebelumnya yang dilakukan oleh konsumen dengan mata uang USD,\n",
    "\n",
    "17. Preferred Payment Method - Metode pembayaran yang di inginkan konsumen,\n",
    "\n",
    "18. Frequency of Purchases - Frekuensi pembelian yang dilakukan oleh konsumen.\n",
    "\n",
    "Data ini memiliki kolom payment method, shipping type, discount applied, previous purchases, preferred payment method, dan frequency of purchases yang menggambarkan perilaku seorang konsumen. \n",
    "\n",
    "Akan tetapi setelah dianalisa, kolom yang menggambarkan perilaku seorang konsumen tidak terlalu diperlukan oleh user, karena user lebih ingin tau hubungan tiap kolom / variabel, dan penggambaran datanya seperti apa untuk proses peningkatan penjualan berdasarkan tren belanja.\n",
    "\n",
    "Setelah dilihat secara kasar, kolom dengan value kolom sudah sesuai dengan yang seharusnya, akan tetapi saya perlu telurusi lebih lanjut dengan data ini."
   ]
  },
  {
   "cell_type": "markdown",
   "id": "dc5192dc",
   "metadata": {},
   "source": [
    "___\n",
    "## 4. Data Preprocessing"
   ]
  },
  {
   "cell_type": "markdown",
   "id": "b09b8ab1",
   "metadata": {},
   "source": [
    "Saya ingin melihat penjelasan informasi data yang diolah."
   ]
  },
  {
   "cell_type": "code",
   "execution_count": 15,
   "id": "8b5b4d3d",
   "metadata": {},
   "outputs": [
    {
     "data": {
      "text/plain": [
       "(3900, 17)"
      ]
     },
     "execution_count": 15,
     "metadata": {},
     "output_type": "execute_result"
    }
   ],
   "source": [
    "df.shape                # Menampilkan dimensi data"
   ]
  },
  {
   "cell_type": "markdown",
   "id": "add6369b",
   "metadata": {},
   "source": [
    "Data ini terdiri dari 3900 baris data, dan 17 kolom data."
   ]
  },
  {
   "cell_type": "code",
   "execution_count": 5,
   "id": "ddadba56",
   "metadata": {},
   "outputs": [
    {
     "name": "stdout",
     "output_type": "stream",
     "text": [
      "<class 'pandas.core.frame.DataFrame'>\n",
      "RangeIndex: 3900 entries, 0 to 3899\n",
      "Data columns (total 19 columns):\n",
      " #   Column                    Non-Null Count  Dtype  \n",
      "---  ------                    --------------  -----  \n",
      " 0   Customer ID               3900 non-null   int64  \n",
      " 1   Age                       3900 non-null   int64  \n",
      " 2   Gender                    3900 non-null   object \n",
      " 3   Item Purchased            3900 non-null   object \n",
      " 4   Category                  3900 non-null   object \n",
      " 5   Purchase Amount (USD)     3900 non-null   int64  \n",
      " 6   Location                  3900 non-null   object \n",
      " 7   Size                      3900 non-null   object \n",
      " 8   Color                     3900 non-null   object \n",
      " 9   Season                    3900 non-null   object \n",
      " 10  Review Rating             3900 non-null   float64\n",
      " 11  Subscription Status       3900 non-null   object \n",
      " 12  Payment Method            3900 non-null   object \n",
      " 13  Shipping Type             3900 non-null   object \n",
      " 14  Discount Applied          3900 non-null   object \n",
      " 15  Promo Code Used           3900 non-null   object \n",
      " 16  Previous Purchases        3900 non-null   int64  \n",
      " 17  Preferred Payment Method  3900 non-null   object \n",
      " 18  Frequency of Purchases    3900 non-null   object \n",
      "dtypes: float64(1), int64(4), object(14)\n",
      "memory usage: 579.0+ KB\n"
     ]
    }
   ],
   "source": [
    "df.info()"
   ]
  },
  {
   "cell_type": "markdown",
   "id": "f2195970",
   "metadata": {},
   "source": [
    "Insight:\n",
    "\n",
    "Tidak terdapat missing value dari keseluruhan data, dan tipe data kolom juga sudah sesuai dengan yang seharusnya, akan tetapi akan dicek kembali dengan syntax pandas.\n",
    "___"
   ]
  },
  {
   "cell_type": "code",
   "execution_count": null,
   "id": "308a1d70",
   "metadata": {},
   "outputs": [
    {
     "data": {
      "text/plain": [
       "np.int64(0)"
      ]
     },
     "execution_count": 7,
     "metadata": {},
     "output_type": "execute_result"
    }
   ],
   "source": [
    "# Cek missing values\n",
    "df.isna().sum().sum()"
   ]
  },
  {
   "cell_type": "markdown",
   "id": "d396a0b7",
   "metadata": {},
   "source": [
    "Insight:\n",
    "\n",
    "Benar, tidak terdapat missing value, akan tetapi apakah ada data duplikat? Mari kita mengeceknya dengan menggunakan keyword df.duplicated().sum()"
   ]
  },
  {
   "cell_type": "code",
   "execution_count": 8,
   "id": "3898ac39",
   "metadata": {},
   "outputs": [
    {
     "data": {
      "text/plain": [
       "np.int64(0)"
      ]
     },
     "execution_count": 8,
     "metadata": {},
     "output_type": "execute_result"
    }
   ],
   "source": [
    "# check data duplikat\n",
    "df.duplicated().sum()"
   ]
  },
  {
   "cell_type": "markdown",
   "id": "ee4141c4",
   "metadata": {},
   "source": [
    "Insight:\n",
    "\n",
    "Ternyata tidak ada data duplikat. Sejauh ini datanya bisa dikategorikan \"bagus\" untuk diproses. \n",
    "\n",
    "Akan tetapi, terdapat kolom yang valuenya memiliki arti yang sama, yaitu kolom \"Discount Applied\" dengan \"Promo Code Used\", dimana kolom \"Discount Applied\" berisikan data dari konsumen yang mengajukan diskon atau potongan harga disaat berbelanja, yang dimana disaat konsumen mengajukan diskon tersebut, konsumen menggunakan kode promo, sehingga kolom ini dikategorikan sama, dan saya memilih untuk menghapus kolom \"Promo Code Used\". \n",
    "___"
   ]
  },
  {
   "cell_type": "code",
   "execution_count": 9,
   "id": "23779a92",
   "metadata": {},
   "outputs": [],
   "source": [
    "df = df.drop(columns=[\"Promo Code Used\"])"
   ]
  },
  {
   "cell_type": "markdown",
   "id": "e26dbc1e",
   "metadata": {},
   "source": [
    "Insight:\n",
    "\n",
    "Kolom data \"Promo Code Used\" sudah dihapus dari dataset. \n",
    "\n",
    "Selanjutnya, karena terdapat banyak kolom yang namanya panjang, maka saya mengubah nama kolomnya supaya tidak terlalu panjang untuk memudahkan proses pengodingan.\n",
    "\n",
    "Saya juga ingin mengubah kolom customer id menjadi index datasetnya."
   ]
  },
  {
   "cell_type": "code",
   "execution_count": 11,
   "id": "6f124cd8",
   "metadata": {},
   "outputs": [
    {
     "data": {
      "text/html": [
       "<div>\n",
       "<style scoped>\n",
       "    .dataframe tbody tr th:only-of-type {\n",
       "        vertical-align: middle;\n",
       "    }\n",
       "\n",
       "    .dataframe tbody tr th {\n",
       "        vertical-align: top;\n",
       "    }\n",
       "\n",
       "    .dataframe thead th {\n",
       "        text-align: right;\n",
       "    }\n",
       "</style>\n",
       "<table border=\"1\" class=\"dataframe\">\n",
       "  <thead>\n",
       "    <tr style=\"text-align: right;\">\n",
       "      <th></th>\n",
       "      <th>Age</th>\n",
       "      <th>Gender</th>\n",
       "      <th>Item Purchased</th>\n",
       "      <th>Category</th>\n",
       "      <th>PA</th>\n",
       "      <th>Location</th>\n",
       "      <th>Size</th>\n",
       "      <th>Color</th>\n",
       "      <th>Season</th>\n",
       "      <th>RR</th>\n",
       "      <th>SS</th>\n",
       "      <th>Payment Method</th>\n",
       "      <th>Shipping Type</th>\n",
       "      <th>DA</th>\n",
       "      <th>PP</th>\n",
       "      <th>PPM</th>\n",
       "      <th>FOP</th>\n",
       "    </tr>\n",
       "    <tr>\n",
       "      <th>Customer ID</th>\n",
       "      <th></th>\n",
       "      <th></th>\n",
       "      <th></th>\n",
       "      <th></th>\n",
       "      <th></th>\n",
       "      <th></th>\n",
       "      <th></th>\n",
       "      <th></th>\n",
       "      <th></th>\n",
       "      <th></th>\n",
       "      <th></th>\n",
       "      <th></th>\n",
       "      <th></th>\n",
       "      <th></th>\n",
       "      <th></th>\n",
       "      <th></th>\n",
       "      <th></th>\n",
       "    </tr>\n",
       "  </thead>\n",
       "  <tbody>\n",
       "    <tr>\n",
       "      <th>1</th>\n",
       "      <td>55</td>\n",
       "      <td>Male</td>\n",
       "      <td>Blouse</td>\n",
       "      <td>Clothing</td>\n",
       "      <td>53</td>\n",
       "      <td>Kentucky</td>\n",
       "      <td>L</td>\n",
       "      <td>Gray</td>\n",
       "      <td>Winter</td>\n",
       "      <td>3.1</td>\n",
       "      <td>Yes</td>\n",
       "      <td>Credit Card</td>\n",
       "      <td>Express</td>\n",
       "      <td>Yes</td>\n",
       "      <td>14</td>\n",
       "      <td>Venmo</td>\n",
       "      <td>Fortnightly</td>\n",
       "    </tr>\n",
       "    <tr>\n",
       "      <th>2</th>\n",
       "      <td>19</td>\n",
       "      <td>Male</td>\n",
       "      <td>Sweater</td>\n",
       "      <td>Clothing</td>\n",
       "      <td>64</td>\n",
       "      <td>Maine</td>\n",
       "      <td>L</td>\n",
       "      <td>Maroon</td>\n",
       "      <td>Winter</td>\n",
       "      <td>3.1</td>\n",
       "      <td>Yes</td>\n",
       "      <td>Bank Transfer</td>\n",
       "      <td>Express</td>\n",
       "      <td>Yes</td>\n",
       "      <td>2</td>\n",
       "      <td>Cash</td>\n",
       "      <td>Fortnightly</td>\n",
       "    </tr>\n",
       "    <tr>\n",
       "      <th>3</th>\n",
       "      <td>50</td>\n",
       "      <td>Male</td>\n",
       "      <td>Jeans</td>\n",
       "      <td>Clothing</td>\n",
       "      <td>73</td>\n",
       "      <td>Massachusetts</td>\n",
       "      <td>S</td>\n",
       "      <td>Maroon</td>\n",
       "      <td>Spring</td>\n",
       "      <td>3.1</td>\n",
       "      <td>Yes</td>\n",
       "      <td>Cash</td>\n",
       "      <td>Free Shipping</td>\n",
       "      <td>Yes</td>\n",
       "      <td>23</td>\n",
       "      <td>Credit Card</td>\n",
       "      <td>Weekly</td>\n",
       "    </tr>\n",
       "    <tr>\n",
       "      <th>4</th>\n",
       "      <td>21</td>\n",
       "      <td>Male</td>\n",
       "      <td>Sandals</td>\n",
       "      <td>Footwear</td>\n",
       "      <td>90</td>\n",
       "      <td>Rhode Island</td>\n",
       "      <td>M</td>\n",
       "      <td>Maroon</td>\n",
       "      <td>Spring</td>\n",
       "      <td>3.5</td>\n",
       "      <td>Yes</td>\n",
       "      <td>PayPal</td>\n",
       "      <td>Next Day Air</td>\n",
       "      <td>Yes</td>\n",
       "      <td>49</td>\n",
       "      <td>PayPal</td>\n",
       "      <td>Weekly</td>\n",
       "    </tr>\n",
       "    <tr>\n",
       "      <th>5</th>\n",
       "      <td>45</td>\n",
       "      <td>Male</td>\n",
       "      <td>Blouse</td>\n",
       "      <td>Clothing</td>\n",
       "      <td>49</td>\n",
       "      <td>Oregon</td>\n",
       "      <td>M</td>\n",
       "      <td>Turquoise</td>\n",
       "      <td>Spring</td>\n",
       "      <td>2.7</td>\n",
       "      <td>Yes</td>\n",
       "      <td>Cash</td>\n",
       "      <td>Free Shipping</td>\n",
       "      <td>Yes</td>\n",
       "      <td>31</td>\n",
       "      <td>PayPal</td>\n",
       "      <td>Annually</td>\n",
       "    </tr>\n",
       "  </tbody>\n",
       "</table>\n",
       "</div>"
      ],
      "text/plain": [
       "             Age Gender Item Purchased  Category  PA       Location Size  \\\n",
       "Customer ID                                                                \n",
       "1             55   Male         Blouse  Clothing  53       Kentucky    L   \n",
       "2             19   Male        Sweater  Clothing  64          Maine    L   \n",
       "3             50   Male          Jeans  Clothing  73  Massachusetts    S   \n",
       "4             21   Male        Sandals  Footwear  90   Rhode Island    M   \n",
       "5             45   Male         Blouse  Clothing  49         Oregon    M   \n",
       "\n",
       "                 Color  Season   RR   SS Payment Method  Shipping Type   DA  \\\n",
       "Customer ID                                                                   \n",
       "1                 Gray  Winter  3.1  Yes    Credit Card        Express  Yes   \n",
       "2               Maroon  Winter  3.1  Yes  Bank Transfer        Express  Yes   \n",
       "3               Maroon  Spring  3.1  Yes           Cash  Free Shipping  Yes   \n",
       "4               Maroon  Spring  3.5  Yes         PayPal   Next Day Air  Yes   \n",
       "5            Turquoise  Spring  2.7  Yes           Cash  Free Shipping  Yes   \n",
       "\n",
       "             PP          PPM          FOP  \n",
       "Customer ID                                \n",
       "1            14        Venmo  Fortnightly  \n",
       "2             2         Cash  Fortnightly  \n",
       "3            23  Credit Card       Weekly  \n",
       "4            49       PayPal       Weekly  \n",
       "5            31       PayPal     Annually  "
      ]
     },
     "execution_count": 11,
     "metadata": {},
     "output_type": "execute_result"
    }
   ],
   "source": [
    "df.rename(columns={\"Purchase Amount (USD)\": \"PA\",\n",
    "                   \"Preferred Payment Method\":\"PPM\",\n",
    "                   \"Frequency of Purchases\":\"FOP\",\n",
    "                   \"Subscription Status\":\"SS\",\n",
    "                   \"Review Rating\":\"RR\",\n",
    "                   \"Discount Applied\":\"DA\",\n",
    "                   \"Previous Purchases\":\"PP\"}, inplace=True)\n",
    "\n",
    "df = df.set_index('Customer ID') # Mengubah kolom customer ID menjadi index data\n",
    "df.head(5)"
   ]
  },
  {
   "cell_type": "markdown",
   "id": "44ba8858",
   "metadata": {},
   "source": [
    "Selanjutnya saya ingin melihat deskripsi datanya menggunakan syntax .describe(), dimana hasil yang keluar adalah nilai mean (rata-rata value), nilai std (standar deviasi), hingga nilai minimum dan maksimum dari kolom-kolom numerik. Informasi yang digali dapat berguna untuk melihat apakah data dari kolom-kolom numerik berdistribusi normal atau tidak, apakah memiliki outlier atau tidak.\n",
    "___"
   ]
  },
  {
   "cell_type": "code",
   "execution_count": null,
   "id": "6b8c66a3",
   "metadata": {},
   "outputs": [
    {
     "data": {
      "text/html": [
       "<div>\n",
       "<style scoped>\n",
       "    .dataframe tbody tr th:only-of-type {\n",
       "        vertical-align: middle;\n",
       "    }\n",
       "\n",
       "    .dataframe tbody tr th {\n",
       "        vertical-align: top;\n",
       "    }\n",
       "\n",
       "    .dataframe thead th {\n",
       "        text-align: right;\n",
       "    }\n",
       "</style>\n",
       "<table border=\"1\" class=\"dataframe\">\n",
       "  <thead>\n",
       "    <tr style=\"text-align: right;\">\n",
       "      <th></th>\n",
       "      <th>Age</th>\n",
       "      <th>PA</th>\n",
       "      <th>RR</th>\n",
       "      <th>PP</th>\n",
       "    </tr>\n",
       "  </thead>\n",
       "  <tbody>\n",
       "    <tr>\n",
       "      <th>count</th>\n",
       "      <td>3900.000000</td>\n",
       "      <td>3900.000000</td>\n",
       "      <td>3900.000000</td>\n",
       "      <td>3900.000000</td>\n",
       "    </tr>\n",
       "    <tr>\n",
       "      <th>mean</th>\n",
       "      <td>44.068462</td>\n",
       "      <td>59.764359</td>\n",
       "      <td>3.749949</td>\n",
       "      <td>25.351538</td>\n",
       "    </tr>\n",
       "    <tr>\n",
       "      <th>std</th>\n",
       "      <td>15.207589</td>\n",
       "      <td>23.685392</td>\n",
       "      <td>0.716223</td>\n",
       "      <td>14.447125</td>\n",
       "    </tr>\n",
       "    <tr>\n",
       "      <th>min</th>\n",
       "      <td>18.000000</td>\n",
       "      <td>20.000000</td>\n",
       "      <td>2.500000</td>\n",
       "      <td>1.000000</td>\n",
       "    </tr>\n",
       "    <tr>\n",
       "      <th>25%</th>\n",
       "      <td>31.000000</td>\n",
       "      <td>39.000000</td>\n",
       "      <td>3.100000</td>\n",
       "      <td>13.000000</td>\n",
       "    </tr>\n",
       "    <tr>\n",
       "      <th>50%</th>\n",
       "      <td>44.000000</td>\n",
       "      <td>60.000000</td>\n",
       "      <td>3.700000</td>\n",
       "      <td>25.000000</td>\n",
       "    </tr>\n",
       "    <tr>\n",
       "      <th>75%</th>\n",
       "      <td>57.000000</td>\n",
       "      <td>81.000000</td>\n",
       "      <td>4.400000</td>\n",
       "      <td>38.000000</td>\n",
       "    </tr>\n",
       "    <tr>\n",
       "      <th>max</th>\n",
       "      <td>70.000000</td>\n",
       "      <td>100.000000</td>\n",
       "      <td>5.000000</td>\n",
       "      <td>50.000000</td>\n",
       "    </tr>\n",
       "  </tbody>\n",
       "</table>\n",
       "</div>"
      ],
      "text/plain": [
       "               Age           PA           RR           PP\n",
       "count  3900.000000  3900.000000  3900.000000  3900.000000\n",
       "mean     44.068462    59.764359     3.749949    25.351538\n",
       "std      15.207589    23.685392     0.716223    14.447125\n",
       "min      18.000000    20.000000     2.500000     1.000000\n",
       "25%      31.000000    39.000000     3.100000    13.000000\n",
       "50%      44.000000    60.000000     3.700000    25.000000\n",
       "75%      57.000000    81.000000     4.400000    38.000000\n",
       "max      70.000000   100.000000     5.000000    50.000000"
      ]
     },
     "execution_count": 12,
     "metadata": {},
     "output_type": "execute_result"
    }
   ],
   "source": [
    "df.describe() # ksyntax untuk menampilkan deskripsi data numerik"
   ]
  },
  {
   "cell_type": "markdown",
   "id": "43aa19d1",
   "metadata": {},
   "source": [
    "Insight data:\n",
    "\n",
    "Dari penjalasan data diatas, maka kita dapatkan insight sebagai berikut:\n",
    "\n",
    "1. Data Umur (Age)\n",
    "\n",
    "    Memiliki standar deviasi sebesar 15.20, yang berarti umur dari konsumen sangat bervariasi, dimulai dari umur 18 tahun hingga 70 tahun.\n",
    "\n",
    "    Rata-rata umur konsumen adalah berumur 44 tahun.\n",
    "\n",
    "2. Data PA atau Purchase Amount (USD)\n",
    "\n",
    "    Memiliki standar deviasi sebesar 23.68, yang berarti variasi nilai pembelian barang sangat bervariasi, dengan nilai minimum pembelanjaan adalah $20 dan paling tinggi adlah $100. \n",
    "\n",
    "    Rata-rata nilai pembayaran adalah sebesar $59.76.\n",
    "\n",
    "3. Data RR atau Review Rating\n",
    "\n",
    "    Memiliki standar deviasi sebesar 0.71, yang artinya memiliki variasi data yang sangat kecil. Namun rata-ratanya terdapat dalam angka 3.75, yang berarti banyak konsumen yang merasa \"biasa\" sesudah berbelanja. Perusahaan perlu untuk memperhatikan kualitas layanan yang diberikan, kualitas tempat dan barang yang dijual, supaya dapat meningkatkan rating dari konsumen.\n",
    "\n",
    "    Rata-rata rating adalah sebesar 3.75.\n",
    "\n",
    "4. Data PP atau Previous Purchases\n",
    "\n",
    "    Memiliki standar deviasi sebesar 14.44, yang memiliki arti datanya sangat beranekaragam atau sangat bervariasi. Nilai ini dimulai dengan yang terkecil adalah sebesar $1 dan terbesar adalah $50. \n",
    "\n",
    "    Rata-rata previous purchases ada di angka $25.35\n",
    "___\n",
    "\n",
    "Selanjutnya saya ingin mengecek deskripsi data kategorikal."
   ]
  },
  {
   "cell_type": "code",
   "execution_count": 14,
   "id": "6e9a6677",
   "metadata": {},
   "outputs": [
    {
     "data": {
      "text/html": [
       "<div>\n",
       "<style scoped>\n",
       "    .dataframe tbody tr th:only-of-type {\n",
       "        vertical-align: middle;\n",
       "    }\n",
       "\n",
       "    .dataframe tbody tr th {\n",
       "        vertical-align: top;\n",
       "    }\n",
       "\n",
       "    .dataframe thead th {\n",
       "        text-align: right;\n",
       "    }\n",
       "</style>\n",
       "<table border=\"1\" class=\"dataframe\">\n",
       "  <thead>\n",
       "    <tr style=\"text-align: right;\">\n",
       "      <th></th>\n",
       "      <th>Gender</th>\n",
       "      <th>Item Purchased</th>\n",
       "      <th>Category</th>\n",
       "      <th>Location</th>\n",
       "      <th>Size</th>\n",
       "      <th>Color</th>\n",
       "      <th>Season</th>\n",
       "      <th>SS</th>\n",
       "      <th>Payment Method</th>\n",
       "      <th>Shipping Type</th>\n",
       "      <th>DA</th>\n",
       "      <th>PPM</th>\n",
       "      <th>FOP</th>\n",
       "    </tr>\n",
       "  </thead>\n",
       "  <tbody>\n",
       "    <tr>\n",
       "      <th>count</th>\n",
       "      <td>3900</td>\n",
       "      <td>3900</td>\n",
       "      <td>3900</td>\n",
       "      <td>3900</td>\n",
       "      <td>3900</td>\n",
       "      <td>3900</td>\n",
       "      <td>3900</td>\n",
       "      <td>3900</td>\n",
       "      <td>3900</td>\n",
       "      <td>3900</td>\n",
       "      <td>3900</td>\n",
       "      <td>3900</td>\n",
       "      <td>3900</td>\n",
       "    </tr>\n",
       "    <tr>\n",
       "      <th>unique</th>\n",
       "      <td>2</td>\n",
       "      <td>25</td>\n",
       "      <td>4</td>\n",
       "      <td>50</td>\n",
       "      <td>4</td>\n",
       "      <td>25</td>\n",
       "      <td>4</td>\n",
       "      <td>2</td>\n",
       "      <td>6</td>\n",
       "      <td>6</td>\n",
       "      <td>2</td>\n",
       "      <td>6</td>\n",
       "      <td>7</td>\n",
       "    </tr>\n",
       "    <tr>\n",
       "      <th>top</th>\n",
       "      <td>Male</td>\n",
       "      <td>Blouse</td>\n",
       "      <td>Clothing</td>\n",
       "      <td>Montana</td>\n",
       "      <td>M</td>\n",
       "      <td>Olive</td>\n",
       "      <td>Spring</td>\n",
       "      <td>No</td>\n",
       "      <td>Credit Card</td>\n",
       "      <td>Free Shipping</td>\n",
       "      <td>No</td>\n",
       "      <td>PayPal</td>\n",
       "      <td>Every 3 Months</td>\n",
       "    </tr>\n",
       "    <tr>\n",
       "      <th>freq</th>\n",
       "      <td>2652</td>\n",
       "      <td>171</td>\n",
       "      <td>1737</td>\n",
       "      <td>96</td>\n",
       "      <td>1755</td>\n",
       "      <td>177</td>\n",
       "      <td>999</td>\n",
       "      <td>2847</td>\n",
       "      <td>696</td>\n",
       "      <td>675</td>\n",
       "      <td>2223</td>\n",
       "      <td>677</td>\n",
       "      <td>584</td>\n",
       "    </tr>\n",
       "  </tbody>\n",
       "</table>\n",
       "</div>"
      ],
      "text/plain": [
       "       Gender Item Purchased  Category Location  Size  Color  Season    SS  \\\n",
       "count    3900           3900      3900     3900  3900   3900    3900  3900   \n",
       "unique      2             25         4       50     4     25       4     2   \n",
       "top      Male         Blouse  Clothing  Montana     M  Olive  Spring    No   \n",
       "freq     2652            171      1737       96  1755    177     999  2847   \n",
       "\n",
       "       Payment Method  Shipping Type    DA     PPM             FOP  \n",
       "count            3900           3900  3900    3900            3900  \n",
       "unique              6              6     2       6               7  \n",
       "top       Credit Card  Free Shipping    No  PayPal  Every 3 Months  \n",
       "freq              696            675  2223     677             584  "
      ]
     },
     "execution_count": 14,
     "metadata": {},
     "output_type": "execute_result"
    }
   ],
   "source": [
    "df.describe(include='object') # keyword untuk mendeskripsikan data kategorikal"
   ]
  },
  {
   "cell_type": "markdown",
   "id": "40954c66",
   "metadata": {},
   "source": [
    "Insight:\n",
    "\n",
    "1. Data Gender\n",
    "\n",
    "    Berisikan data gender konsumen, yaitu \"Male\" dan \"Female\", dengan data paling banyak adalah gender \"Male\".\n",
    "\n",
    "2. Data Item Purchased\n",
    "\n",
    "    Berisi data tentang jenis barang berdasarkan tipenya. Terdapat 25 jenis barang dengan yang paling banyak terjual adalah yang berjenis \"Blouse\".\n",
    "\n",
    "3. Data Category\n",
    "\n",
    "    Isinya adalah data tipe barangnya, yang terbagi menjadi 4 tipe barang dengan yang paling banyak terjual adalah bertipe \"Clothing\".\n",
    "\n",
    "4. Location\n",
    "\n",
    "    Isinya adalah tempat lokasi toko berada.\n",
    "\n",
    "5. Size\n",
    "\n",
    "    Berisikan ukuran barang yang dibeli konsumen.\n",
    "\n",
    "6. Color\n",
    "\n",
    "    Merupakan data warna barang yang dibeli konsumen.\n",
    "\n",
    "7. Season\n",
    "\n",
    "    Ini adalah kolom tempat data musim waktu transaksi dilakukan.\n",
    "\n",
    "8. Subscription Status\n",
    "\n",
    "    Merupakan data status berlangganan konsumen.\n",
    "\n",
    "9. Payment Method\n",
    "\n",
    "    Kolom ini berisi data metode pembayaran disaat transaksi dilakukan.\n",
    "\n",
    "10. Shipping Type\n",
    "\n",
    "    Kolom yang isinya tentang cara pengiriman barang atau proses pendapatan barang yang dibeli, seperti diambil ditoko (Store Pickup), expres, next day air, dan lain-lain.\n",
    "\n",
    "11. Discount Applied\n",
    "\n",
    "    Berisikan data apakah konsumen menggunakan diskon disaat berbelanja atau tidak.\n",
    "\n",
    "12. Preferred Payment Method\n",
    "\n",
    "    Berisikan data tentang preferensi konsumen dalam membayar belanjaannya.\n",
    "\n",
    "13. Frequency of Purchases\n",
    "\n",
    "    Isi dari kolom ini adalah frenkuensi seseorang dalam berbelanja, apakah semingu sekali, satu tahun sekali, dan lain-lain.\n",
    "\n",
    "Insight seperti ini belum cukup menggambarkan data, maka perlu dihitung besar varians, skewness, dan kurtosis dari datanya. Bagian pengecekan ini akan dilakukan pada sesi EDA nomor 11."
   ]
  },
  {
   "cell_type": "markdown",
   "id": "54e53755",
   "metadata": {},
   "source": [
    "___\n",
    "## 5. Exploratory Data Analysis (EDA)\n",
    "\n",
    "Dalam EDA, terdapat beberapa hal yang perlu untuk saya analisa, yaitu:\n",
    "\n",
    "1. Gender apa yang paling sering berbelanja?\n",
    "\n",
    "2. Kategori barang apa yang paling laku terjual?\n",
    "\n",
    "3. Berapa jumlah besar transaksi dari masing-masing kategori barang?\n",
    "\n",
    "4. Ukuran barang apa yang paling laku terjual?\n",
    "\n",
    "5. Apakah lebih banyak konsumen yang berlangganan dibanding tidak berlangganan?\n",
    "\n",
    "6. Berapa jumlah besar transaksi konsumen yang berlangganan dibanding dengan yang tidak berlangganan?\n",
    "\n",
    "7. Apakah lebih banyak konsumen yang menggunakan diskon?\n",
    "\n",
    "8. Apakah jumlah besar transaksi dengan diskon jumlahnya lebih banyak dibandingkan dengan yang tidak diskon?\n",
    "\n",
    "9. Musim apa yang memiliki jumlah besar transaksi terbesar?\n",
    "\n",
    "10. Berapa dan apa perhitungan dari statistik deskriptif data ini?\n",
    "\n",
    "11. Bagaimana hubungan dari keseluruhan variabel data?\n",
    "___"
   ]
  },
  {
   "cell_type": "markdown",
   "id": "bddae0de",
   "metadata": {},
   "source": [
    "### 5.1 EDA 1. Gender Apa yang Paling Sering Berbelanja?"
   ]
  },
  {
   "cell_type": "markdown",
   "id": "eca97e21",
   "metadata": {},
   "source": [
    "Masuk ke EDA nomor 1, yaitu gender apa yang paling sering berbelanja. Meskipun sudah dijelaskan dalam koding sebelumnya, saya tetap perlu menampilkan hasilnya dengan visualisasi data yang jelas."
   ]
  },
  {
   "cell_type": "code",
   "execution_count": 27,
   "id": "8cfd9c09",
   "metadata": {},
   "outputs": [
    {
     "data": {
      "image/png": "[encoded data removed]",
      "text/plain": [
       "<Figure size 600x600 with 1 Axes>"
      ]
     },
     "metadata": {},
     "output_type": "display_data"
    }
   ],
   "source": [
    "gender_counts = df[\"Gender\"].value_counts()\n",
    "\n",
    "# Membuat label dengan count gender\n",
    "labels = [f\"{gender} ({count})\" for gender, count in zip(gender_counts.index, gender_counts.values)]\n",
    "\n",
    "# Membuat pie chart\n",
    "plt.figure(figsize=(6, 6))  # Ukuran grafik agar lebih proporsional\n",
    "plt.pie(gender_counts, labels=labels, autopct=\"%.1f%%\", colors=[\"#66b3ff\", \"#ffcc99\"], startangle=90)\n",
    "\n",
    "# Menambahkan judul\n",
    "plt.title(\"Gender Count Comparison\")\n",
    "plt.show()"
   ]
  },
  {
   "cell_type": "markdown",
   "id": "ca3ea5c3",
   "metadata": {},
   "source": [
    "Insight:\n",
    "\n",
    "Gender yang paling sering berbelanja adalah \"Male\" atau laki-laki dengan jumlah persentase sebanyak 68%. Ini merupakan perbandingan data gender yang sangat besar perbedaannya terhadap gender \"Female\". Ini bisa terjadi karena memang produk yang dimiliki lebih condong kearah laki-laki atau toko dianggap sebagai toko barang laki-laki.\n",
    "\n",
    "Solusi:\n",
    "\n",
    "Solusi untuk kejadian ini adalah tetap mempertahankan flow barang untuk gender \"Male\", serta meningkatkan jumlah barang untuk gender \"Female\" dengan mempertimbangkan \"merk\" yang sedang hype atau sedang tren dipasaran saat ini, sehingga jumlah konsumen akan meningkat dan jumlah penjualan akan bertambah.\n",
    "___"
   ]
  },
  {
   "cell_type": "markdown",
   "id": "1dd87b8c",
   "metadata": {},
   "source": [
    "### 5.2 Kategori Barang Apa yang Paling Laku Terjual?"
   ]
  },
  {
   "cell_type": "markdown",
   "id": "e4fc508a",
   "metadata": {},
   "source": [
    "Pertanyaan kedua oleh user adalah kategori barang apa yang paling laku terjual ditoko, untuk menjelaskan data ini, maka perlu dilakukan visualisasi data dengan menjumlahkan total transaksi dari data."
   ]
  },
  {
   "cell_type": "code",
   "execution_count": 19,
   "id": "cd685957",
   "metadata": {},
   "outputs": [
    {
     "data": {
      "image/png": "[encoded data removed]",
      "text/plain": [
       "<Figure size 800x500 with 1 Axes>"
      ]
     },
     "metadata": {},
     "output_type": "display_data"
    }
   ],
   "source": [
    "# Menghitung jumlah kategori\n",
    "category_counts = df[\"Category\"].value_counts()\n",
    "\n",
    "# Membuat histogram horizontal dengan palet yang lebih menarik\n",
    "plt.figure(figsize=(8, 5))\n",
    "colors = sns.color_palette(\"viridis\", len(category_counts))  # Gunakan palet warna\n",
    "plt.barh(category_counts.index, category_counts.values, color=colors)\n",
    "\n",
    "# Menambahkan label\n",
    "plt.xlabel(\"Count\")\n",
    "plt.ylabel(\"Category\")\n",
    "plt.title(\"Goods Category Comparison\")\n",
    "\n",
    "# Menampilkan grafik\n",
    "plt.show()\n"
   ]
  },
  {
   "cell_type": "markdown",
   "id": "be1c0b6e",
   "metadata": {},
   "source": [
    "Insight:\n",
    "\n",
    "Barang yang paling banyak terjual adalah \"clothing\" atau pakaian, diikuti dengan asesoris tubuh, yang meninggalkan barang \"footwear\" dan \"outerwear\". \n",
    "\n",
    "Solusi:\n",
    "\n",
    "Solusi untuk data ini adalah menambahkan diskon atau memberikan diskon untuk barang berjenis \"footwear\" dan \"outerwear\" sehingga dapat terjual walaupun memiliki keuntungan yang lebih sedikit. Untuk barang yang lainnya, dapat ditambah stocknya sesuai kebutuhan atau permintaan pasar dan perkembangan gaya busana.\n",
    "___"
   ]
  },
  {
   "cell_type": "markdown",
   "id": "f2f60b27",
   "metadata": {},
   "source": [
    "### 5.3 Berapa Jumlah Besar Transaksi Dari Setiap Kategori Barang?"
   ]
  },
  {
   "cell_type": "markdown",
   "id": "c524951b",
   "metadata": {},
   "source": [
    "Pertanyaan ketiga oleh user, adalah berapa jumlah besar transaksi yang dilakukan untuk semua jenis kategori barangnya. Disini dilakukan visualisasi data dari jumlah \"Purchase Amount\" dengan kolom kategori barangnya."
   ]
  },
  {
   "cell_type": "code",
   "execution_count": 25,
   "id": "204c9e11",
   "metadata": {},
   "outputs": [
    {
     "name": "stderr",
     "output_type": "stream",
     "text": [
      "C:\\Users\\Yonathan Anggraiwan\\AppData\\Local\\Temp\\ipykernel_7088\\1992406322.py:6: FutureWarning: \n",
      "\n",
      "Passing `palette` without assigning `hue` is deprecated and will be removed in v0.14.0. Assign the `x` variable to `hue` and set `legend=False` for the same effect.\n",
      "\n",
      "  sns.barplot(x=\"Category\", y=\"PA\", data=cat_pa, palette=\"viridis\")\n"
     ]
    },
    {
     "data": {
      "image/png": "[encoded data removed]",
      "text/plain": [
       "<Figure size 1000x600 with 1 Axes>"
      ]
     },
     "metadata": {},
     "output_type": "display_data"
    }
   ],
   "source": [
    "# Menghitung jumlah purchase amount per kategori\n",
    "cat_pa = df.groupby(\"Category\")[\"PA\"].sum().reset_index().sort_values(by=\"PA\", ascending=False)\n",
    "\n",
    "# Membuat bar chart dengan Seaborn\n",
    "plt.figure(figsize=(10, 6))  # Menyesuaikan ukuran grafik\n",
    "sns.barplot(x=\"Category\", y=\"PA\", data=cat_pa, palette=\"viridis\")\n",
    "\n",
    "# Menambahkan label sumbu'\n",
    "plt.xlabel(\"Category\")\n",
    "plt.ylabel(\"Total Purchase Amount\")\n",
    "plt.title(\"Total Purchase Amount From Goods Category\", fontsize=14, loc=\"center\")\n",
    "\n",
    "# Menampilkan grafik\n",
    "plt.show()"
   ]
  },
  {
   "cell_type": "markdown",
   "id": "d2fb5ed8",
   "metadata": {},
   "source": [
    "Insight:\n",
    "\n",
    "Kategori barang yang memiliki jumlah besar transaksi adalah \"Clothing\". Ini terjadi karena memang barang dengan kategori \"Clothing\" adalah barang yang paling laris, dan barang berkategori \"Outerwear\" yang paling tidak laris.\n",
    "\n",
    "Solusi:\n",
    "\n",
    "Solusi untuk data ini adalah menambahkan diskon atau memberikan diskon untuk barang berjenis \"footwear\" dan \"outerwear\" sehingga dapat terjual walaupun memiliki keuntungan yang lebih sedikit. Untuk barang yang lainnya, dapat ditambah stocknya sesuai kebutuhan atau permintaan pasar dan perkembangan gaya busana.\n",
    "___"
   ]
  },
  {
   "cell_type": "markdown",
   "id": "14c11e41",
   "metadata": {},
   "source": [
    "### 5.4 Ukuran Barang Apa yang Paling Laku Terjual?"
   ]
  },
  {
   "cell_type": "markdown",
   "id": "7ea62669",
   "metadata": {},
   "source": [
    "Pertanyaan ke 4 oleh user adalah barang berukuran apa yang paling laku terjual. Ini bisa divisualisasikan dengan menjumlahkan total data dalam kolom \"Size\"."
   ]
  },
  {
   "cell_type": "code",
   "execution_count": 23,
   "id": "ee5485c1",
   "metadata": {},
   "outputs": [
    {
     "name": "stderr",
     "output_type": "stream",
     "text": [
      "C:\\Users\\Yonathan Anggraiwan\\AppData\\Local\\Temp\\ipykernel_7088\\2357347636.py:7: FutureWarning: \n",
      "\n",
      "Passing `palette` without assigning `hue` is deprecated and will be removed in v0.14.0. Assign the `x` variable to `hue` and set `legend=False` for the same effect.\n",
      "\n",
      "  sns.barplot(data=size_df, x='Size', y='Count', palette='viridis')\n"
     ]
    },
    {
     "data": {
      "image/png": "[encoded data removed]",
      "text/plain": [
       "<Figure size 800x500 with 1 Axes>"
      ]
     },
     "metadata": {},
     "output_type": "display_data"
    }
   ],
   "source": [
    "# Menyiapkan data sebagai DataFrame baru untuk seaborn\n",
    "size_df = size_counts.reset_index()\n",
    "size_df.columns = ['Size', 'Count']\n",
    "\n",
    "# Membuat plot bar dengan seaborn dan colormap viridis\n",
    "plt.figure(figsize=(8, 5))\n",
    "sns.barplot(data=size_df, x='Size', y='Count', palette='viridis')\n",
    "\n",
    "# Menambahkan label sumbu dan judul\n",
    "plt.xlabel(\"Category\")\n",
    "plt.ylabel(\"Count of Size\")\n",
    "plt.title(\"Count of Goods Size\", fontsize=14, loc=\"center\")\n",
    "\n",
    "# Menampilkan nilai pada setiap bar\n",
    "for i, v in enumerate(size_df['Count']):\n",
    "    plt.text(i, v + 1, str(v), ha=\"center\", fontsize=10)\n",
    "\n",
    "plt.tight_layout()\n",
    "plt.show()"
   ]
  },
  {
   "cell_type": "markdown",
   "id": "006cf896",
   "metadata": {},
   "source": [
    "Insight:\n",
    "\n",
    "Penjualan barang terbanyak adalah dengan ukuran \"M\", sedangkan yang paling sedikit adalah \"XL\".\n",
    "\n",
    "Solusi:\n",
    "\n",
    "Dari grafik ini, maka dapat diambil solusi adalah dengan menambahkan stock barang yang berukuran \"M\", dan mengurangi jumlah penambahan stock barang ukuran \"S\" dan \"XL\" karena tidak terlalu laku terjual.\n",
    "___"
   ]
  },
  {
   "cell_type": "markdown",
   "id": "d49ccdf9",
   "metadata": {},
   "source": [
    "### 5.5 Apakah Lebih Banyak Konsumen yang Berlangganan Dibanding Tidak Berlangganan?"
   ]
  },
  {
   "cell_type": "markdown",
   "id": "ac5b4a17",
   "metadata": {},
   "source": [
    "Toko memiliki fitur berlangganan untuk konsumen, sehingga perlu diketahui juga apakah lebih banyak konsumen yang berlangganan yang berbelanja di toko."
   ]
  },
  {
   "cell_type": "code",
   "execution_count": 32,
   "id": "d929c9eb",
   "metadata": {},
   "outputs": [
    {
     "data": {
      "image/png": "[encoded data removed]",
      "text/plain": [
       "<Figure size 600x600 with 1 Axes>"
      ]
     },
     "metadata": {},
     "output_type": "display_data"
    }
   ],
   "source": [
    "# Menghitung jumlah konsumen yang berlangganan\n",
    "ss_counts = df[\"SS\"].value_counts()\n",
    "\n",
    "# Membuat label dengan jumlah konsumen yang berlangganan\n",
    "labels = [f\"{ss} ({count})\" for ss, count in zip(ss_counts.index, ss_counts.values)]\n",
    "\n",
    "# Warna yang lebih variatif\n",
    "colors = [\"#66b3ff\", \"#ffcc99\"]  # Variasi warna yang lebih mencolok\n",
    "\n",
    "# Membuat pie chart dengan warna baru\n",
    "plt.figure(figsize=(6, 6))  # Ukuran grafik agar lebih proporsional\n",
    "plt.pie(ss_counts, labels=labels, colors=colors, autopct=\"%.1f%%\", startangle=90)\n",
    "\n",
    "# Menambahkan judul\n",
    "plt.title(\"Consumer Subscription Status Comparison\")\n",
    "plt.show()"
   ]
  },
  {
   "cell_type": "markdown",
   "id": "2b9f7783",
   "metadata": {},
   "source": [
    "Insight:\n",
    "\n",
    "Ternyata lebih banyak transaksi dari konsumen yang tidak berlangganan membership toko, akan tetapi jumlah konsumen yang berlangganan juga tidak sedikit, yaitu sebesar 27%.\n",
    "\n",
    "Solusi:\n",
    "\n",
    "Fitur berlangganan membership ini perlu dipertahankan, juga perlu untuk dibuat lebih \"menarik\" dan lebih \"worth it\" untuk konsumen lihat, sehingga konsumen dapat lebih tertarik untuk mendaftarkan membership di toko.\n",
    "___"
   ]
  },
  {
   "cell_type": "markdown",
   "id": "e6a02260",
   "metadata": {},
   "source": [
    "### 5.6 Berapa Jumlah Besar Transaksi Konsumen yang Berlangganan Dibanding Dengan yang Tidak Berlangganan?"
   ]
  },
  {
   "cell_type": "markdown",
   "id": "2e119403",
   "metadata": {},
   "source": [
    "Apakah besar transaksi konsumen yang berlangganan lebih besar dibanding yang bukan? Ini adalah pertanyaan ke 6 dari user terhadap analisa datanya. Visualisasi ini dapat ditampilkan dengan menghitung jumlah besar transaksi dengan data subscription status."
   ]
  },
  {
   "cell_type": "code",
   "execution_count": 34,
   "id": "69cd5866",
   "metadata": {},
   "outputs": [
    {
     "name": "stderr",
     "output_type": "stream",
     "text": [
      "C:\\Users\\Yonathan Anggraiwan\\AppData\\Local\\Temp\\ipykernel_7088\\3637748956.py:6: FutureWarning: \n",
      "\n",
      "Passing `palette` without assigning `hue` is deprecated and will be removed in v0.14.0. Assign the `x` variable to `hue` and set `legend=False` for the same effect.\n",
      "\n",
      "  sns.barplot(x=\"SS\", y=\"PA\", data=ss_pa, palette=\"viridis\")\n"
     ]
    },
    {
     "data": {
      "image/png": "[encoded data removed]",
      "text/plain": [
       "<Figure size 1000x600 with 1 Axes>"
      ]
     },
     "metadata": {},
     "output_type": "display_data"
    }
   ],
   "source": [
    "# Menghitung jumlah purchase amount per Subscription Status\n",
    "ss_pa = df.groupby(\"SS\")[\"PA\"].sum().reset_index().sort_values(by=\"PA\", ascending=False)\n",
    "\n",
    "# Membuat bar chart dengan Seaborn\n",
    "plt.figure(figsize=(10, 6))  # Menyesuaikan ukuran grafik\n",
    "sns.barplot(x=\"SS\", y=\"PA\", data=ss_pa, palette=\"viridis\")\n",
    "\n",
    "# Menambahkan label sumbu'\n",
    "plt.xlabel(\"Subscription Status\")\n",
    "plt.ylabel(\"Sum of Purchase Amount\")\n",
    "plt.title(\"Sum of Purchase Amount From Subscription Status\", fontsize=14, loc=\"center\")\n",
    " \n",
    "\n",
    "# Menampilkan grafik\n",
    "plt.show()"
   ]
  },
  {
   "cell_type": "markdown",
   "id": "3c9eb473",
   "metadata": {},
   "source": [
    "Insight:\n",
    "\n",
    "Karena memang jumlah transaksi banyak dilakukan oleh konsumen yang tidak berlangganan, maka jumlah besar transaksinya juga sangat berbeda.\n",
    "\n",
    "Solusi:\n",
    "\n",
    "Sama seperti sebelumnya, fitur berlangganan membership ini tetap perlu dipertahankan, juga perlu untuk dibuat lebih \"menarik\" dan lebih \"worth it\" untuk konsumen lihat, sehingga konsumen dapat lebih tertarik untuk mendaftarkan membership di toko.\n",
    "___"
   ]
  },
  {
   "cell_type": "markdown",
   "id": "4762cff4",
   "metadata": {},
   "source": [
    "### 5.7 Apakah Lebih Banyak Konsumen yang Menggunakan Diskon?"
   ]
  },
  {
   "cell_type": "markdown",
   "id": "29b771eb",
   "metadata": {},
   "source": [
    "Salah satu pertanyaan user adalah apakah lebih banyak konsumen yang menggunakan diskon? Karena konsumen lebih cenderung merasa \"tidak mau rugi\" disaat berbelanja, sehingga sepertinya data ini terdiri dari konsumen yang menggunakan diskon."
   ]
  },
  {
   "cell_type": "code",
   "execution_count": 35,
   "id": "6de67688",
   "metadata": {},
   "outputs": [
    {
     "data": {
      "image/png": "[encoded data removed]",
      "text/plain": [
       "<Figure size 600x600 with 1 Axes>"
      ]
     },
     "metadata": {},
     "output_type": "display_data"
    }
   ],
   "source": [
    "# Menghitung jumlah penggunaan discount dengan counts\n",
    "da_counts = df[\"DA\"].value_counts()\n",
    "\n",
    "# Membuat label dengan jumlah penggunaan discount\n",
    "labels = [f\"{da} ({count})\" for da, count in zip(da_counts.index, da_counts.values)]\n",
    "\n",
    "# Warna yang lebih variatif\n",
    "colors = [\"#66b3ff\", \"#ffcc99\"]   # Variasi warna yang lebih mencolok\n",
    "\n",
    "# Membuat pie chart dengan warna baru\n",
    "plt.figure(figsize=(6, 6))  # Ukuran grafik agar lebih proporsional\n",
    "plt.pie(da_counts, labels=labels, colors=colors, autopct=\"%.1f%%\", startangle=90)\n",
    "\n",
    "# Menambahkan judul\n",
    "plt.title(\"Discount Applied Comparison\")\n",
    "plt.show()"
   ]
  },
  {
   "cell_type": "markdown",
   "id": "ce8db36d",
   "metadata": {},
   "source": [
    "Insight:\n",
    "\n",
    "Ternyata lebih banyak transaksi dengan tidak menggunakan diskon.\n",
    "\n",
    "Solusi:\n",
    "\n",
    "Perusahaan tetap perlu berhati-hati dalam pemberian diskon barang, karena jika dihitung dari jumlah lakunya barang, barang dengan jenis \"footwear\" dan \"outerwear\" tidak terlalu laku. Sehingga akan lebih bijak jika memberikan diskon kepada 2 jenis kategori barang ini saja.\n",
    "___"
   ]
  },
  {
   "cell_type": "markdown",
   "id": "e315d9e9",
   "metadata": {},
   "source": [
    "### 5.8 Apakah Jumlah Besar Transaksi Dengan Diskon Jumlahnya Lebih Banyak Dibandingkan Dengan yang Tidak Diskon?"
   ]
  },
  {
   "cell_type": "markdown",
   "id": "3cf2fcc3",
   "metadata": {},
   "source": [
    "Dipikiran kita disaat memikirkan tentang diskon, maka yang terlintas adalah konsumen yang akan banyak berbelanja \"jika\" terdapat diskon. Maka seharusnya seorang konsumen akan lebih \"menghabiskan\" uangnya jika ada diskon yang diberikan. Akan tetapi, pertanyaan dari user ini tetap perlu untuk divisualisasikan dengan baik. Visualisasi data ini dilakukan dengan menjumlahkan total besar transaksi dengan kolom \"Discount Applied\""
   ]
  },
  {
   "cell_type": "code",
   "execution_count": 37,
   "id": "d37365e7",
   "metadata": {},
   "outputs": [
    {
     "name": "stderr",
     "output_type": "stream",
     "text": [
      "C:\\Users\\Yonathan Anggraiwan\\AppData\\Local\\Temp\\ipykernel_7088\\1726933293.py:6: FutureWarning: \n",
      "\n",
      "Passing `palette` without assigning `hue` is deprecated and will be removed in v0.14.0. Assign the `x` variable to `hue` and set `legend=False` for the same effect.\n",
      "\n",
      "  sns.barplot(data=da_pa, x=\"DA\", y=\"PA\", palette=\"viridis\")\n"
     ]
    },
    {
     "data": {
      "image/png": "[encoded data removed]",
      "text/plain": [
       "<Figure size 800x500 with 1 Axes>"
      ]
     },
     "metadata": {},
     "output_type": "display_data"
    }
   ],
   "source": [
    "# Menghitung jumlah total transaksi berdasarkan penggunaan diskon\n",
    "da_pa = df.groupby(\"DA\")[\"PA\"].sum().reset_index()\n",
    "\n",
    "# Membuat barplot dengan Seaborn\n",
    "plt.figure(figsize=(8, 5))\n",
    "sns.barplot(data=da_pa, x=\"DA\", y=\"PA\", palette=\"viridis\")\n",
    "\n",
    "# Menambahkan judul dan menyesuaikan tampilan\n",
    "plt.title(\"Sum of Purchase Amount By Discount Applied\", fontsize=14)\n",
    "plt.xlabel(\"Discount Applied\")\n",
    "plt.ylabel(\"Sum of Purchase Amount\")\n",
    "plt.xticks(rotation=0)\n",
    "\n",
    "# Menampilkan grafik\n",
    "plt.show()\n"
   ]
  },
  {
   "cell_type": "markdown",
   "id": "1a02a62c",
   "metadata": {},
   "source": [
    "Insight:\n",
    "\n",
    "Ternyata yang lebih memiliki jumlah besar transaksi adalah yang tanpa diskon. Akan tetapi nilainya tidak terlalu jauh berbeda dengan yang ada diskonnya.\n",
    "\n",
    "Solusi:\n",
    "\n",
    "Untuk kedepannya, perusahaan tetap harus menambahkan diskon kepada barang-barang yang dijual, karena tidak semua orang itu tidak butuh dengan potongan harga. Kita perlu tau juga bahwa terdapat konsumen yang akan merasa \"terbantu\" jika terdapat diskon dalam proses belanjanya.\n",
    "___"
   ]
  },
  {
   "cell_type": "markdown",
   "id": "021297dc",
   "metadata": {},
   "source": [
    "### 5.9 Musim Apa yang Memiliki Jumlah Besar Transaksi Terbesar?"
   ]
  },
  {
   "cell_type": "markdown",
   "id": "5b1c2c2e",
   "metadata": {},
   "source": [
    "Musim apa yang paling banyak besar transaksinya? Ini adalah pertanyaan yang penting bagi user untuk mengetahui tren penjualan barang berdasarkan musim. Visualisasinya dilakukan dengan menjumlahkan besar transaksi berdasarkan musim waktu transaksi dilakukan."
   ]
  },
  {
   "cell_type": "code",
   "execution_count": 38,
   "id": "7cd896b7",
   "metadata": {},
   "outputs": [
    {
     "name": "stderr",
     "output_type": "stream",
     "text": [
      "C:\\Users\\Yonathan Anggraiwan\\AppData\\Local\\Temp\\ipykernel_7088\\2101277328.py:9: FutureWarning: \n",
      "\n",
      "Passing `palette` without assigning `hue` is deprecated and will be removed in v0.14.0. Assign the `x` variable to `hue` and set `legend=False` for the same effect.\n",
      "\n",
      "  sns.barplot(data=season_pa, x=\"Season\", y=\"PA\", palette=\"viridis\")  # Ganti \"pastel\" dengan palet lain jika ingin variasi warna\n"
     ]
    },
    {
     "data": {
      "image/png": "[encoded data removed]",
      "text/plain": [
       "<Figure size 800x500 with 1 Axes>"
      ]
     },
     "metadata": {},
     "output_type": "display_data"
    }
   ],
   "source": [
    "import matplotlib.pyplot as plt\n",
    "import seaborn as sns\n",
    "\n",
    "# Mengelompokkan dan menjumlahkan PA berdasarkan Season atau musim\n",
    "season_pa = df.groupby(\"Season\")[\"PA\"].sum().reset_index().sort_values(by=\"PA\", ascending=True)\n",
    "\n",
    "# Membuat histogram dengan warna berbeda untuk setiap kategori\n",
    "plt.figure(figsize=(8, 5))\n",
    "sns.barplot(data=season_pa, x=\"Season\", y=\"PA\", palette=\"viridis\")  # Ganti \"pastel\" dengan palet lain jika ingin variasi warna\n",
    "\n",
    "# Menambahkan judul dan label\n",
    "plt.title(\"Total Purchase Amount Berdasarkan Musim\", fontsize=14, loc=\"center\")\n",
    "plt.xlabel(\"Musim Waktu Belanja\", fontsize=12)\n",
    "plt.ylabel(\"Purchase Amount\", fontsize=12)\n",
    "\n",
    "# Menampilkan grafik\n",
    "plt.show()"
   ]
  },
  {
   "cell_type": "markdown",
   "id": "275ca5a8",
   "metadata": {},
   "source": [
    "Insight:\n",
    "\n",
    "Musim yang memiliki jumlah besar transaksi terkecil adalah musim \"Summer\", lalu naik di musim \"Winter\", \"Spring\", dan yang tertinggi adalah musim \"Fall\". \n",
    "\n",
    "Solusi:\n",
    "\n",
    "Perbedaan besar transaksi ada diangka yang lumayan, yaitu 1-4 ribu dollar permusim, sehingga perusahaan dapat mempertimbangkan dalam pemberian diskon atau penekanan fitur membership di setiap musimnya, sehingga konsumen memiliki keinginan lebih untuk berbelanja di musim yang berbeda.\n",
    "___"
   ]
  },
  {
   "cell_type": "markdown",
   "id": "284d2914",
   "metadata": {},
   "source": [
    "### 5.10 Bagaimana Persebaran Data Penjualan Dari Setiap Lokasi Toko?"
   ]
  },
  {
   "cell_type": "markdown",
   "id": "cef4ab14",
   "metadata": {},
   "source": [
    "User ingin tau visualisasi persebaran data penjualannya berdasarkan lokasi setiap toko berada, maka saya gunakan choropleth plotly."
   ]
  },
  {
   "cell_type": "code",
   "execution_count": 39,
   "id": "2096b13e",
   "metadata": {},
   "outputs": [
    {
     "data": {
      "application/vnd.plotly.v1+json": {
       "config": {
        "plotlyServerURL": "https://plot.ly"
       },
       "data": [
        {
         "coloraxis": "coloraxis",
         "featureidkey": "properties.name",
         "geo": "geo",
         "geojson": "https://raw.githubusercontent.com/PublicaMundi/MappingAPI/master/data/geojson/us-states.json",
         "hovertemplate": "Location=%{location}<br>PA=%{z}<extra></extra>",
         "locations": [
          "Alabama",
          "Alaska",
          "Arizona",
          "Arkansas",
          "California",
          "Colorado",
          "Connecticut",
          "Delaware",
          "Florida",
          "Georgia",
          "Hawaii",
          "Idaho",
          "Illinois",
          "Indiana",
          "Iowa",
          "Kansas",
          "Kentucky",
          "Louisiana",
          "Maine",
          "Maryland",
          "Massachusetts",
          "Michigan",
          "Minnesota",
          "Mississippi",
          "Missouri",
          "Montana",
          "Nebraska",
          "Nevada",
          "New Hampshire",
          "New Jersey",
          "New Mexico",
          "New York",
          "North Carolina",
          "North Dakota",
          "Ohio",
          "Oklahoma",
          "Oregon",
          "Pennsylvania",
          "Rhode Island",
          "South Carolina",
          "South Dakota",
          "Tennessee",
          "Texas",
          "Utah",
          "Vermont",
          "Virginia",
          "Washington",
          "West Virginia",
          "Wisconsin",
          "Wyoming"
         ],
         "name": "",
         "type": "choropleth",
         "z": {
          "bdata": "jRQDE+YQ3BLlFX4QghCWEtYOJRKoDtMV8RUvEmkQbQ0yEfASJBG7EiARtRFxExMTUxKYFjQUihV7ENoOlhOJFIYSZBQpEhgRkxA+Ex8PVxGMEKQSaBJbEfwS6hIPEjYUZBDVEA==",
          "dtype": "i2"
         }
        }
       ],
       "layout": {
        "coloraxis": {
         "colorbar": {
          "title": {
           "text": "PA"
          }
         },
         "colorscale": [
          [
           0,
           "rgb(255,245,240)"
          ],
          [
           0.125,
           "rgb(254,224,210)"
          ],
          [
           0.25,
           "rgb(252,187,161)"
          ],
          [
           0.375,
           "rgb(252,146,114)"
          ],
          [
           0.5,
           "rgb(251,106,74)"
          ],
          [
           0.625,
           "rgb(239,59,44)"
          ],
          [
           0.75,
           "rgb(203,24,29)"
          ],
          [
           0.875,
           "rgb(165,15,21)"
          ],
          [
           1,
           "rgb(103,0,13)"
          ]
         ]
        },
        "geo": {
         "center": {},
         "domain": {
          "x": [
           0,
           1
          ],
          "y": [
           0,
           1
          ]
         },
         "fitbounds": "locations",
         "visible": false
        },
        "legend": {
         "tracegroupgap": 0
        },
        "margin": {
         "t": 60
        },
        "template": {
         "data": {
          "bar": [
           {
            "error_x": {
             "color": "#2a3f5f"
            },
            "error_y": {
             "color": "#2a3f5f"
            },
            "marker": {
             "line": {
              "color": "#E5ECF6",
              "width": 0.5
             },
             "pattern": {
              "fillmode": "overlay",
              "size": 10,
              "solidity": 0.2
             }
            },
            "type": "bar"
           }
          ],
          "barpolar": [
           {
            "marker": {
             "line": {
              "color": "#E5ECF6",
              "width": 0.5
             },
             "pattern": {
              "fillmode": "overlay",
              "size": 10,
              "solidity": 0.2
             }
            },
            "type": "barpolar"
           }
          ],
          "carpet": [
           {
            "aaxis": {
             "endlinecolor": "#2a3f5f",
             "gridcolor": "white",
             "linecolor": "white",
             "minorgridcolor": "white",
             "startlinecolor": "#2a3f5f"
            },
            "baxis": {
             "endlinecolor": "#2a3f5f",
             "gridcolor": "white",
             "linecolor": "white",
             "minorgridcolor": "white",
             "startlinecolor": "#2a3f5f"
            },
            "type": "carpet"
           }
          ],
          "choropleth": [
           {
            "colorbar": {
             "outlinewidth": 0,
             "ticks": ""
            },
            "type": "choropleth"
           }
          ],
          "contour": [
           {
            "colorbar": {
             "outlinewidth": 0,
             "ticks": ""
            },
            "colorscale": [
             [
              0,
              "#0d0887"
             ],
             [
              0.1111111111111111,
              "#46039f"
             ],
             [
              0.2222222222222222,
              "#7201a8"
             ],
             [
              0.3333333333333333,
              "#9c179e"
             ],
             [
              0.4444444444444444,
              "#bd3786"
             ],
             [
              0.5555555555555556,
              "#d8576b"
             ],
             [
              0.6666666666666666,
              "#ed7953"
             ],
             [
              0.7777777777777778,
              "#fb9f3a"
             ],
             [
              0.8888888888888888,
              "#fdca26"
             ],
             [
              1,
              "#f0f921"
             ]
            ],
            "type": "contour"
           }
          ],
          "contourcarpet": [
           {
            "colorbar": {
             "outlinewidth": 0,
             "ticks": ""
            },
            "type": "contourcarpet"
           }
          ],
          "heatmap": [
           {
            "colorbar": {
             "outlinewidth": 0,
             "ticks": ""
            },
            "colorscale": [
             [
              0,
              "#0d0887"
             ],
             [
              0.1111111111111111,
              "#46039f"
             ],
             [
              0.2222222222222222,
              "#7201a8"
             ],
             [
              0.3333333333333333,
              "#9c179e"
             ],
             [
              0.4444444444444444,
              "#bd3786"
             ],
             [
              0.5555555555555556,
              "#d8576b"
             ],
             [
              0.6666666666666666,
              "#ed7953"
             ],
             [
              0.7777777777777778,
              "#fb9f3a"
             ],
             [
              0.8888888888888888,
              "#fdca26"
             ],
             [
              1,
              "#f0f921"
             ]
            ],
            "type": "heatmap"
           }
          ],
          "histogram": [
           {
            "marker": {
             "pattern": {
              "fillmode": "overlay",
              "size": 10,
              "solidity": 0.2
             }
            },
            "type": "histogram"
           }
          ],
          "histogram2d": [
           {
            "colorbar": {
             "outlinewidth": 0,
             "ticks": ""
            },
            "colorscale": [
             [
              0,
              "#0d0887"
             ],
             [
              0.1111111111111111,
              "#46039f"
             ],
             [
              0.2222222222222222,
              "#7201a8"
             ],
             [
              0.3333333333333333,
              "#9c179e"
             ],
             [
              0.4444444444444444,
              "#bd3786"
             ],
             [
              0.5555555555555556,
              "#d8576b"
             ],
             [
              0.6666666666666666,
              "#ed7953"
             ],
             [
              0.7777777777777778,
              "#fb9f3a"
             ],
             [
              0.8888888888888888,
              "#fdca26"
             ],
             [
              1,
              "#f0f921"
             ]
            ],
            "type": "histogram2d"
           }
          ],
          "histogram2dcontour": [
           {
            "colorbar": {
             "outlinewidth": 0,
             "ticks": ""
            },
            "colorscale": [
             [
              0,
              "#0d0887"
             ],
             [
              0.1111111111111111,
              "#46039f"
             ],
             [
              0.2222222222222222,
              "#7201a8"
             ],
             [
              0.3333333333333333,
              "#9c179e"
             ],
             [
              0.4444444444444444,
              "#bd3786"
             ],
             [
              0.5555555555555556,
              "#d8576b"
             ],
             [
              0.6666666666666666,
              "#ed7953"
             ],
             [
              0.7777777777777778,
              "#fb9f3a"
             ],
             [
              0.8888888888888888,
              "#fdca26"
             ],
             [
              1,
              "#f0f921"
             ]
            ],
            "type": "histogram2dcontour"
           }
          ],
          "mesh3d": [
           {
            "colorbar": {
             "outlinewidth": 0,
             "ticks": ""
            },
            "type": "mesh3d"
           }
          ],
          "parcoords": [
           {
            "line": {
             "colorbar": {
              "outlinewidth": 0,
              "ticks": ""
             }
            },
            "type": "parcoords"
           }
          ],
          "pie": [
           {
            "automargin": true,
            "type": "pie"
           }
          ],
          "scatter": [
           {
            "fillpattern": {
             "fillmode": "overlay",
             "size": 10,
             "solidity": 0.2
            },
            "type": "scatter"
           }
          ],
          "scatter3d": [
           {
            "line": {
             "colorbar": {
              "outlinewidth": 0,
              "ticks": ""
             }
            },
            "marker": {
             "colorbar": {
              "outlinewidth": 0,
              "ticks": ""
             }
            },
            "type": "scatter3d"
           }
          ],
          "scattercarpet": [
           {
            "marker": {
             "colorbar": {
              "outlinewidth": 0,
              "ticks": ""
             }
            },
            "type": "scattercarpet"
           }
          ],
          "scattergeo": [
           {
            "marker": {
             "colorbar": {
              "outlinewidth": 0,
              "ticks": ""
             }
            },
            "type": "scattergeo"
           }
          ],
          "scattergl": [
           {
            "marker": {
             "colorbar": {
              "outlinewidth": 0,
              "ticks": ""
             }
            },
            "type": "scattergl"
           }
          ],
          "scattermap": [
           {
            "marker": {
             "colorbar": {
              "outlinewidth": 0,
              "ticks": ""
             }
            },
            "type": "scattermap"
           }
          ],
          "scattermapbox": [
           {
            "marker": {
             "colorbar": {
              "outlinewidth": 0,
              "ticks": ""
             }
            },
            "type": "scattermapbox"
           }
          ],
          "scatterpolar": [
           {
            "marker": {
             "colorbar": {
              "outlinewidth": 0,
              "ticks": ""
             }
            },
            "type": "scatterpolar"
           }
          ],
          "scatterpolargl": [
           {
            "marker": {
             "colorbar": {
              "outlinewidth": 0,
              "ticks": ""
             }
            },
            "type": "scatterpolargl"
           }
          ],
          "scatterternary": [
           {
            "marker": {
             "colorbar": {
              "outlinewidth": 0,
              "ticks": ""
             }
            },
            "type": "scatterternary"
           }
          ],
          "surface": [
           {
            "colorbar": {
             "outlinewidth": 0,
             "ticks": ""
            },
            "colorscale": [
             [
              0,
              "#0d0887"
             ],
             [
              0.1111111111111111,
              "#46039f"
             ],
             [
              0.2222222222222222,
              "#7201a8"
             ],
             [
              0.3333333333333333,
              "#9c179e"
             ],
             [
              0.4444444444444444,
              "#bd3786"
             ],
             [
              0.5555555555555556,
              "#d8576b"
             ],
             [
              0.6666666666666666,
              "#ed7953"
             ],
             [
              0.7777777777777778,
              "#fb9f3a"
             ],
             [
              0.8888888888888888,
              "#fdca26"
             ],
             [
              1,
              "#f0f921"
             ]
            ],
            "type": "surface"
           }
          ],
          "table": [
           {
            "cells": {
             "fill": {
              "color": "#EBF0F8"
             },
             "line": {
              "color": "white"
             }
            },
            "header": {
             "fill": {
              "color": "#C8D4E3"
             },
             "line": {
              "color": "white"
             }
            },
            "type": "table"
           }
          ]
         },
         "layout": {
          "annotationdefaults": {
           "arrowcolor": "#2a3f5f",
           "arrowhead": 0,
           "arrowwidth": 1
          },
          "autotypenumbers": "strict",
          "coloraxis": {
           "colorbar": {
            "outlinewidth": 0,
            "ticks": ""
           }
          },
          "colorscale": {
           "diverging": [
            [
             0,
             "#8e0152"
            ],
            [
             0.1,
             "#c51b7d"
            ],
            [
             0.2,
             "#de77ae"
            ],
            [
             0.3,
             "#f1b6da"
            ],
            [
             0.4,
             "#fde0ef"
            ],
            [
             0.5,
             "#f7f7f7"
            ],
            [
             0.6,
             "#e6f5d0"
            ],
            [
             0.7,
             "#b8e186"
            ],
            [
             0.8,
             "#7fbc41"
            ],
            [
             0.9,
             "#4d9221"
            ],
            [
             1,
             "#276419"
            ]
           ],
           "sequential": [
            [
             0,
             "#0d0887"
            ],
            [
             0.1111111111111111,
             "#46039f"
            ],
            [
             0.2222222222222222,
             "#7201a8"
            ],
            [
             0.3333333333333333,
             "#9c179e"
            ],
            [
             0.4444444444444444,
             "#bd3786"
            ],
            [
             0.5555555555555556,
             "#d8576b"
            ],
            [
             0.6666666666666666,
             "#ed7953"
            ],
            [
             0.7777777777777778,
             "#fb9f3a"
            ],
            [
             0.8888888888888888,
             "#fdca26"
            ],
            [
             1,
             "#f0f921"
            ]
           ],
           "sequentialminus": [
            [
             0,
             "#0d0887"
            ],
            [
             0.1111111111111111,
             "#46039f"
            ],
            [
             0.2222222222222222,
             "#7201a8"
            ],
            [
             0.3333333333333333,
             "#9c179e"
            ],
            [
             0.4444444444444444,
             "#bd3786"
            ],
            [
             0.5555555555555556,
             "#d8576b"
            ],
            [
             0.6666666666666666,
             "#ed7953"
            ],
            [
             0.7777777777777778,
             "#fb9f3a"
            ],
            [
             0.8888888888888888,
             "#fdca26"
            ],
            [
             1,
             "#f0f921"
            ]
           ]
          },
          "colorway": [
           "#636efa",
           "#EF553B",
           "#00cc96",
           "#ab63fa",
           "#FFA15A",
           "#19d3f3",
           "#FF6692",
           "#B6E880",
           "#FF97FF",
           "#FECB52"
          ],
          "font": {
           "color": "#2a3f5f"
          },
          "geo": {
           "bgcolor": "white",
           "lakecolor": "white",
           "landcolor": "#E5ECF6",
           "showlakes": true,
           "showland": true,
           "subunitcolor": "white"
          },
          "hoverlabel": {
           "align": "left"
          },
          "hovermode": "closest",
          "mapbox": {
           "style": "light"
          },
          "paper_bgcolor": "white",
          "plot_bgcolor": "#E5ECF6",
          "polar": {
           "angularaxis": {
            "gridcolor": "white",
            "linecolor": "white",
            "ticks": ""
           },
           "bgcolor": "#E5ECF6",
           "radialaxis": {
            "gridcolor": "white",
            "linecolor": "white",
            "ticks": ""
           }
          },
          "scene": {
           "xaxis": {
            "backgroundcolor": "#E5ECF6",
            "gridcolor": "white",
            "gridwidth": 2,
            "linecolor": "white",
            "showbackground": true,
            "ticks": "",
            "zerolinecolor": "white"
           },
           "yaxis": {
            "backgroundcolor": "#E5ECF6",
            "gridcolor": "white",
            "gridwidth": 2,
            "linecolor": "white",
            "showbackground": true,
            "ticks": "",
            "zerolinecolor": "white"
           },
           "zaxis": {
            "backgroundcolor": "#E5ECF6",
            "gridcolor": "white",
            "gridwidth": 2,
            "linecolor": "white",
            "showbackground": true,
            "ticks": "",
            "zerolinecolor": "white"
           }
          },
          "shapedefaults": {
           "line": {
            "color": "#2a3f5f"
           }
          },
          "ternary": {
           "aaxis": {
            "gridcolor": "white",
            "linecolor": "white",
            "ticks": ""
           },
           "baxis": {
            "gridcolor": "white",
            "linecolor": "white",
            "ticks": ""
           },
           "bgcolor": "#E5ECF6",
           "caxis": {
            "gridcolor": "white",
            "linecolor": "white",
            "ticks": ""
           }
          },
          "title": {
           "x": 0.05
          },
          "xaxis": {
           "automargin": true,
           "gridcolor": "white",
           "linecolor": "white",
           "ticks": "",
           "title": {
            "standoff": 15
           },
           "zerolinecolor": "white",
           "zerolinewidth": 2
          },
          "yaxis": {
           "automargin": true,
           "gridcolor": "white",
           "linecolor": "white",
           "ticks": "",
           "title": {
            "standoff": 15
           },
           "zerolinecolor": "white",
           "zerolinewidth": 2
          }
         }
        },
        "title": {
         "text": "Choropleth Map with Plotly - Sum of Purchase Amount",
         "x": 0.5
        }
       }
      }
     },
     "metadata": {},
     "output_type": "display_data"
    }
   ],
   "source": [
    "# GeoJSON untuk wilayah (sesuaikan dengan data sebenarnya)\n",
    "geojson_url = \"https://raw.githubusercontent.com/PublicaMundi/MappingAPI/master/data/geojson/us-states.json\"\n",
    "\n",
    "# Mengelompokkan dan menjumlahkan PA berdasarkan lokasi\n",
    "location_pa = df.groupby(\"Location\")[\"PA\"].sum().reset_index()\n",
    "\n",
    "# Plot choropleth dengan jumlah dari PA\n",
    "fig = px.choropleth(location_pa, \n",
    "                    geojson=geojson_url,\n",
    "                    locations=\"Location\", \n",
    "                    featureidkey=\"properties.name\",\n",
    "                    color=\"PA\",\n",
    "                    color_continuous_scale=\"Reds\")\n",
    "\n",
    "fig.update_geos(fitbounds=\"locations\", visible=False)\n",
    "fig.update_layout(title=\"Choropleth Map with Plotly - Sum of Purchase Amount\",\n",
    "                  title_x = 0.5)\n",
    "\n",
    "fig.show()"
   ]
  },
  {
   "cell_type": "markdown",
   "id": "768ac40d",
   "metadata": {},
   "source": [
    "Insight:\n",
    "\n",
    "Warna tergelap merupakan lokasi toko dengan penjualan tersebar, yaitu Montana, Idaho, Nevada, California, dan Illinois."
   ]
  },
  {
   "cell_type": "markdown",
   "id": "a7df3177",
   "metadata": {},
   "source": [
    "### 5.11 Berapa dan apa perhitungan dari statistik deskriptif data ini?"
   ]
  },
  {
   "cell_type": "markdown",
   "id": "3bf3fd8e",
   "metadata": {},
   "source": [
    "#### Analisis Data dari Perhitungan Mean, Median, Standar Deviasi, Skewness dan Kurtosis\n",
    "Setelah datanya bersih, maka saya perlu menganalisa lebih dalam lagi tentang data ini. Dimana saya perlu mencari nilai rata-rata, median, standar deviasi, sampai skewnes dalam data numerik, yang diharapkan adalah semoga data yang didapatkan dapat dikategorikan sebagai data yang bagus dan bebas dari outlier data."
   ]
  },
  {
   "cell_type": "markdown",
   "id": "e825311a",
   "metadata": {},
   "source": [
    "Varians, standar deviasi, skewness, dan kurtosis adalah nilai statistik yang membantu memahami distribusi data. Berikut perbedaannya:\n",
    "1. Varians mengukur seberapa jauh data tersebar dari rata-rata. Nilai tinggi menunjukkan data lebih tersebar, sedangkan nilai rendah berarti data lebih terkonsentrasi di sekitar rata-rata.\n",
    "* Varians kecil (<1 atau mendekati 0) → Data tidak terlalu tersebar, hampir semua nilai berada dekat dengan rata-rata.\n",
    "* Varians sedang (1–10) → Ada sedikit variasi, tetapi penyebarannya masih dalam batas yang wajar.\n",
    "* Varians tinggi (>10) → Data sangat tersebar, ada nilai yang jauh dari rata-rata.\n",
    "\n",
    "\n",
    "2. Standar deviasi adalah akar kuadrat dari varians. Ini memberikan ukuran penyebaran yang lebih mudah dipahami karena berada dalam satuan yang sama dengan data aslinya.\n",
    "* Kecil (<1 atau dekat 0) → Data tidak terlalu tersebar, cenderung terkumpul di sekitar rata-rata.\n",
    "* Sedang (1–3) → Ada variasi dalam data, tapi masih relatif terkendali.\n",
    "* Tinggi (>3) → Data sangat tersebar, ada nilai yang jauh dari rata-rata.\n",
    "\n",
    "\n",
    "3. Skewness menunjukkan apakah distribusi data miring ke kanan atau kiri. Skewness positif berarti ekor distribusi lebih panjang di sisi kanan (data lebih terkonsentrasi di sebelah kiri), sedangkan skewness negatif menunjukkan ekor lebih panjang di sisi kiri.\n",
    "* Sekitar 0 → Distribusi hampir simetris (mirip normal).\n",
    "* Positif (>0.5) → Distribusi miring ke kanan (lebih banyak nilai kecil).\n",
    "* Negatif (<-0.5) → Distribusi miring ke kiri (lebih banyak nilai besar).\n",
    "\n",
    "\n",
    "4. Kurtosis menggambarkan \"kecuraman\" distribusi. Nilai tinggi menunjukkan puncak tajam dengan ekor panjang (lebih banyak outlier), sementara nilai rendah menunjukkan distribusi lebih rata.\n",
    "* Sekitar 3 → Mirip dengan distribusi normal (mesokurtik).\n",
    "* Kurang dari 3 (platykurtic) → Distribusi lebih datar, sedikit outlier.\\\n",
    "* Lebih dari 3 (leptokurtic) → Distribusi lebih tajam, banyak outlier.\n",
    "\n",
    "5. P-value dalam distribusi data, menggambarkan apakah datanya sangat tersebar atau tidak. Jika nilai p-value lebih dari 0.05, maka kita tidak menolak hipotesis nol (H₀), yang berarti data tidak berbeda secara signifikan dari distribusi normal.\n",
    "Dengan kata lain, jika p-value > 0.05, maka kita bisa mengasumsikan bahwa data mengikuti distribusi normal dan tidak ada perbedaan mencolok dibandingkan distribusi yang diharapkan.\n",
    "Sebaliknya, jika p-value ≤ 0.05, kita menolak hipotesis nol, dan menyimpulkan bahwa data tidak terdistribusi normal\n"
   ]
  },
  {
   "cell_type": "code",
   "execution_count": 23,
   "id": "ad4e5e3e",
   "metadata": {},
   "outputs": [
    {
     "name": "stdout",
     "output_type": "stream",
     "text": [
      "Nilai varians kolom umur adalah 231.27\n",
      "Nilai skewnes kolom umur adalah -0.006\n",
      "Nilai kurtosis kolom umur adalah -1.2\n",
      "Nilai uji normalitas pvalue kolom umur adalah 0.0\n"
     ]
    }
   ],
   "source": [
    "print(f'Nilai varians kolom umur adalah {df[\"Age\"].var().__round__(2)}')         # Perhitungan nilai standar deviasi kolom umur\n",
    "print(f'Nilai skewnes kolom umur adalah {df[\"Age\"].skew().__round__(3)}')        # Perhitungan nilai skewnes atau kemiringan kolom umur\n",
    "print(f\"Nilai kurtosis kolom umur adalah {df[\"Age\"].kurtosis().__round__(2)}\")   # Perhitungan nilai kurtosis kolom umur\n",
    "res = stats.normaltest(df['Age'])\n",
    "print(f'Nilai uji normalitas pvalue kolom umur adalah {res.pvalue}')\n"
   ]
  },
  {
   "cell_type": "markdown",
   "id": "35621151",
   "metadata": {},
   "source": [
    "1. Varians = 231.27\n",
    "\n",
    "    Ini menunjukkan seberapa tersebar atau bervariasi data umur. Semakin tinggi varians, semakin besar perbedaan antar nilai umur. Dalam hal ini, angka 231.27 bisa berarti ada rentang usia yang cukup lebar.\n",
    "\n",
    "2. Skewness = -0.006\n",
    "\n",
    "    Nilai ini hampir nol, yang berarti distribusi data umur sangat simetris atau mendekati normal. Jika nilainya negatif dan lebih besar secara absolut, distribusi akan condong ke kiri (lebih banyak nilai besar di data). Tapi dengan -0.006, kemungkinan distribusinya hampir tidak condong sama sekali.\n",
    "\n",
    "3. Kurtosis = -1.2\n",
    "\n",
    "    Nilai negatif menunjukkan bahwa distribusi lebih rata dibandingkan distribusi normal. Ini berarti dataset tidak memiliki banyak outlier, dan nilai di sekitar mean lebih merata.\n",
    "\n",
    "4. p-value Uji Normalitas = 0.0\n",
    "\n",
    "    Karena p-value sangat kecil (≤ 0.05), kita menolak hipotesis nol (H0) dan menyimpulkan bahwa kolom umur tidak terdistribusi normal. Artinya, meskipun skewness hampir nol, ada pola lain dalam distribusi yang menyebabkan data tidak sesuai dengan distribusi normal.\n",
    "___"
   ]
  },
  {
   "cell_type": "code",
   "execution_count": 24,
   "id": "4d91ff3e",
   "metadata": {},
   "outputs": [
    {
     "name": "stdout",
     "output_type": "stream",
     "text": [
      "Nilai varians kolom purchase amount adalah 561.0\n",
      "Nilai skewnes kolom purchase amount adalah 0.013\n",
      "Nilai kurtosis kolom purchase amount adalah -1.24\n",
      "Nilai uji normalitas pvalue kolom purchase amout adalah 0.0\n"
     ]
    }
   ],
   "source": [
    "print(f'Nilai varians kolom purchase amount adalah {df[\"PA\"].var().__round__(2)}')         # Perhitungan nilai standar deviasi kolom purchase amount\n",
    "print(f'Nilai skewnes kolom purchase amount adalah {df[\"PA\"].skew().__round__(3)}')        # Perhitungan nilai skewnes atau kemiringan kolom purchase amount\n",
    "print(f\"Nilai kurtosis kolom purchase amount adalah {df[\"PA\"].kurtosis().__round__(2)}\")   # Perhitungan nilai kurtosis kolom purchase amount\n",
    "res = stats.normaltest(df['PA'])\n",
    "print(f'Nilai uji normalitas pvalue kolom purchase amout adalah {res.pvalue}')"
   ]
  },
  {
   "cell_type": "markdown",
   "id": "c2cb9062",
   "metadata": {},
   "source": [
    "1. Varians = 561.0\n",
    "     Nilai varians kolom purchase amout sangat besar. Dimana ini menandakan bahwa terdapat perbedaan yang signifikan dari jumlah besar transaksi.\n",
    "\n",
    "2. Skewness = 0.013\n",
    "    Nilai ini hampir nol, yang berarti distribusi simetris, mendekati normal. Artinya, jumlah pembelian pelanggan tidak terlalu condong ke sisi tertentu, tidak ada kecenderungan kuat ke angka yang lebih kecil atau lebih besar.\n",
    "\n",
    "3. Kurtosis = -1.24\n",
    "    Nilai negatif menunjukkan bahwa distribusinya lebih flat dibandingkan distribusi normal. Ini berarti jumlah pembelian pelanggan cukup merata, tanpa banyak data outlier yang bernilai signifikan perbedaannya.\n",
    "\n",
    "4. P-Value = 0.0\n",
    "    Menunjukkan bahwa purchase amount tidak terdistribusi normal secara statistik. Kita menolak hipotesis nol (H0) dan menyimpulkan bahwa datanya tidak berdistribusi normal\n",
    "___\n"
   ]
  },
  {
   "cell_type": "code",
   "execution_count": 25,
   "id": "76145e95",
   "metadata": {},
   "outputs": [
    {
     "name": "stdout",
     "output_type": "stream",
     "text": [
      "Nilai varians previous purchases adalah 208.72\n",
      "Nilai skewnes previous purchases adalah 0.003\n",
      "Nilai kurtosis previous purchases adalah -1.19\n",
      "Nilai uji normalitas pvalue kolom previous purchases adalah 0.0\n"
     ]
    }
   ],
   "source": [
    "print(f'Nilai varians previous purchases adalah {df[\"PP\"].var().__round__(2)}')         # Perhitungan nilai standar deviasi previous purchases.\n",
    "print(f'Nilai skewnes previous purchases adalah {df[\"PP\"].skew().__round__(3)}')         # Perhitungan nilai skewnes atau kemiringan previous purchases.\n",
    "print(f\"Nilai kurtosis previous purchases adalah {df[\"PP\"].kurtosis().__round__(3)}\")    # Perhitungan nilai kurtosis previous purchases.\n",
    "res = stats.normaltest(df['PP'])\n",
    "print(f'Nilai uji normalitas pvalue kolom previous purchases adalah {res.pvalue}')"
   ]
  },
  {
   "cell_type": "markdown",
   "id": "dd56e860",
   "metadata": {},
   "source": [
    "1. Varians = 208.72\n",
    "    Nilai varians dari kolom previous purchases sangat besar, yang menunjukkan bahwa jumlah besar transaksi konsumen di waktu lampau memiliki variasi data yang besar. Ada konsumen yang sering berbelanja, sementara konsumen yang lain hanya kadang-kadang berbelanja.\n",
    "\n",
    "2. Skewness = 0.003\n",
    "    Nilai skewness yang kecil ini menandakan bahwa datanya tidak condong ke arah kanan atau kiri.\n",
    "\n",
    "3. Kurtosis = -1.19\n",
    "    Nilai negatif menandakan bahwa distribusi data pembelanjaan sebelumnya adalah lebih rata namun dengan sedikit outlier, yang berarti datanya terdiri dari sedikit outlier, tetapi sedikit signifikan perbedaannya.\n",
    "\n",
    "4. p-value Uji Normalitas = 0.0\n",
    "    Karena p-value sangat kecil (≤ 0.05), ini menunjukkan bahwa datanya tidak berdistribusi normal."
   ]
  },
  {
   "cell_type": "code",
   "execution_count": 26,
   "id": "ea0c79a7",
   "metadata": {},
   "outputs": [
    {
     "name": "stdout",
     "output_type": "stream",
     "text": [
      "Nilai varians review rating  adalah 0.51\n",
      "Nilai skewnes review rating adalah 0.0\n",
      "Nilai kurtosis review rating adalah -1.18\n",
      "Nilai uji normalitas pvalue kolom review rating adalah 0.0\n"
     ]
    }
   ],
   "source": [
    "print(f'Nilai varians review rating  adalah {df[\"RR\"].var().__round__(2)}')         # Perhitungan nilai standar deviasi review rating.\n",
    "print(f'Nilai skewnes review rating adalah {df[\"RR\"].skew().__round__(2)}')         # Perhitungan nilai skewnes atau kemiringan review rating.\n",
    "print(f\"Nilai kurtosis review rating adalah {df[\"RR\"].kurtosis().__round__(2)}\")    # Perhitungan nilai kurtosis review rating.\n",
    "res = stats.normaltest(df['RR'])\n",
    "print(f'Nilai uji normalitas pvalue kolom review rating adalah {res.pvalue}')"
   ]
  },
  {
   "cell_type": "markdown",
   "id": "b72bbf45",
   "metadata": {},
   "source": [
    "1. Varians = 0.51\n",
    "    Menunjukkan bahwa perbedaan antar review rating cukup kecil, sehingga mayoritas konsumen memberikan rating yang tidak terlalu jauh perbedaannya.\n",
    "\n",
    "2. Skewness = 0.0\n",
    "    Distribusi data yang simetris, yang berarti rating tersebar secara seimbang dan tidak condong ke rating rendah atau tinggi secara signifikan.\n",
    "\n",
    "3. Kurtosis = -1.18\n",
    "    Ini menandakan bahwa konsumen cenderung memberikan rating dengan jumlah yang seimbang.\n",
    "\n",
    "4. p-value Uji Normalitas = 0.0\n",
    "    Menunjukkan bahwa distribusi review rating tidak normal secara statistik, meskipun nilai skewness dan kurtosis tidak terlalu tinggi. Hal ini bisa terjadi karena pola data yang berbeda dari distribusi normal meski terlihat cukup seimbang.\n",
    "___"
   ]
  },
  {
   "cell_type": "markdown",
   "id": "e76205c7",
   "metadata": {},
   "source": [
    "Karena terdapat beberapa kolom yang nilai kurtosisnya sedikit tinggi, maka saya ingin memverifikasi persentase outlier datanya."
   ]
  },
  {
   "cell_type": "code",
   "execution_count": 27,
   "id": "577e659a",
   "metadata": {},
   "outputs": [
    {
     "name": "stdout",
     "output_type": "stream",
     "text": [
      "Persentase outlier: 0.00%\n"
     ]
    }
   ],
   "source": [
    "# Perhitungan outlier untuk kolom purchase amount\n",
    "# Pembuatan variabel quantile atau kuartile dari purchase amount\n",
    "Q1_belanja = df['PA'].quantile(0.25)\n",
    "Q3_belanja = df['PA'].quantile(0.75)\n",
    "\n",
    "# Hitung IQR\n",
    "IQR_belanja = Q3_belanja - Q1_belanja\n",
    "\n",
    "# Menentukan batas outlier\n",
    "lower_bound_belanja = Q1_belanja - 1.5 * IQR_belanja\n",
    "upper_bound_belanja = Q3_belanja + 1.5 * IQR_belanja\n",
    "\n",
    "# Identifikasi outlier\n",
    "outliers_belanja = df[(df['PA'] < lower_bound_belanja) | (df['PA'] > upper_bound_belanja)]\n",
    "no_outliers_belanja = df[(df['PA'] >= lower_bound_belanja) & (df['PA'] <= upper_bound_belanja)]\n",
    "\n",
    "# Persentase outlier\n",
    "percent_outliers_belanja = (len(outliers_belanja) / len(df)) * 100\n",
    "print(f\"Persentase outlier: {percent_outliers_belanja:.2f}%\")"
   ]
  },
  {
   "cell_type": "code",
   "execution_count": 28,
   "id": "0c8d2ec2",
   "metadata": {},
   "outputs": [
    {
     "data": {
      "image/png": "[encoded data removed]",
      "text/plain": [
       "<Figure size 1000x400 with 2 Axes>"
      ]
     },
     "metadata": {},
     "output_type": "display_data"
    }
   ],
   "source": [
    "fig, ax = plt.subplots(ncols=2, figsize=(10,4))\n",
    "\n",
    "no_outliers_belanja['PA'].plot(kind='hist', bins=40, ax=ax[0])\n",
    "no_outliers_belanja['PA'].plot(kind='box', ax=ax[1])\n",
    "\n",
    "plt.show()"
   ]
  },
  {
   "cell_type": "code",
   "execution_count": 29,
   "id": "057afd5d",
   "metadata": {},
   "outputs": [
    {
     "name": "stdout",
     "output_type": "stream",
     "text": [
      "Persentase outlier: 2.13%\n"
     ]
    }
   ],
   "source": [
    "# Perhitungan outlier untuk kolom previous purchases\n",
    "# Menentukan kuartil pertama 1 dan 3 dari previous purchases\n",
    "Q1_sebelum = df['PP'].quantile(0.25)\n",
    "Q3_sebelum = df['PP'].quantile(0.75)\n",
    "\n",
    "# Hitung IQR\n",
    "IQR_sebelum = Q3_sebelum - Q1_sebelum\n",
    "\n",
    "# Tentukan batas outlier\n",
    "lower_bound_sebelum = Q1_belanja - 1.5 * IQR_sebelum\n",
    "upper_bound_sebelum = Q3_belanja + 1.5 * IQR_sebelum\n",
    "\n",
    "# Identifikasi outlier\n",
    "outliers_sebelum = df[(df['PP'] < lower_bound_sebelum) | (df['PP'] > upper_bound_sebelum)]\n",
    "no_outliers_sebelum = df[(df['PP'] >= lower_bound_sebelum) & (df['PP'] <= upper_bound_sebelum)]\n",
    "\n",
    "# Persentase outlier\n",
    "percent_outliers_sebelum = (len(outliers_sebelum) / len(df)) * 100\n",
    "print(f\"Persentase outlier: {percent_outliers_sebelum:.2f}%\")"
   ]
  },
  {
   "cell_type": "code",
   "execution_count": 30,
   "id": "fb7ad5f9",
   "metadata": {},
   "outputs": [
    {
     "data": {
      "image/png": "[encoded data removed]",
      "text/plain": [
       "<Figure size 1000x400 with 2 Axes>"
      ]
     },
     "metadata": {},
     "output_type": "display_data"
    }
   ],
   "source": [
    "fig, ax = plt.subplots(ncols=2, figsize=(10,4))\n",
    "\n",
    "no_outliers_belanja['PP'].plot(kind='hist', bins=40, ax=ax[0])\n",
    "no_outliers_belanja['PP'].plot(kind='box', ax=ax[1])\n",
    "\n",
    "plt.show()"
   ]
  },
  {
   "cell_type": "code",
   "execution_count": 31,
   "id": "536c6af2",
   "metadata": {},
   "outputs": [
    {
     "name": "stdout",
     "output_type": "stream",
     "text": [
      "Persentase outlier: 0.00%\n"
     ]
    }
   ],
   "source": [
    "# Perhitungan outlier untuk kolom review rating\n",
    "# Menentukan kuartil pertama 1 dan 3 dari review rating\n",
    "Q1_rating = df['RR'].quantile(0.25)\n",
    "Q3_rating = df['RR'].quantile(0.75)\n",
    "\n",
    "# Hitung IQR\n",
    "IQR_rating = Q3_rating - Q1_rating\n",
    "\n",
    "# Tentukan batas outlier\n",
    "lower_bound_rating = Q1_rating - 1.5 * IQR_rating\n",
    "upper_bound_rating = Q3_rating + 1.5 * IQR_rating\n",
    "\n",
    "# Identifikasi outlier\n",
    "outliers_rating = df[(df['RR'] < lower_bound_rating) | (df['RR'] > upper_bound_rating)]\n",
    "no_outliers_rating = df[(df['RR'] >= lower_bound_rating) & (df['RR'] <= upper_bound_rating)]\n",
    "\n",
    "# Persentase outlier\n",
    "percent_outliers_rating = (len(outliers_rating) / len(df)) * 100\n",
    "print(f\"Persentase outlier: {percent_outliers_rating:.2f}%\")"
   ]
  },
  {
   "cell_type": "code",
   "execution_count": 32,
   "id": "d9665ff6",
   "metadata": {},
   "outputs": [
    {
     "data": {
      "image/png": "[encoded data removed]",
      "text/plain": [
       "<Figure size 1000x400 with 2 Axes>"
      ]
     },
     "metadata": {},
     "output_type": "display_data"
    }
   ],
   "source": [
    "fig, ax = plt.subplots(ncols=2, figsize=(10,4))\n",
    "\n",
    "no_outliers_belanja['RR'].plot(kind='hist', bins=40, ax=ax[0])\n",
    "no_outliers_belanja['RR'].plot(kind='box', ax=ax[1])\n",
    "\n",
    "plt.show()"
   ]
  },
  {
   "cell_type": "markdown",
   "id": "e2b8c365",
   "metadata": {},
   "source": [
    "Insight:\n",
    "\n",
    "Dari hasil perhitungan dan hasil visualisasi diatas, data kolom Purchase Amount atau kolom besar jumlah transaksi, kolom previous purchases dan kolom review rating adalah kolom yang bersih tanpa outlier dengan nilai yang signifikan perbedaannya.\n",
    "___"
   ]
  },
  {
   "cell_type": "markdown",
   "id": "470e8508",
   "metadata": {},
   "source": [
    "### 5.12 Bagaimana hubungan dari keseluruhan variabel data?"
   ]
  },
  {
   "cell_type": "markdown",
   "id": "0e858adb",
   "metadata": {},
   "source": [
    "User ingin mengetahui apakah terdapat hubungan dari masing-masing variabel atau kolom. Apakah memiliki impact atau tidak, sehingga ini perlu untuk dihitung atau divisualisasikan dengan baik. Saya juga perlu untuk membuat hipotesis dalam menjawab pertanyaan ini."
   ]
  },
  {
   "cell_type": "markdown",
   "id": "31e5f1f4",
   "metadata": {},
   "source": [
    "Membuat Hipotesis:\n",
    "\n",
    "* Hipotesis Null atau Nol (H0):\n",
    "\n",
    "    Tidak terdapat hubungan yang signifikan antar variabel atau kolom.\n",
    "\n",
    "* Hipotesis Satu (H1):\n",
    "\n",
    "    Ada hubungan yang signifikan antar variabel atau kolom."
   ]
  },
  {
   "cell_type": "markdown",
   "id": "b15261da",
   "metadata": {},
   "source": [
    "Karena dataset yang digunakan distribusi atau persebarannya tidak normal, maka saya menggunakan metode Spearman untuk menghitung p-value dan besar korelasi antar variabel atau kolomnya."
   ]
  },
  {
   "cell_type": "code",
   "execution_count": 33,
   "id": "6157d752",
   "metadata": {},
   "outputs": [
    {
     "name": "stdout",
     "output_type": "stream",
     "text": [
      "rho-correlation: 0.03, p-value: 0.05782360378309655\n"
     ]
    }
   ],
   "source": [
    "# Perhitungan nilai pvalue korelasi antar kolom numerik (Purchase Amout dan Review Rating)\n",
    "corr_rho, pval_s = stats.spearmanr(df['PA'], df['RR'])\n",
    "\n",
    "print(f\"rho-correlation: {corr_rho:.2f}, p-value: {pval_s}\")"
   ]
  },
  {
   "cell_type": "markdown",
   "id": "22380319",
   "metadata": {},
   "source": [
    "Insight:\n",
    "\n",
    "Karena nilai p-value lebih besar dari 0.05, maka terima H0, yaitu tidak ada hubungan antara kolom besar jumlah transaksi dengan kolom review rating.\n",
    "___"
   ]
  },
  {
   "cell_type": "code",
   "execution_count": 34,
   "id": "676d3c8f",
   "metadata": {},
   "outputs": [
    {
     "name": "stdout",
     "output_type": "stream",
     "text": [
      "rho-correlation: 0.01, p-value: 0.6036830945527644\n"
     ]
    }
   ],
   "source": [
    "# Perhitungan nilai pvalue korelasi antar kolom numerik (Purchase Amout dan Previous Purchases)\n",
    "corr_rho, pval_s = stats.spearmanr(df['PA'], df['PP'])\n",
    "\n",
    "print(f\"rho-correlation: {corr_rho:.2f}, p-value: {pval_s}\")"
   ]
  },
  {
   "cell_type": "markdown",
   "id": "32fe304e",
   "metadata": {},
   "source": [
    "Insight:\n",
    "\n",
    "Karena nilai p-value lebih besar dari 0.05, maka terima H0, yaitu tidak ada hubungan antara kolom besar jumlah transaksi dengan kolom previous purchases.\n",
    "___"
   ]
  },
  {
   "cell_type": "code",
   "execution_count": 35,
   "id": "991343ba",
   "metadata": {},
   "outputs": [
    {
     "name": "stdout",
     "output_type": "stream",
     "text": [
      "rho-correlation: -0.01, p-value: 0.5143568334160391\n"
     ]
    }
   ],
   "source": [
    "# Perhitungan nilai pvalue korelasi antar kolom numerik (Purchase Amout dan Umur konsumen)\n",
    "corr_rho, pval_s = stats.spearmanr(df['PA'], df['Age'])\n",
    "\n",
    "print(f\"rho-correlation: {corr_rho:.2f}, p-value: {pval_s}\")"
   ]
  },
  {
   "cell_type": "markdown",
   "id": "f3a1891f",
   "metadata": {},
   "source": [
    "Insight:\n",
    "\n",
    "Karena nilai p-value lebih besar dari 0.05, maka terima H0, yaitu tidak ada hubungan antara kolom besar jumlah transaksi dengan kolom umur konsumen.\n",
    "___"
   ]
  },
  {
   "cell_type": "markdown",
   "id": "7e213501",
   "metadata": {},
   "source": [
    "Tidak ada hubungan antar masing-masing kolom numerik, namun saya ingin menampilkan matriks korelasi dari semua kolom numerik tersebut."
   ]
  },
  {
   "cell_type": "code",
   "execution_count": 36,
   "id": "7453c881",
   "metadata": {},
   "outputs": [
    {
     "data": {
      "image/png": "[encoded data removed]",
      "text/plain": [
       "<Figure size 1000x600 with 2 Axes>"
      ]
     },
     "metadata": {},
     "output_type": "display_data"
    }
   ],
   "source": [
    "numeric_columns = df.select_dtypes(include=['int64', 'float64']).columns\n",
    "correlation_matrix = df[numeric_columns].corr(method=\"pearson\")  # Menghitung korelasi Pearson\n",
    "\n",
    "# Menampilkan correlation matrix dengan heatmap\n",
    "plt.figure(figsize=(10, 6))\n",
    "sns.heatmap(correlation_matrix, annot=True, cmap=\"coolwarm\", fmt=\".2f\", linewidths=0.5)\n",
    "\n",
    "# Menambahkan judul\n",
    "plt.title(\"Correlation Matrix of Numeric Columns\")\n",
    "plt.show()\n"
   ]
  },
  {
   "cell_type": "markdown",
   "id": "7f8b4b1c",
   "metadata": {},
   "source": [
    "Dari perhitungan nilai korelasi antar kolom numerik, terlihat bahwa tidak ada hubungan yang kuat antara setiap kolom numerik. Ini berarti setiap kolom bersifat independent yang tidak dipengaruhi oleh kolom lainnya.\n",
    "___"
   ]
  },
  {
   "cell_type": "markdown",
   "id": "f3d86c8f",
   "metadata": {},
   "source": [
    "Saatnya menganalisis hubungan antara variabel kategorikal! Berikut adalah hasil perhitungan yang menunjukkan variabel kategorikal dengan tingkat keterkaitan yang tinggi."
   ]
  },
  {
   "cell_type": "code",
   "execution_count": 37,
   "id": "ff01e593",
   "metadata": {},
   "outputs": [
    {
     "name": "stdout",
     "output_type": "stream",
     "text": [
      "Chi-Square Statistic: 12.243\n",
      "P-value: 0.032\n"
     ]
    }
   ],
   "source": [
    "# Pembuatan tabel kontingensi dari kolom Gender dengan Shipping Type\n",
    "contingency_table_gender_ST = pd.crosstab(df['Gender'], df['Shipping Type'])\n",
    "\n",
    "# Melakukan uji Chi-Square\n",
    "chi2, p, dof, expected = stats.chi2_contingency(contingency_table_gender_ST)\n",
    "\n",
    "print(f\"Chi-Square Statistic: {chi2:.3f}\")\n",
    "print(f\"P-value: {p:.3f}\")"
   ]
  },
  {
   "cell_type": "markdown",
   "id": "81f85d67",
   "metadata": {},
   "source": [
    "Dengan nilai Chi-Square = 12.243 dan p-value = 0.032, berarti terima H1, yaitu ada hubungan yang kuat antara variabel atau kolom \"Gender\" dengan kolom \"Shipping Type\".\n",
    "\n",
    "Saya akan menampilkan nilai kedalaman korelasinya dengan menggunakan perhitungan Cramer's V."
   ]
  },
  {
   "cell_type": "code",
   "execution_count": 38,
   "id": "fe8c5194",
   "metadata": {},
   "outputs": [
    {
     "name": "stdout",
     "output_type": "stream",
     "text": [
      "Cramér's V: 0.056\n"
     ]
    }
   ],
   "source": [
    "# Menghitung Cramér's V\n",
    "def cramers_v(confusion_matrix):\n",
    "    chi2 = stats.chi2_contingency(confusion_matrix)[0]\n",
    "    n = confusion_matrix.sum().sum()\n",
    "    r, k = confusion_matrix.shape\n",
    "    return np.sqrt(chi2 / (n * (min(r, k) - 1)))\n",
    "\n",
    "# Contingency table dari sebelumnya\n",
    "cramers_v_value = cramers_v(contingency_table_gender_ST)\n",
    "print(f\"Cramér's V: {cramers_v_value:.3f}\")"
   ]
  },
  {
   "cell_type": "markdown",
   "id": "eb7ca03f",
   "metadata": {},
   "source": [
    "Dengan nilai Cramér's V sebesar 0.056, maka kedalaman hubungan antara variabel ini sangat lemah.\n",
    "___"
   ]
  },
  {
   "cell_type": "code",
   "execution_count": 39,
   "id": "f87b591d",
   "metadata": {},
   "outputs": [
    {
     "name": "stdout",
     "output_type": "stream",
     "text": [
      "Chi-Square Statistic: 676.794\n",
      "P-value: 0.000\n"
     ]
    }
   ],
   "source": [
    "# Pembuatan tabel kontingensi dari kolom Gender dengan Shipping Type\n",
    "contingency_table_gender_SS = pd.crosstab(df['Gender'], df['SS'])\n",
    "\n",
    "# Melakukan uji Chi-Square\n",
    "chi2, p, dof, expected = stats.chi2_contingency(contingency_table_gender_SS)\n",
    "\n",
    "print(f\"Chi-Square Statistic: {chi2:.3f}\")\n",
    "print(f\"P-value: {p:.3f}\")"
   ]
  },
  {
   "cell_type": "markdown",
   "id": "fdb86e06",
   "metadata": {},
   "source": [
    "Dengan nilai Chi-Square = 676.794 dan p-value dibawah 0.05, berarti terima H1, yaitu ada hubungan yang kuat antara variabel atau kolom \"Gender\" dengan kolom \"Subscription Status\".\n",
    "\n",
    "Saya akan menampilkan nilai kedalaman korelasinya dengan menggunakan perhitungan Cramer's V dan visualisasi korelasinya dengan heatmap dibawah ini."
   ]
  },
  {
   "cell_type": "code",
   "execution_count": 40,
   "id": "cdd921c7",
   "metadata": {},
   "outputs": [
    {
     "name": "stdout",
     "output_type": "stream",
     "text": [
      "Cramér's V: 0.417\n"
     ]
    }
   ],
   "source": [
    "# Menghitung Cramér's V\n",
    "def cramers_v(confusion_matrix):\n",
    "    chi2 = stats.chi2_contingency(confusion_matrix)[0]\n",
    "    n = confusion_matrix.sum().sum()\n",
    "    r, k = confusion_matrix.shape\n",
    "    return np.sqrt(chi2 / (n * (min(r, k) - 1)))\n",
    "\n",
    "# Contingency table dari sebelumnya\n",
    "cramers_v_value = cramers_v(contingency_table_gender_SS)\n",
    "print(f\"Cramér's V: {cramers_v_value:.3f}\")"
   ]
  },
  {
   "cell_type": "markdown",
   "id": "d484542e",
   "metadata": {},
   "source": [
    "Dengan nilai Cramér's V sebesar 0.417, kedalaman hubungan antara kedua variabel \"Gender\" dan \"Subscription Status\" termasuk dalam kategori sedang."
   ]
  },
  {
   "cell_type": "code",
   "execution_count": 41,
   "id": "b09f14a2",
   "metadata": {},
   "outputs": [
    {
     "data": {
      "image/png": "[encoded data removed]",
      "text/plain": [
       "<Figure size 600x400 with 2 Axes>"
      ]
     },
     "metadata": {},
     "output_type": "display_data"
    }
   ],
   "source": [
    "plt.figure(figsize=(6, 4))\n",
    "sns.heatmap(contingency_table_gender_SS, annot=True, cmap=\"YlGnBu\", fmt='d')\n",
    "plt.title(\"Heatmap Confussion Matrix Kolom Gender dengan Kolom Subscription Status\")\n",
    "plt.xlabel(\"SS\")\n",
    "plt.ylabel(\"Gender\")\n",
    "plt.show()"
   ]
  },
  {
   "cell_type": "markdown",
   "id": "b9705902",
   "metadata": {},
   "source": [
    "Insight:\n",
    "\n",
    "- Tidak ada gender \"Female\" yang berlangganan membership (Gender = Female & SS = Yes), frekuensi = 0\n",
    "\n",
    "- Gender \"Male\" yang berlangganan membership (Gender = Male & SS = Yes), frekuensi = 1.053\n",
    "\n",
    "- Gender \"Female\" yang tidak berlangganan membership (Gender = Female & SS = No), frekuensi = 1.248\n",
    "\n",
    "- Gender \"Male\" yang tidak berlangganan membership (Gender = Male & SS = No), frekuensi = 1.599\n",
    "\n",
    "Dari insight ini, dapat ditarik kesimpulan bahwa fitur dari berlangganan membership belum menarik perhatian gender \"Female\", sehingga perusahaan perlu untuk membuat fitur membership menjadi lebih menarik atau menambahkan fitur yang disukai oleh gender \"Female\".\n",
    "___"
   ]
  },
  {
   "cell_type": "code",
   "execution_count": 42,
   "id": "45acfeb3",
   "metadata": {},
   "outputs": [
    {
     "name": "stdout",
     "output_type": "stream",
     "text": [
      "Chi-Square Statistic: 1381.941\n",
      "P-value: 0.000\n"
     ]
    }
   ],
   "source": [
    "# Pembuatan tabel kontingensi dari kolom Gender dengan DA\n",
    "contingency_table_gender_da = pd.crosstab(df['Gender'], df['DA'])\n",
    "\n",
    "# Melakukan uji Chi-Square\n",
    "chi2, p, dof, expected = stats.chi2_contingency(contingency_table_gender_da)\n",
    "\n",
    "print(f\"Chi-Square Statistic: {chi2:.3f}\")\n",
    "print(f\"P-value: {p:.3f}\")"
   ]
  },
  {
   "cell_type": "markdown",
   "id": "f6f07dd3",
   "metadata": {},
   "source": [
    "Dengan nilai Chi-Square = 1381.941 dan p-value dibawah 0.05, berarti terima H1, yaitu ada hubungan antara variabel atau kolom \"Gender\" dengan kolom \"Discount Applied\".\n",
    "\n",
    "Saya akan menampilkan nilai kedalaman korelasinya dengan menggunakan perhitungan Cramer's V dan visualisasi korelasinya dengan heatmap dibawah ini."
   ]
  },
  {
   "cell_type": "code",
   "execution_count": 43,
   "id": "fdda6ecc",
   "metadata": {},
   "outputs": [
    {
     "name": "stdout",
     "output_type": "stream",
     "text": [
      "Cramér's V: 0.595\n"
     ]
    }
   ],
   "source": [
    "# Menghitung Cramér's V\n",
    "def cramers_v(confusion_matrix):\n",
    "    chi2 = stats.chi2_contingency(confusion_matrix)[0]\n",
    "    n = confusion_matrix.sum().sum()\n",
    "    r, k = confusion_matrix.shape\n",
    "    return np.sqrt(chi2 / (n * (min(r, k) - 1)))\n",
    "\n",
    "# Contingency table dari sebelumnya\n",
    "cramers_v_value = cramers_v(contingency_table_gender_da)\n",
    "print(f\"Cramér's V: {cramers_v_value:.3f}\")"
   ]
  },
  {
   "cell_type": "markdown",
   "id": "f217f65c",
   "metadata": {},
   "source": [
    "Dengan nilai Cramér's V sebesar 0.595, kedalaman hubungan antara kedua variabel \"Gender\" dan \"Subscription Status\" termasuk dalam kategori sedang menuju kuat."
   ]
  },
  {
   "cell_type": "code",
   "execution_count": 44,
   "id": "b85c9a39",
   "metadata": {},
   "outputs": [
    {
     "data": {
      "image/png": "[encoded data removed]",
      "text/plain": [
       "<Figure size 600x400 with 2 Axes>"
      ]
     },
     "metadata": {},
     "output_type": "display_data"
    }
   ],
   "source": [
    "plt.figure(figsize=(6, 4))\n",
    "sns.heatmap(contingency_table_gender_da, annot=True, cmap=\"YlGnBu\", fmt='d')\n",
    "plt.title(\"Heatmap Korelasi Kolom Gender dengan Kolom Discount Applied\")\n",
    "plt.xlabel(\"DA\")\n",
    "plt.ylabel(\"Gender\")\n",
    "plt.show()"
   ]
  },
  {
   "cell_type": "markdown",
   "id": "6cd9bd4c",
   "metadata": {},
   "source": [
    "Insight:\n",
    "\n",
    "- Tidak ada gender \"Female\" yang menggunakan diskon (Gender = Female & DA = Yes), frekuensi = 0.\n",
    "\n",
    "- Gender \"Male\" yang menggunakan diskon (Gender = Male & DA = Yes), frekuensi = 1.677.\n",
    "\n",
    "- Gender \"Female\" yang tidak menggunakan diskon (Gender = Female & DA = No), frekuensi = 1.248.\n",
    "\n",
    "- Gender \"Male\" yang tidak menggunakan diskon (Gender = Male & DA = No), frekuensi = 975.\n",
    "\n",
    "Dari insight ini, dapat ditarik kesimpulan bahwa tidak ada gender \"Female\" yang mengajukan atau menggunakan diskon, akan tetapi terdapat gender \"Male\" yang mengajukan atau menggunakan diskon, sehingga fitur potongan harga ini perlu untuk dipertahankan keberadaannya.\n",
    "___"
   ]
  },
  {
   "cell_type": "code",
   "execution_count": 45,
   "id": "d2f1c11f",
   "metadata": {},
   "outputs": [
    {
     "name": "stdout",
     "output_type": "stream",
     "text": [
      "Chi-Square Statistic: 1908.921\n",
      "P-value: 0.000\n"
     ]
    }
   ],
   "source": [
    "# Pembuatan tabel kontingensi dari kolom discount applied dengan subscription status\n",
    "contingency_table = pd.crosstab(df['DA'], df['SS'])\n",
    "\n",
    "# Melakukan uji Chi-Square\n",
    "chi2, p, dof, expected = stats.chi2_contingency(contingency_table)\n",
    "\n",
    "print(f\"Chi-Square Statistic: {chi2:.3f}\")\n",
    "print(f\"P-value: {p:.3f}\")"
   ]
  },
  {
   "cell_type": "markdown",
   "id": "692b58d8",
   "metadata": {},
   "source": [
    "Nilai p-value dibawah 0.05, yang berarti adalah terima H1 atau terdapat hubungan dari variabel atau kolom \"Discount Applied\" dengan \"Subscription Status\". Saya akan menampilkan nilai kedalaman korelasinya dengan menggunakan perhitungan Cramer's V dan visualisasi korelasinya dengan heatmap dibawah ini."
   ]
  },
  {
   "cell_type": "code",
   "execution_count": 46,
   "id": "cced05ac",
   "metadata": {},
   "outputs": [
    {
     "name": "stdout",
     "output_type": "stream",
     "text": [
      "Cramér's V: 0.700\n"
     ]
    }
   ],
   "source": [
    "# Menghitung Cramér's V\n",
    "def cramers_v(confusion_matrix):\n",
    "    chi2 = stats.chi2_contingency(confusion_matrix)[0]\n",
    "    n = confusion_matrix.sum().sum()\n",
    "    r, k = confusion_matrix.shape\n",
    "    return np.sqrt(chi2 / (n * (min(r, k) - 1)))\n",
    "\n",
    "# Contingency table dari sebelumnya\n",
    "cramers_v_value = cramers_v(contingency_table)\n",
    "print(f\"Cramér's V: {cramers_v_value:.3f}\")"
   ]
  },
  {
   "cell_type": "markdown",
   "id": "66571b5d",
   "metadata": {},
   "source": [
    "Dengan nilai Cramér's V sebesar 0.7, maka hubungan antara variabel \"Discount Applied\" dengan variabel \"Subscription Status\" cukup erat, yang berkorelasi secara positif, sehingga dapat diambil kesimpulan bahwa konsumen yang berlangganan membership, akan menggunakan diskon, dan sebaliknya, konsumen yang menggunakan diskon adalah konsumen yang berlangganan membership toko. "
   ]
  },
  {
   "cell_type": "code",
   "execution_count": 47,
   "id": "95e0bd19",
   "metadata": {},
   "outputs": [
    {
     "data": {
      "image/png": "[encoded data removed]",
      "text/plain": [
       "<Figure size 600x400 with 2 Axes>"
      ]
     },
     "metadata": {},
     "output_type": "display_data"
    }
   ],
   "source": [
    "plt.figure(figsize=(6, 4))\n",
    "sns.heatmap(contingency_table, annot=True, cmap=\"YlGnBu\", fmt='d')\n",
    "plt.title(\"Categorical Column Confusion Matrix (DA & SS)\")\n",
    "plt.xlabel(\"Subscription Status\")\n",
    "plt.ylabel(\"Discount Applied\")\n",
    "plt.show()\n"
   ]
  },
  {
   "cell_type": "markdown",
   "id": "9a6f6118",
   "metadata": {},
   "source": [
    "**Insight:**\n",
    "\n",
    "- Konsumen tidak mengajukan diskon dan konsumen tidak memiliki membership (DA = No & SS = No), frekuensi = 2223.\n",
    "\n",
    "- Konsumen tidak mengajukan diskon, dan konsumen berlangganan membership (DA = No & SS = Yes), frekuensi = 0.\n",
    "\n",
    "- Konsumen mengajukan diskon dan konsumen tersebut berlangganan membership (DA = Yes & SS = Yes), frekuensi = 1053.\n",
    "\n",
    "- Konsumen mengajukan diskon dan konsumen tersebut berlangganan membership (DA = Yes & SS = No), frekuensi = 624.\n",
    "\n",
    "Seluruh pelanggan yang berlangganan membership (Subscription Status = Yes) menggunakan diskon (Discount Applied = Yes), sebagaimana ditunjukkan dengan tidak adanya pelanggan dalam kategori “Tidak Menggunakan Diskon + Membership.” Hal ini secara kuat menunjukkan bahwa fitur diskon memiliki keterkaitan yang erat dengan penggunaan membership. \n",
    "\n",
    "Selain itu, meskipun sebagian besar pelanggan non-member juga memanfaatkan diskon (624 dari 2.847 pelanggan non-member), manfaat diskon tampaknya sangat menarik terutama bagi pelanggan yang telah berlangganan.\n",
    "\n",
    "Pola ini mengindikasikan bahwa fitur diskon bisa menjadi pendorong utama untuk meningkatkan jumlah pelanggan yang berlangganan, atau menjadi insentif eksklusif yang melekat pada pengalaman membership. Untuk memaksimalkan potensi ini, perusahaan dapat memperkuat promosi manfaat diskon dalam program membership, atau bahkan menguji kampanye “diskon khusus untuk member” guna meningkatkan keterlibatan pelanggan dan tingkat langganan.\n"
   ]
  },
  {
   "cell_type": "markdown",
   "id": "22e6a5bd",
   "metadata": {},
   "source": [
    "\n",
    "___"
   ]
  },
  {
   "cell_type": "markdown",
   "id": "61e696d4",
   "metadata": {},
   "source": [
    "## 6. Conclusion"
   ]
  },
  {
   "cell_type": "markdown",
   "id": "854f7064",
   "metadata": {},
   "source": [
    "### 6.1 Conclusion\n",
    "\n",
    "Setelah menganalisis data ini, maka terdapat beberapa kesimpulan yang dibuat. \n",
    "\n",
    "Terdapat beberapa aspek yang dapat dipertimbangkan oleh perusahaan untuk dapat menarik perhatian konsumen, yaitu:\n",
    "\n",
    "1. Jenis dan Merk Barang yang Dijual\n",
    "\n",
    "    Perusahaan perlu mempertimbangkan tentang tren dari merk serta minat dari para konsumen tentang barang yang dijual. Dengan mengikuti perkembangan jaman serta minat yang besar dari konsumen, maka perusahaan dapat menarik perhatian belanja dari konsumen, serta menciptakan konsumen yang baru di waktu yang sama.\n",
    "\n",
    "2. Fitur Berlangganan Membership\n",
    "\n",
    "    Perusahaan perlu untuk mempertimbangkan dan menambahkan fitur yang akan didapatkan seorang konsumen yang berlangganan membership toko, sehingga jika konsumen beranggapan bahwa fitur yang dimiliki adalah \"menguntungkan\", tentu saja untuk kedua belah pihak, maka konsumen cenderung akan melakukan transaksi / berbelanja. Fitur berlangganan yang lebih \"menarik\" juga akan menciptakan konsumen baru bagi perusahaan.\n",
    "\n",
    "3. Mempertahankan Fitur Diskon Belanja\n",
    "\n",
    "    Perusahaan perlu untuk tetap mempertahankan fitur diskon ini, karena banyak konsumen yang akan merasa \"terbantu\" dengan adanya fitur potongan harga. Perusahaan juga dapat menambahkan besar potongan harga jika jumlah transaksi meningkat, sehingga konsumen cenderung akan bertransaksi dengan jumlah yang lebih banyak.\n",
    "\n",
    "4. Pertimbangan \"Event\" Sesuai Musim\n",
    "\n",
    "    Event yang menarik dan sesuai di musim yang berbeda-beda juga akan menarik perhatian dari konsumen tetap / konsumen baru, sehingga jumlah transaksi akan meningkat. \n",
    "\n",
    "5. Perbaikan Kualitas Pelayanan dan Barang Yang Dijual\n",
    "\n",
    "    Dari rata-rata perhitungan hasil review, rata-rata yang didapatkan adalah 3.75. Ini adalah nilai yang rendah karena konsumen cenderung merasa \"biasa\" saja dengan kualitas pelayanan dan barang yang dijual, sehingga perlu dilaksanakan pelatihan kepada para karyawan untuk memperbaiki sifat yang dimiliki. Selain itu, perusahaan juga perlu memperhatikan kualitas barang yang dijual, sehingga konsumen dapat merasa puas dan nilai rating dapat meningkat.\n",
    "___\n"
   ]
  }
 ],
 "metadata": {
  "kernelspec": {
   "display_name": "base",
   "language": "python",
   "name": "python3"
  },
  "language_info": {
   "codemirror_mode": {
    "name": "ipython",
    "version": 3
   },
   "file_extension": ".py",
   "mimetype": "text/x-python",
   "name": "python",
   "nbconvert_exporter": "python",
   "pygments_lexer": "ipython3",
   "version": "3.12.3"
  }
 },
 "nbformat": 4,
 "nbformat_minor": 5
}
